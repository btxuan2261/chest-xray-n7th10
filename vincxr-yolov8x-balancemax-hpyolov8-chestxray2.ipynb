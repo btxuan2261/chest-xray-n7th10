{
 "cells": [
  {
   "cell_type": "code",
   "execution_count": 1,
   "id": "7f255e21",
   "metadata": {
    "_cell_guid": "b1076dfc-b9ad-4769-8c92-a6c4dae69d19",
    "_uuid": "8f2839f25d086af736a60e9eeb907d3b93b6e0e5",
    "execution": {
     "iopub.execute_input": "2024-09-24T10:50:26.989797Z",
     "iopub.status.busy": "2024-09-24T10:50:26.989286Z",
     "iopub.status.idle": "2024-09-24T10:51:46.974968Z",
     "shell.execute_reply": "2024-09-24T10:51:46.973959Z"
    },
    "papermill": {
     "duration": 80.004368,
     "end_time": "2024-09-24T10:51:46.977318",
     "exception": false,
     "start_time": "2024-09-24T10:50:26.972950",
     "status": "completed"
    },
    "tags": []
   },
   "outputs": [],
   "source": [
    "# Install required packages\n",
    "!pip install -q ultralytics\n",
    "!pip install -q albumentations\n",
    "!pip install -q torch torchvision\n",
    "!pip install -q pyyaml\n",
    "!pip install -q wandb\n",
    "!pip install -q torchsummary"
   ]
  },
  {
   "cell_type": "code",
   "execution_count": 2,
   "id": "bcb009ff",
   "metadata": {
    "execution": {
     "iopub.execute_input": "2024-09-24T10:51:46.997799Z",
     "iopub.status.busy": "2024-09-24T10:51:46.997473Z",
     "iopub.status.idle": "2024-09-24T10:51:56.461947Z",
     "shell.execute_reply": "2024-09-24T10:51:56.460925Z"
    },
    "papermill": {
     "duration": 9.477262,
     "end_time": "2024-09-24T10:51:56.464473",
     "exception": false,
     "start_time": "2024-09-24T10:51:46.987211",
     "status": "completed"
    },
    "tags": []
   },
   "outputs": [
    {
     "name": "stderr",
     "output_type": "stream",
     "text": [
      "/opt/conda/lib/python3.10/site-packages/albumentations/__init__.py:13: UserWarning: A new version of Albumentations is available: 1.4.16 (you have 1.4.14). Upgrade using: pip install -U albumentations. To disable automatic update checks, set the environment variable NO_ALBUMENTATIONS_UPDATE to 1.\n",
      "  check_for_updates()\n"
     ]
    },
    {
     "name": "stdout",
     "output_type": "stream",
     "text": [
      "Creating new Ultralytics Settings v0.0.6 file ✅ \n",
      "View Ultralytics Settings with 'yolo settings' or at '/root/.config/Ultralytics/settings.json'\n",
      "Update Settings with 'yolo settings key=value', i.e. 'yolo settings runs_dir=path/to/dir'. For help see https://docs.ultralytics.com/quickstart/#ultralytics-settings.\n"
     ]
    }
   ],
   "source": [
    "# Import necessary libraries\n",
    "import os\n",
    "import wandb\n",
    "import pandas as pd\n",
    "from pathlib import Path\n",
    "from sklearn.utils import resample\n",
    "from sklearn.model_selection import train_test_split\n",
    "import yaml\n",
    "from albumentations import Compose, RandomRotate90, Flip, Transpose, ShiftScaleRotate, RandomBrightnessContrast\n",
    "from ultralytics import YOLO\n",
    "import torch\n",
    "import torch.nn as nn\n",
    "import torch.nn.functional as F"
   ]
  },
  {
   "cell_type": "code",
   "execution_count": 3,
   "id": "eb5d1fe6",
   "metadata": {
    "execution": {
     "iopub.execute_input": "2024-09-24T10:51:56.486093Z",
     "iopub.status.busy": "2024-09-24T10:51:56.485302Z",
     "iopub.status.idle": "2024-09-24T10:51:57.611862Z",
     "shell.execute_reply": "2024-09-24T10:51:57.610875Z"
    },
    "papermill": {
     "duration": 1.138847,
     "end_time": "2024-09-24T10:51:57.613856",
     "exception": false,
     "start_time": "2024-09-24T10:51:56.475009",
     "status": "completed"
    },
    "tags": []
   },
   "outputs": [
    {
     "name": "stderr",
     "output_type": "stream",
     "text": [
      "\u001b[34m\u001b[1mwandb\u001b[0m: W&B API key is configured. Use \u001b[1m`wandb login --relogin`\u001b[0m to force relogin\n",
      "\u001b[34m\u001b[1mwandb\u001b[0m: \u001b[33mWARNING\u001b[0m If you're specifying your api key in code, ensure this code is not shared publicly.\n",
      "\u001b[34m\u001b[1mwandb\u001b[0m: \u001b[33mWARNING\u001b[0m Consider setting the WANDB_API_KEY environment variable, or running `wandb login` from the command line.\n",
      "\u001b[34m\u001b[1mwandb\u001b[0m: Appending key for api.wandb.ai to your netrc file: /root/.netrc\n"
     ]
    },
    {
     "name": "stdout",
     "output_type": "stream",
     "text": [
      "Wandb login successful.\n"
     ]
    }
   ],
   "source": [
    "# Setup wandb securely\n",
    "# It's recommended to set the WANDB_API_KEY as an environment variable for security\n",
    "# For example, in your environment, set WANDB_API_KEY=your_key\n",
    "# Here, we retrieve it using os.getenv. If not set, you can manually input or handle accordingly.\n",
    "wandb_api_key = '4f88ff0bbc6e3485258bca7079d7da4c47798ccd' #os.getenv('WANDB_API_KEY')\n",
    "if wandb_api_key:\n",
    "    wandb.login(key=wandb_api_key)\n",
    "    print(\"Wandb login successful.\")\n",
    "else:\n",
    "    # Handle the absence of the API key appropriately\n",
    "    # For security, avoid hardcoding the key. Instead, prompt the user or skip logging in.\n",
    "    print(\"Wandb API key not found. Skipping wandb login.\")\n",
    "\n",
    "# # Initialize a new wandb run (only if logged in)\n",
    "# if wandb_api_key:\n",
    "#     wandb.init(project='vincxr_yolov8x_balanceMax_HPYOLOv8_ChestXray', name='time11hour', reinit=True)\n",
    "\n",
    "# Define paths to data directories\n",
    "ROOT = Path(\"/kaggle/input/vinbigdata-yolo-dataset-with-wbf-640px-16class/vinbigdata-yolo-dataset-with-wbf-640px-16class\")\n"
   ]
  },
  {
   "cell_type": "code",
   "execution_count": 4,
   "id": "2896aaa8",
   "metadata": {
    "execution": {
     "iopub.execute_input": "2024-09-24T10:51:57.635442Z",
     "iopub.status.busy": "2024-09-24T10:51:57.635146Z",
     "iopub.status.idle": "2024-09-24T10:51:57.639719Z",
     "shell.execute_reply": "2024-09-24T10:51:57.638867Z"
    },
    "papermill": {
     "duration": 0.017674,
     "end_time": "2024-09-24T10:51:57.641752",
     "exception": false,
     "start_time": "2024-09-24T10:51:57.624078",
     "status": "completed"
    },
    "tags": []
   },
   "outputs": [],
   "source": [
    "from typing import List\n",
    "\n",
    "def ls(path: Path) -> List[Path]:\n",
    "    \"\"\"List all files and directories in the given path.\"\"\"\n",
    "    return list(path.iterdir())"
   ]
  },
  {
   "cell_type": "code",
   "execution_count": 5,
   "id": "f30db35c",
   "metadata": {
    "execution": {
     "iopub.execute_input": "2024-09-24T10:51:57.662413Z",
     "iopub.status.busy": "2024-09-24T10:51:57.662132Z",
     "iopub.status.idle": "2024-09-24T10:51:57.676902Z",
     "shell.execute_reply": "2024-09-24T10:51:57.675922Z"
    },
    "papermill": {
     "duration": 0.027335,
     "end_time": "2024-09-24T10:51:57.678864",
     "exception": false,
     "start_time": "2024-09-24T10:51:57.651529",
     "status": "completed"
    },
    "tags": []
   },
   "outputs": [
    {
     "name": "stdout",
     "output_type": "stream",
     "text": [
      "Contents of ROOT directory:\n",
      "/kaggle/input/vinbigdata-yolo-dataset-with-wbf-640px-16class/vinbigdata-yolo-dataset-with-wbf-640px-16class/val.txt\n",
      "/kaggle/input/vinbigdata-yolo-dataset-with-wbf-640px-16class/vinbigdata-yolo-dataset-with-wbf-640px-16class/test.txt\n",
      "/kaggle/input/vinbigdata-yolo-dataset-with-wbf-640px-16class/vinbigdata-yolo-dataset-with-wbf-640px-16class/data.yaml\n",
      "/kaggle/input/vinbigdata-yolo-dataset-with-wbf-640px-16class/vinbigdata-yolo-dataset-with-wbf-640px-16class/train.txt\n",
      "/kaggle/input/vinbigdata-yolo-dataset-with-wbf-640px-16class/vinbigdata-yolo-dataset-with-wbf-640px-16class/val\n",
      "/kaggle/input/vinbigdata-yolo-dataset-with-wbf-640px-16class/vinbigdata-yolo-dataset-with-wbf-640px-16class/test\n",
      "/kaggle/input/vinbigdata-yolo-dataset-with-wbf-640px-16class/vinbigdata-yolo-dataset-with-wbf-640px-16class/train\n"
     ]
    }
   ],
   "source": [
    "# List contents of ROOT to verify data structure\n",
    "print(\"Contents of ROOT directory:\")\n",
    "for item in ls(ROOT):\n",
    "    print(item)"
   ]
  },
  {
   "cell_type": "code",
   "execution_count": 6,
   "id": "689214e2",
   "metadata": {
    "execution": {
     "iopub.execute_input": "2024-09-24T10:51:57.700793Z",
     "iopub.status.busy": "2024-09-24T10:51:57.700473Z",
     "iopub.status.idle": "2024-09-24T10:51:58.019948Z",
     "shell.execute_reply": "2024-09-24T10:51:58.018914Z"
    },
    "papermill": {
     "duration": 0.332751,
     "end_time": "2024-09-24T10:51:58.022047",
     "exception": false,
     "start_time": "2024-09-24T10:51:57.689296",
     "status": "completed"
    },
    "tags": []
   },
   "outputs": [
    {
     "name": "stdout",
     "output_type": "stream",
     "text": [
      "Using device: cuda\n"
     ]
    }
   ],
   "source": [
    "import numpy as np\n",
    "\n",
    "# Number of images per class\n",
    "class_counts = [5481, 255, 851, 4046, 519, 904, 1097, 2188, 2324, 1945, 2190, 4308, 195, 4097, 15525, 29347]\n",
    "\n",
    "# Compute class-balanced weights\n",
    "beta = 0.9999\n",
    "effective_num = 1.0 - np.power(beta, class_counts)\n",
    "weights = (1.0 - beta) / effective_num\n",
    "weights = weights / np.sum(weights) * len(class_counts)\n",
    "\n",
    "# Assign to device dynamically\n",
    "device = torch.device(\"cuda\" if torch.cuda.is_available() else \"cpu\")\n",
    "weights = torch.tensor(weights).float().to(device)\n",
    "print(f\"Using device: {device}\")\n",
    "\n",
    "# Define Class-balanced Focal Loss\n",
    "class CBFocalLoss(nn.Module):\n",
    "    \"\"\"\n",
    "    Class-Balanced Focal Loss to address class imbalance.\n",
    "    \"\"\"\n",
    "    def __init__(self, weights, gamma=2.0):\n",
    "        super().__init__()\n",
    "        self.weights = weights\n",
    "        self.gamma = gamma\n",
    "        \n",
    "    def forward(self, logits, labels):\n",
    "        \"\"\"\n",
    "        Compute the focal loss between `logits` and the ground truth `labels`.\n",
    "\n",
    "        Args:\n",
    "            logits (Tensor): Predicted logits with shape (N, C).\n",
    "            labels (Tensor): Ground truth class indices with shape (N,).\n",
    "\n",
    "        Returns:\n",
    "            Tensor: Scalar loss value.\n",
    "        \"\"\"\n",
    "        ce_loss = F.cross_entropy(logits, labels, reduction='none')\n",
    "        pt = torch.exp(-ce_loss)\n",
    "        focal_loss = (self.weights[labels] * (1 - pt)**self.gamma * ce_loss).mean()\n",
    "        return focal_loss"
   ]
  },
  {
   "cell_type": "code",
   "execution_count": 7,
   "id": "031c1ba5",
   "metadata": {
    "execution": {
     "iopub.execute_input": "2024-09-24T10:51:58.043228Z",
     "iopub.status.busy": "2024-09-24T10:51:58.042902Z",
     "iopub.status.idle": "2024-09-24T10:51:58.046998Z",
     "shell.execute_reply": "2024-09-24T10:51:58.046235Z"
    },
    "papermill": {
     "duration": 0.01675,
     "end_time": "2024-09-24T10:51:58.048845",
     "exception": false,
     "start_time": "2024-09-24T10:51:58.032095",
     "status": "completed"
    },
    "tags": []
   },
   "outputs": [],
   "source": [
    "# Initialize the updated loss function\n",
    "focal_loss = CBFocalLoss(weights).to(device)"
   ]
  },
  {
   "cell_type": "code",
   "execution_count": 8,
   "id": "4dac309c",
   "metadata": {
    "execution": {
     "iopub.execute_input": "2024-09-24T10:51:58.070485Z",
     "iopub.status.busy": "2024-09-24T10:51:58.070162Z",
     "iopub.status.idle": "2024-09-24T10:51:58.083651Z",
     "shell.execute_reply": "2024-09-24T10:51:58.082847Z"
    },
    "papermill": {
     "duration": 0.026904,
     "end_time": "2024-09-24T10:51:58.085553",
     "exception": false,
     "start_time": "2024-09-24T10:51:58.058649",
     "status": "completed"
    },
    "tags": []
   },
   "outputs": [],
   "source": [
    "# Use callbacks to monkey-patch the YOLODataset class with a weighted dataset\n",
    "def patch_dataset(trainer):\n",
    "    \"\"\"\n",
    "    Monkey-patch the YOLODataset to implement a weighted dataset for class balancing.\n",
    "\n",
    "    Args:\n",
    "        trainer: The YOLO trainer instance.\n",
    "    \"\"\"\n",
    "    from ultralytics.data.dataset import YOLODataset\n",
    "    import ultralytics.data.build as build\n",
    "    import numpy as np\n",
    "\n",
    "    class YOLOWeightedDataset(YOLODataset):\n",
    "        \"\"\"\n",
    "        A weighted dataset that samples images based on class frequencies.\n",
    "        \"\"\"\n",
    "        def __init__(self, *args, mode=\"train\", **kwargs):\n",
    "            super(YOLOWeightedDataset, self).__init__(*args, **kwargs)\n",
    "            self.train_mode = \"train\" in self.prefix\n",
    "            self.count_instances()\n",
    "            class_weights = np.sum(self.counts) / self.counts\n",
    "            self.class_weights = np.array(class_weights)\n",
    "            self.weights = self.calculate_weights()\n",
    "            self.probabilities = self.calculate_probabilities()\n",
    "\n",
    "        def count_instances(self):\n",
    "            \"\"\"Count the number of instances per class.\"\"\"\n",
    "            self.counts = [0 for _ in range(len(self.data[\"names\"]))]\n",
    "            for label in self.labels:\n",
    "                cls = label['cls'].reshape(-1).astype(int)\n",
    "                for id in cls:\n",
    "                    self.counts[id] += 1\n",
    "            self.counts = np.array(self.counts)\n",
    "            self.counts = np.where(self.counts == 0, 1, self.counts)\n",
    "\n",
    "        def calculate_weights(self):\n",
    "            \"\"\"Calculate weights for each label based on class weights.\"\"\"\n",
    "            weights = []\n",
    "            for label in self.labels:\n",
    "                cls = label['cls'].reshape(-1).astype(int)\n",
    "                if cls.size == 0:\n",
    "                    weights.append(1)\n",
    "                    continue\n",
    "                weight = np.max(self.class_weights[cls])\n",
    "                weights.append(weight)\n",
    "            return weights\n",
    "\n",
    "        def calculate_probabilities(self):\n",
    "            \"\"\"Calculate sampling probabilities based on weights.\"\"\"\n",
    "            total_weight = sum(self.weights)\n",
    "            probabilities = [w / total_weight for w in self.weights]\n",
    "            return probabilities\n",
    "\n",
    "        def __getitem__(self, index):\n",
    "            \"\"\"\n",
    "            Get an item by sampling based on probabilities during training.\n",
    "\n",
    "            Args:\n",
    "                index (int): Index of the data.\n",
    "\n",
    "            Returns:\n",
    "                Tuple: Transformed image and labels.\n",
    "            \"\"\"\n",
    "            if not self.train_mode:\n",
    "                return self.transforms(self.get_image_and_label(index))\n",
    "            else:\n",
    "                sampled_index = np.random.choice(len(self.labels), p=self.probabilities)\n",
    "                return self.transforms(self.get_image_and_label(sampled_index))\n",
    "\n",
    "    # Apply the monkey-patch\n",
    "    build.YOLODataset = YOLOWeightedDataset\n",
    "    print(\"YOLODataset has been monkey-patched with YOLOWeightedDataset.\")"
   ]
  },
  {
   "cell_type": "code",
   "execution_count": 9,
   "id": "659785af",
   "metadata": {
    "execution": {
     "iopub.execute_input": "2024-09-24T10:51:58.106727Z",
     "iopub.status.busy": "2024-09-24T10:51:58.106404Z",
     "iopub.status.idle": "2024-09-24T10:51:58.123482Z",
     "shell.execute_reply": "2024-09-24T10:51:58.122843Z"
    },
    "papermill": {
     "duration": 0.030046,
     "end_time": "2024-09-24T10:51:58.125318",
     "exception": false,
     "start_time": "2024-09-24T10:51:58.095272",
     "status": "completed"
    },
    "tags": []
   },
   "outputs": [],
   "source": [
    "# # Define custom modules and loss functions\n",
    "# class DyReLU(nn.Module):\n",
    "#     \"\"\"\n",
    "#     Dynamic ReLU activation function with adaptive coefficients.\n",
    "#     \"\"\"\n",
    "#     def __init__(self, channels, reduction=4, k=2, conv_type='2d'):\n",
    "#         super(DyReLU, self).__init__()\n",
    "#         self.channels = channels\n",
    "#         self.k = k\n",
    "#         self.conv_type = conv_type\n",
    "#         assert self.conv_type in ['1d', '2d'], \"conv_type must be '1d' or '2d'\"\n",
    "\n",
    "#         self.fc1 = nn.Linear(channels, channels // reduction)\n",
    "#         self.relu = nn.ReLU(inplace=True)\n",
    "#         self.fc2 = nn.Linear(channels // reduction, 2*k)\n",
    "#         self.sigmoid = nn.Sigmoid()\n",
    "\n",
    "#         self.register_buffer('lambdas', torch.Tensor([1.]*k + [0.5]*k).float())\n",
    "#         self.register_buffer('init_v', torch.Tensor([1.] + [0.]*(2*k - 1)).float())\n",
    "\n",
    "#     def get_relu_coefs(self, x):\n",
    "#         theta = torch.mean(x, dim=-1)\n",
    "#         if self.conv_type == '2d':\n",
    "#             theta = torch.mean(theta, dim=-1)\n",
    "#         theta = self.fc1(theta)\n",
    "#         theta = self.relu(theta)\n",
    "#         theta = self.fc2(theta)\n",
    "#         theta = 2 * self.sigmoid(theta) - 1\n",
    "#         return theta\n",
    "\n",
    "#     def forward(self, x):\n",
    "#         assert x.shape[1] == self.channels, f\"Expected input with {self.channels} channels, got {x.shape[1]}\"\n",
    "#         theta = self.get_relu_coefs(x)\n",
    "#         relu_coefs = theta.view(-1, self.channels, 2*self.k) * self.lambdas + self.init_v\n",
    "\n",
    "#         if self.conv_type == '2d':\n",
    "#             # (B, C, H, W) -> (B, C, H, W, 1)\n",
    "#             x_perm = x.unsqueeze(-1)\n",
    "#             output = x_perm * relu_coefs[:, :, :self.k] + relu_coefs[:, :, self.k:]\n",
    "#             result = torch.max(output, dim=-1)[0]\n",
    "#         else:\n",
    "#             # (B, C, L) -> (B, C, L, 1)\n",
    "#             x_perm = x.unsqueeze(-1)\n",
    "#             output = x_perm * relu_coefs[:, :, :self.k] + relu_coefs[:, :, self.k:]\n",
    "#             result = torch.max(output, dim=-1)[0]\n",
    "#         return result\n",
    "\n",
    "# class DMBottleneck(nn.Module):\n",
    "#     \"\"\"\n",
    "#     Bottleneck module with OSRA, IDConv, and STE components.\n",
    "#     \"\"\"\n",
    "#     def __init__(self, c1, c2):\n",
    "#         super().__init__()\n",
    "#         self.split = nn.Sequential(\n",
    "#             nn.Conv2d(c1, c1 // 2, kernel_size=1, bias=False),\n",
    "#             nn.BatchNorm2d(c1 // 2),\n",
    "#             nn.SiLU()\n",
    "#         )\n",
    "#         self.osra = OSRA(c1 // 2, c2 // 2)\n",
    "#         self.idconv = IDConv(c1 // 2, c2 // 2)\n",
    "#         self.ste = STE(c2)\n",
    "\n",
    "#     def forward(self, x):\n",
    "#         x1, x2 = self.split(x).chunk(2, dim=1)\n",
    "#         x1 = self.osra(x1)\n",
    "#         x2 = self.idconv(x2)\n",
    "#         x = torch.cat([x1, x2], dim=1)\n",
    "#         x = self.ste(x)\n",
    "#         return x\n",
    "\n",
    "# class OSRA(nn.Module):\n",
    "#     \"\"\"\n",
    "#     OSRA module for attention on spatial regions.\n",
    "#     \"\"\"\n",
    "#     def __init__(self, c1, c2):\n",
    "#         super().__init__()\n",
    "#         self.conv = nn.Conv2d(c1, c2, kernel_size=3, padding=1, bias=False)\n",
    "#         self.bn = nn.BatchNorm2d(c2)\n",
    "#         self.act = nn.SiLU()\n",
    "\n",
    "#     def forward(self, x):\n",
    "#         x = self.conv(x)\n",
    "#         x = self.bn(x)\n",
    "#         x = self.act(x)\n",
    "#         return x\n",
    "\n",
    "# class IDConv(nn.Module):\n",
    "#     \"\"\"\n",
    "#     IDConv module for identity-based convolution.\n",
    "#     \"\"\"\n",
    "#     def __init__(self, c1, c2, r=4):\n",
    "#         super().__init__()\n",
    "#         self.conv1 = nn.Conv2d(c1, c1 // r, kernel_size=1, bias=False)\n",
    "#         self.bn1 = nn.BatchNorm2d(c1 // r)\n",
    "#         self.act1 = nn.SiLU()\n",
    "#         self.conv2 = nn.Conv2d(c1 // r, c2, kernel_size=1, bias=False)\n",
    "#         self.bn2 = nn.BatchNorm2d(c2)\n",
    "#         self.act2 = nn.SiLU()\n",
    "\n",
    "#     def forward(self, x):\n",
    "#         x = self.conv1(x)\n",
    "#         x = self.bn1(x)\n",
    "#         x = self.act1(x)\n",
    "#         x = self.conv2(x)\n",
    "#         x = self.bn2(x)\n",
    "#         x = self.act2(x)\n",
    "#         return x\n",
    "\n",
    "# class STE(nn.Module):\n",
    "#     \"\"\"\n",
    "#     STE module for shortcut and transformation.\n",
    "#     \"\"\"\n",
    "#     def __init__(self, c, r=4):\n",
    "#         super().__init__()\n",
    "#         self.conv1 = nn.Conv2d(c, c // r, kernel_size=1, bias=False)\n",
    "#         self.bn1 = nn.BatchNorm2d(c // r)\n",
    "#         self.act1 = nn.SiLU()\n",
    "#         self.conv2 = nn.Conv2d(c // r, c, kernel_size=1, bias=False)\n",
    "#         self.bn2 = nn.BatchNorm2d(c)\n",
    "#         self.act2 = nn.SiLU()\n",
    "\n",
    "#     def forward(self, x):\n",
    "#         shortcut = x\n",
    "#         x = self.conv1(x)\n",
    "#         x = self.bn1(x)\n",
    "#         x = self.act1(x)\n",
    "#         x = self.conv2(x)\n",
    "#         x = self.bn2(x)\n",
    "#         x = self.act2(x)\n",
    "#         x = x + shortcut\n",
    "#         return x\n",
    "\n",
    "# class C2fDM(nn.Module):\n",
    "#     \"\"\"\n",
    "#     C2fDM module replacing C2f with customizable depth and shortcut.\n",
    "#     \"\"\"\n",
    "#     def __init__(self, c1, c2, n=1, shortcut=True, g=1, e=0.5):\n",
    "#         super().__init__()\n",
    "#         self.c = int(c2 * e)\n",
    "#         self.cv1 = nn.Conv2d(c1, 2 * self.c, kernel_size=1, bias=False)\n",
    "#         self.cv2 = nn.Conv2d((2 + n) * self.c, c2, kernel_size=1, bias=False)\n",
    "#         self.bn = nn.BatchNorm2d(2 * self.c)\n",
    "#         self.act = nn.SiLU()\n",
    "#         self.m = nn.Sequential(*(DMBottleneck(self.c, self.c) for _ in range(n)))\n",
    "#         self.shortcut = shortcut\n",
    "#         if self.shortcut:\n",
    "#             self.shortcut_conv = nn.Conv2d(c1, c2, kernel_size=1, bias=False)\n",
    "#             self.shortcut_bn = nn.BatchNorm2d(c2)\n",
    "\n",
    "#     def forward(self, x):\n",
    "#         residual = x\n",
    "#         x = self.cv1(x)\n",
    "#         x = self.bn(x)\n",
    "#         x = self.act(x)\n",
    "#         x1, x2 = x.chunk(2, dim=1)\n",
    "#         x2 = self.m(x2)\n",
    "#         x = torch.cat([x1, x2], dim=1)\n",
    "#         if self.shortcut:\n",
    "#             residual = self.shortcut_bn(self.shortcut_conv(residual))\n",
    "#             x = x + residual  # Perform correct addition\n",
    "#         x = self.cv2(x)\n",
    "#         return x\n",
    "\n",
    "# class BRA(nn.Module):\n",
    "#     \"\"\"\n",
    "#     BRA module for attention mechanisms focusing on important image regions.\n",
    "#     \"\"\"\n",
    "#     def __init__(self, c, num_regions=5, s=8):\n",
    "#         super().__init__()\n",
    "#         self.q = nn.Linear(c, c, bias=False)\n",
    "#         self.k = nn.Linear(c, c, bias=False)\n",
    "#         self.v = nn.Linear(c, c, bias=False)\n",
    "#         self.s = s\n",
    "#         self.num_regions = num_regions\n",
    "\n",
    "#     def forward(self, x):\n",
    "#         b, c, h, w = x.shape\n",
    "#         x = x.reshape(b, c, -1).permute(0, 2, 1)  # (batch, seq_len, c)\n",
    "#         q = self.q(x)\n",
    "#         k = self.k(x)\n",
    "#         v = self.v(x)\n",
    "#         q = q.reshape(b, -1, self.s, c // self.s).permute(0, 2, 1, 3)\n",
    "#         k = k.reshape(b, -1, self.s, c // self.s).permute(0, 2, 3, 1)\n",
    "#         v = v.reshape(b, -1, self.s, c // self.s).permute(0, 2, 1, 3)\n",
    "#         attn = (q @ k.transpose(-2, -1)) * (1.0 / torch.sqrt(torch.tensor(k.size(-1), dtype=torch.float32)))\n",
    "#         attn = attn.softmax(dim=-1)\n",
    "#         x = (attn @ v).transpose(1, 2).reshape(b, h, w, c)\n",
    "#         x = x.permute(0, 3, 1, 2)\n",
    "#         return x\n",
    "\n",
    "# class BGFPN(nn.Module):\n",
    "#     \"\"\"\n",
    "#     BGFPN module utilizing BRA to enhance multi-scale processing capabilities.\n",
    "#     \"\"\"\n",
    "#     def __init__(self, c1_list, c2, n=1, shortcut=False, g=1, e=0.5):\n",
    "#         super().__init__()\n",
    "#         total_c1 = sum(c1_list)\n",
    "#         self.cv1 = nn.Conv2d(total_c1, c2, kernel_size=1, bias=False)\n",
    "#         self.bn1 = nn.BatchNorm2d(c2)\n",
    "#         self.act1 = nn.SiLU()\n",
    "#         self.cv2 = nn.Conv2d(c2, c2, kernel_size=3, padding=1, bias=False)\n",
    "#         self.bn2 = nn.BatchNorm2d(c2)\n",
    "#         self.act2 = nn.SiLU()\n",
    "#         self.bra = BRA(c2)\n",
    "#         self.m = nn.Sequential(*(C2fDM(c2, c2, n, shortcut, g, e) for _ in range(n)))\n",
    "\n",
    "#     def forward(self, *inputs):\n",
    "#         \"\"\"\n",
    "#         Forward pass for BGFPN.\n",
    "\n",
    "#         Args:\n",
    "#             *inputs: Variable number of input feature maps.\n",
    "\n",
    "#         Returns:\n",
    "#             Tensor: Output feature map after processing.\n",
    "#         \"\"\"\n",
    "#         x = torch.cat(inputs, dim=1)\n",
    "#         x = self.cv1(x)\n",
    "#         x = self.bn1(x)\n",
    "#         x = self.act1(x)\n",
    "#         x = self.cv2(x)\n",
    "#         x = self.bn2(x)\n",
    "#         x = self.act2(x)\n",
    "#         x = self.bra(x)\n",
    "#         x = self.m(x)\n",
    "#         return x\n",
    "\n",
    "# class SMPDIoU(nn.Module):\n",
    "#     \"\"\"\n",
    "#     SMPDIoU loss function for optimizing bounding box regression.\n",
    "#     \"\"\"\n",
    "#     def __init__(self, alpha=0.5):\n",
    "#         super().__init__()\n",
    "#         self.alpha = alpha\n",
    "\n",
    "#     def forward(self, pred, target):\n",
    "#         \"\"\"\n",
    "#         Compute the SMPDIoU loss between predicted and target bounding boxes.\n",
    "\n",
    "#         Args:\n",
    "#             pred (Tensor): Predicted bounding boxes with shape (N, 4).\n",
    "#             target (Tensor): Ground truth bounding boxes with shape (N, 4).\n",
    "\n",
    "#         Returns:\n",
    "#             Tensor: Scalar loss value.\n",
    "#         \"\"\"\n",
    "#         # Split bounding box components\n",
    "#         pred_left, pred_top, pred_right, pred_bottom = pred[:, 0], pred[:, 1], pred[:, 2], pred[:, 3]\n",
    "#         target_left, target_top, target_right, target_bottom = target[:, 0], target[:, 1], target[:, 2], target[:, 3]\n",
    "\n",
    "#         # Compute areas\n",
    "#         target_area = (target_left + target_right) * (target_top + target_bottom)\n",
    "#         pred_area = (pred_left + pred_right) * (pred_top + pred_bottom)\n",
    "\n",
    "#         # Compute intersection areas\n",
    "#         w_intersect = torch.min(pred_left, target_left) + torch.min(pred_right, target_right)\n",
    "#         h_intersect = torch.min(pred_bottom, target_bottom) + torch.min(pred_top, target_top)\n",
    "#         area_intersect = w_intersect * h_intersect\n",
    "#         area_union = target_area + pred_area - area_intersect\n",
    "#         iou = area_intersect / area_union\n",
    "\n",
    "#         # Compute additional loss components\n",
    "#         delta_w = torch.abs(pred_left - target_left) + torch.abs(pred_right - target_right)\n",
    "#         delta_h = torch.abs(pred_top - target_top) + torch.abs(pred_bottom - target_bottom)\n",
    "#         distance_loss = torch.sum(1 - torch.exp(-delta_w)) + torch.sum(1 - torch.exp(-delta_h))\n",
    "\n",
    "#         omega_w = (torch.abs(pred_left - target_left) + torch.abs(pred_right - target_right)) / torch.max(pred_left + pred_right, target_left + target_right)\n",
    "#         omega_h = (torch.abs(pred_top - target_top) + torch.abs(pred_bottom - target_bottom)) / torch.max(pred_top + pred_bottom, target_top + target_bottom)\n",
    "#         shape_loss = torch.sum(1 - torch.exp(-omega_w ** 4)) + torch.sum(1 - torch.exp(-omega_h ** 4))\n",
    "\n",
    "#         # Compute perpendicular distance\n",
    "#         pred_center_x = (pred_left + pred_right) / 2\n",
    "#         pred_center_y = (pred_top + pred_bottom) / 2\n",
    "#         target_center_x = (target_left + target_right) / 2\n",
    "#         target_center_y = (target_top + target_bottom) / 2\n",
    "\n",
    "#         perpendicular_distance = torch.sqrt((pred_center_x - target_center_x) ** 2 + (pred_center_y - target_center_y) ** 2)\n",
    "#         max_distance = torch.sqrt(target_left ** 2 + target_top ** 2)\n",
    "#         normalized_distance = perpendicular_distance / max_distance\n",
    "\n",
    "#         # Compute SMPDIoU loss\n",
    "#         smpdiou = self.alpha * (1 - iou) + (1 - self.alpha) * (distance_loss + shape_loss)\n",
    "#         smpdiou = torch.clamp(smpdiou, min=0)  # Ensure non-negative\n",
    "#         return smpdiou.mean()\n",
    "\n",
    "# class Fusion(nn.Module):\n",
    "#     \"\"\"\n",
    "#     Fusion module to replace Concat, combining two feature maps.\n",
    "#     \"\"\"\n",
    "#     def __init__(self, c1, c2):\n",
    "#         super().__init__()\n",
    "#         self.conv = nn.Conv2d(c1 + c2, c2, kernel_size=1, bias=False)\n",
    "#         self.bn = nn.BatchNorm2d(c2)\n",
    "#         self.act = nn.SiLU()\n",
    "\n",
    "#     def forward(self, x1, x2):\n",
    "#         \"\"\"\n",
    "#         Forward pass for Fusion.\n",
    "\n",
    "#         Args:\n",
    "#             x1 (Tensor): First input feature map.\n",
    "#             x2 (Tensor): Second input feature map.\n",
    "\n",
    "#         Returns:\n",
    "#             Tensor: Combined feature map after convolution and activation.\n",
    "#         \"\"\"\n",
    "#         x = torch.cat([x1, x2], dim=1)\n",
    "#         x = self.conv(x)\n",
    "#         x = self.bn(x)\n",
    "#         x = self.act(x)\n",
    "#         return x\n",
    "\n",
    "# class BiFormer(nn.Module):\n",
    "#     \"\"\"\n",
    "#     BiFormer module for attention mechanisms.\n",
    "#     \"\"\"\n",
    "#     def __init__(self, c):\n",
    "#         super().__init__()\n",
    "#         self.attn = nn.MultiheadAttention(c, num_heads=8, batch_first=True)\n",
    "#         self.ln = nn.LayerNorm(c)\n",
    "\n",
    "#     def forward(self, x):\n",
    "#         \"\"\"\n",
    "#         Forward pass for BiFormer.\n",
    "\n",
    "#         Args:\n",
    "#             x (Tensor): Input feature map with shape (B, C, H, W).\n",
    "\n",
    "#         Returns:\n",
    "#             Tensor: Output feature map after attention and normalization.\n",
    "#         \"\"\"\n",
    "#         b, c, h, w = x.shape\n",
    "#         x_flat = x.view(b, c, -1).permute(0, 2, 1)  # (B, L, C)\n",
    "#         attn_output, _ = self.attn(x_flat, x_flat, x_flat)\n",
    "#         attn_output = self.ln(attn_output + x_flat)\n",
    "#         x = attn_output.permute(0, 2, 1).view(b, c, h, w)\n",
    "#         return x\n",
    "\n",
    "# # Helper functions to get in/out channels\n",
    "# def get_out_channels(layer):\n",
    "#     \"\"\"\n",
    "#     Recursively get the number of output channels for a given layer.\n",
    "\n",
    "#     Args:\n",
    "#         layer (nn.Module): The layer to inspect.\n",
    "\n",
    "#     Returns:\n",
    "#         int: Number of output channels.\n",
    "#     \"\"\"\n",
    "#     if hasattr(layer, 'out_channels'):\n",
    "#         return layer.out_channels\n",
    "#     elif hasattr(layer, 'conv'):\n",
    "#         return layer.conv.out_channels\n",
    "#     elif hasattr(layer, 'conv2d'):\n",
    "#         return layer.conv2d.out_channels\n",
    "#     elif hasattr(layer, 'cv2'):\n",
    "#         return get_out_channels(layer.cv2)\n",
    "#     elif hasattr(layer, 'cv'):\n",
    "#         return get_out_channels(layer.cv)\n",
    "#     else:\n",
    "#         for sublayer in reversed(list(layer.children())):\n",
    "#             out_channels = get_out_channels(sublayer)\n",
    "#             if out_channels > 0:\n",
    "#                 return out_channels\n",
    "#         return 0\n",
    "\n",
    "# def get_in_channels(layer):\n",
    "#     \"\"\"\n",
    "#     Recursively get the number of input channels for a given layer.\n",
    "\n",
    "#     Args:\n",
    "#         layer (nn.Module): The layer to inspect.\n",
    "\n",
    "#     Returns:\n",
    "#         int: Number of input channels.\n",
    "#     \"\"\"\n",
    "#     if hasattr(layer, 'in_channels'):\n",
    "#         return layer.in_channels\n",
    "#     elif hasattr(layer, 'conv'):\n",
    "#         return layer.conv.in_channels\n",
    "#     elif hasattr(layer, 'conv2d'):\n",
    "#         return layer.conv2d.in_channels\n",
    "#     elif hasattr(layer, 'cv1'):\n",
    "#         return get_in_channels(layer.cv1)\n",
    "#     elif hasattr(layer, 'cv'):\n",
    "#         return get_in_channels(layer.cv)\n",
    "#     else:\n",
    "#         for sublayer in list(layer.children()):\n",
    "#             in_channels = get_in_channels(sublayer)\n",
    "#             if in_channels > 0:\n",
    "#                 return in_channels\n",
    "#         return 0"
   ]
  },
  {
   "cell_type": "code",
   "execution_count": 10,
   "id": "c0ec66b6",
   "metadata": {
    "execution": {
     "iopub.execute_input": "2024-09-24T10:51:58.146143Z",
     "iopub.status.busy": "2024-09-24T10:51:58.145859Z",
     "iopub.status.idle": "2024-09-24T10:51:58.155285Z",
     "shell.execute_reply": "2024-09-24T10:51:58.154474Z"
    },
    "papermill": {
     "duration": 0.021992,
     "end_time": "2024-09-24T10:51:58.157101",
     "exception": false,
     "start_time": "2024-09-24T10:51:58.135109",
     "status": "completed"
    },
    "tags": []
   },
   "outputs": [],
   "source": [
    "# # Main HPYOLOv8 class with custom modifications\n",
    "# class HPYOLOv8(nn.Module):\n",
    "#     \"\"\"\n",
    "#     HPYOLOv8 class that extends the YOLOv8 model with custom modifications.\n",
    "#     \"\"\"\n",
    "#     def __init__(self, model_path='yolov8x.pt'):\n",
    "#         super().__init__()\n",
    "#         self.model = YOLO(model_path)\n",
    "\n",
    "#         # Ensure that the DyReLU activation is correctly replacing SiLU\n",
    "#         for name, module in model.model.model.named_modules():\n",
    "#             if isinstance(module, nn.SiLU):\n",
    "#                 parent_name = '.'.join(name.split('.')[:-1])\n",
    "#                 layer_name = name.split('.')[-1]\n",
    "#                 parent = model.model.model\n",
    "#                 if parent_name:\n",
    "#                     for n in parent_name.split('.'):\n",
    "#                         parent = getattr(parent, n)\n",
    "#                 if hasattr(parent, 'conv'):\n",
    "#                     out_channels = parent.conv.out_channels\n",
    "#                     new_act = DyReLU(out_channels)\n",
    "#                     setattr(parent, layer_name, new_act)\n",
    "#                     print(f\"Replaced SiLU with DyReLU in layer: {name}\")\n",
    "#                 else:\n",
    "#                     print(f\"Skipped replacement for layer: {name} (no 'conv' attribute)\")\n",
    "\n",
    "#         # Replace C2f with C2fDM in Backbone\n",
    "#         for i, layer in enumerate(self.model.model.model):\n",
    "#             if isinstance(layer, nn.Sequential):\n",
    "#                 for j, sublayer in enumerate(layer):\n",
    "#                     if type(sublayer).__name__ == \"C2f\":\n",
    "#                         print(f\"Layer {i}.{j} is C2f, replacing with C2fDM.\")\n",
    "#                         c1 = sublayer.cv1.conv.in_channels if hasattr(sublayer, 'cv1') and hasattr(sublayer.cv1, 'conv') else get_in_channels(sublayer.cv1)\n",
    "#                         c2 = sublayer.cv2.conv.out_channels if hasattr(sublayer, 'cv2') and hasattr(sublayer.cv2, 'conv') else get_out_channels(sublayer.cv2)\n",
    "#                         c2fdm = C2fDM(c1, c2)\n",
    "#                         self.model.model.model[i][j] = c2fdm\n",
    "#                         print(f\"Replaced C2f with C2fDM in layer {i}.{j}.\")\n",
    "#             elif type(layer).__name__ == \"C2f\":\n",
    "#                 print(f\"Layer {i} is C2f, replacing with C2fDM.\")\n",
    "#                 c1 = layer.cv1.conv.in_channels if hasattr(layer, 'cv1') and hasattr(layer.cv1, 'conv') else get_in_channels(layer.cv1)\n",
    "#                 c2 = layer.cv2.conv.out_channels if hasattr(layer, 'cv2') and hasattr(layer.cv2, 'conv') else get_out_channels(layer.cv2)\n",
    "#                 c2fdm = C2fDM(c1, c2)\n",
    "#                 self.model.model.model[i] = c2fdm\n",
    "#                 print(f\"Replaced C2f with C2fDM in layer {i}.\")\n",
    "\n",
    "#         # Replace Concat with Fusion and add BiFormer in Neck\n",
    "#         i = 0\n",
    "#         while i < len(self.model.model.model):\n",
    "#             layer = self.model.model.model[i]\n",
    "#             if type(layer).__name__ == \"Concat\":\n",
    "#                 print(f\"Layer {i} is Concat, replacing with Fusion and adding BiFormer.\")\n",
    "#                 c1 = 0\n",
    "#                 for idx in layer.f:\n",
    "#                     if idx < len(self.model.model.model):\n",
    "#                         prev_layer = self.model.model.model[idx]\n",
    "#                         out_channels = get_out_channels(prev_layer)\n",
    "#                         c1 += out_channels\n",
    "#                     else:\n",
    "#                         print(f\"Invalid layer index {idx} in Concat layer {i}. Skipping.\")\n",
    "#                 if i + 1 < len(self.model.model.model):\n",
    "#                     next_layer = self.model.model.model[i + 1]\n",
    "#                     c2 = get_in_channels(next_layer)\n",
    "#                 else:\n",
    "#                     c2 = c1\n",
    "#                 fusion_layer = Fusion(c1, c2)\n",
    "#                 biformer_layer = BiFormer(c1)\n",
    "#                 # Replace Concat with BiFormer and Fusion\n",
    "#                 self.model.model.model[i] = nn.Sequential(biformer_layer, fusion_layer)\n",
    "#                 print(f\"Replaced layer {i} with BiFormer and Fusion.\")\n",
    "#                 i += 1\n",
    "#             else:\n",
    "#                 i += 1\n",
    "\n",
    "#         # Replace FPN with BGFPN\n",
    "#         try:\n",
    "#             detect_layer = self.model.model.model[-1]\n",
    "#             in_channels_list = [detect_layer.cv2[i][0].conv.in_channels for i in range(3)]\n",
    "#             in_channels_list.insert(0, self.model.model.model[-4].conv.out_channels)\n",
    "#             out_channels = detect_layer.cv2[0][-1].conv.out_channels if hasattr(detect_layer.cv2[0][-1], 'conv') else get_out_channels(detect_layer.cv2[0][-1])\n",
    "#             bgfpn = BGFPN(in_channels_list, out_channels)\n",
    "#             self.model.model.model[-1] = bgfpn\n",
    "#             print(\"Replaced FPN with BGFPN.\")\n",
    "#         except Exception as e:\n",
    "#             print(f\"Failed to replace FPN with BGFPN: {e}\")\n",
    "\n",
    "#         # Replace CIoU Loss with SMPDIoU and add CBFocalLoss\n",
    "#         try:\n",
    "#             self.model.model.model[-1].loss = SMPDIoU(alpha=0.75)  # Replace CIoU with SMPDIoU\n",
    "#             self.focal_loss = CBFocalLoss(weights)  # Add CBFocalLoss\n",
    "#             print(\"Replaced CIoU loss with SMPDIoU and added CBFocalLoss.\")\n",
    "#         except Exception as e:\n",
    "#             print(f\"Failed to replace loss functions: {e}\")\n",
    "            \n",
    "\n",
    "#         # Verify that Fusion and BiFormer are correctly integrated\n",
    "#         for i, layer in enumerate(model.model.model):\n",
    "#             if isinstance(layer, Fusion) or isinstance(layer, BiFormer):\n",
    "#                 print(f\"Layer {i} is correctly replaced with {type(layer).__name__}\")\n",
    "\n",
    "#     def add_callback(self, event, func):\n",
    "#         \"\"\"\n",
    "#         Forward the add_callback method to the internal YOLO model.\n",
    "\n",
    "#         Args:\n",
    "#             event (str): The event to attach the callback to.\n",
    "#             func (callable): The callback function.\n",
    "#         \"\"\"\n",
    "#         if hasattr(self.model, 'add_callback'):\n",
    "#             self.model.add_callback(event, func)\n",
    "#             print(f\"Added callback for event '{event}'.\")\n",
    "#         else:\n",
    "#             raise AttributeError(f\"'YOLO' object has no attribute 'add_callback'\")\n",
    "\n",
    "#     def forward(self, x):\n",
    "#         \"\"\"Forward pass through the YOLO model.\"\"\"\n",
    "#         return self.model(x)\n",
    "\n",
    "#     def train_model(self, **kwargs):\n",
    "#         \"\"\"Train the YOLO model with given parameters.\"\"\"\n",
    "#         return self.model.train(**kwargs)\n",
    "\n",
    "#     def val(self, **kwargs):\n",
    "#         \"\"\"Validate the YOLO model with given parameters.\"\"\"\n",
    "#         return self.model.val(**kwargs)\n",
    "    \n",
    "#     def compute_loss(self, pred_boxes, gt_boxes, pred_classes, gt_classes):\n",
    "#         \"\"\"\n",
    "#         Compute the combined SMPDIoU and CBFocalLoss.\n",
    "\n",
    "#         Args:\n",
    "#             pred_boxes (Tensor): Predicted bounding boxes.\n",
    "#             gt_boxes (Tensor): Ground truth bounding boxes.\n",
    "#             pred_classes (Tensor): Predicted class logits.\n",
    "#             gt_classes (Tensor): Ground truth class indices.\n",
    "\n",
    "#         Returns:\n",
    "#             Tensor: Combined loss value.\n",
    "#         \"\"\"\n",
    "#         # Combine box loss (SMPDIoU) and classification loss (CBFocalLoss)\n",
    "#         box_loss = self.model.model.model[-1].loss(pred_boxes, gt_boxes)\n",
    "\n",
    "#         # Compute classification loss\n",
    "#         class_loss = self.focal_loss(pred_classes, gt_classes)\n",
    "#         total_loss = box_loss + class_loss\n",
    "\n",
    "#         # Check if loss is negative\n",
    "#         if total_loss.item() < 0:\n",
    "#             print(\"Warning: Loss is negative\")\n",
    "\n",
    "#         return total_loss"
   ]
  },
  {
   "cell_type": "code",
   "execution_count": 11,
   "id": "e35c94b2",
   "metadata": {
    "execution": {
     "iopub.execute_input": "2024-09-24T10:51:58.177866Z",
     "iopub.status.busy": "2024-09-24T10:51:58.177576Z",
     "iopub.status.idle": "2024-09-24T10:51:58.242486Z",
     "shell.execute_reply": "2024-09-24T10:51:58.241798Z"
    },
    "papermill": {
     "duration": 0.077461,
     "end_time": "2024-09-24T10:51:58.244251",
     "exception": false,
     "start_time": "2024-09-24T10:51:58.166790",
     "status": "completed"
    },
    "tags": []
   },
   "outputs": [],
   "source": [
    "# Define custom modules and loss functions\n",
    "import torch\n",
    "import torch.nn as nn\n",
    "import torch.nn.functional as F\n",
    "\n",
    "class DyReLU(nn.Module):\n",
    "    \"\"\"\n",
    "    Dynamic ReLU activation function with adaptive coefficients.\n",
    "    \"\"\"\n",
    "    def __init__(self, channels, reduction=4, k=2, conv_type='2d'):\n",
    "        super(DyReLU, self).__init__()\n",
    "        self.channels = channels\n",
    "        self.k = k\n",
    "        self.conv_type = conv_type\n",
    "        assert self.conv_type in ['1d', '2d'], \"conv_type must be '1d' or '2d'\"\n",
    "\n",
    "        # Định nghĩa các lớp Linear với kích thước đúng\n",
    "        self.fc1 = nn.Linear(channels, channels // reduction)          # Nhận đầu vào C, trả về C//reduction\n",
    "        self.relu = nn.ReLU(inplace=True)\n",
    "        self.fc2 = nn.Linear(channels // reduction, channels * 2 * k)  # Nhận đầu vào C//reduction, trả về C * 2 * k\n",
    "        self.sigmoid = nn.Sigmoid()\n",
    "\n",
    "        # Các hệ số cố định\n",
    "        self.register_buffer('lambdas', torch.Tensor([1.]*k + [0.5]*k).float())\n",
    "        self.register_buffer('init_v', torch.Tensor([1.] + [0.]*(2*k - 1)).float())\n",
    "\n",
    "    def get_relu_coefs(self, x):\n",
    "        \"\"\"\n",
    "        Tính toán các hệ số ReLU dựa trên đầu vào.\n",
    "        \"\"\"\n",
    "        if self.conv_type == '2d':\n",
    "            theta = torch.mean(x, dim=(2, 3))  # Trung bình theo chiều H và W: (B, C)\n",
    "        else:\n",
    "            theta = torch.mean(x, dim=-1)      # Trung bình theo chiều L: (B, C)\n",
    "        theta = self.fc1(theta)               # (B, C//reduction)\n",
    "        theta = self.relu(theta)              # (B, C//reduction)\n",
    "        theta = self.fc2(theta)               # (B, C * 2 * k)\n",
    "        theta = 2 * self.sigmoid(theta) - 1   # (B, C * 2 * k)\n",
    "        return theta\n",
    "\n",
    "    def forward(self, x):\n",
    "        \"\"\"\n",
    "        Forward pass của DyReLU.\n",
    "        \"\"\"\n",
    "        # Kiểm tra số kênh\n",
    "        assert x.shape[1] == self.channels, f\"Expected input with {self.channels} channels, got {x.shape[1]}\"\n",
    "        \n",
    "        # Tính các hệ số ReLU\n",
    "        theta = self.get_relu_coefs(x)  # (B, C * 2 * k)\n",
    "        \n",
    "        # Reshape để phù hợp với từng kênh\n",
    "        relu_coefs = theta.view(-1, self.channels, 2 * self.k) * self.lambdas + self.init_v  # (B, C, 2*k)\n",
    "\n",
    "        if self.conv_type == '2d':\n",
    "            # (B, C, H, W) -> (B, C, H, W, 1)\n",
    "            x_perm = x.unsqueeze(-1)  # (B, C, H, W, 1)\n",
    "            # Broadcast relu_coefs tới các chiều không gian\n",
    "            relu_coefs = relu_coefs.unsqueeze(2).unsqueeze(3)  # (B, C, 1, 1, 2*k)\n",
    "            # Tính toán phần tích và cộng\n",
    "            output = x_perm * relu_coefs[:, :, :, :, :self.k] + relu_coefs[:, :, :, :, self.k:]\n",
    "            # Lấy giá trị lớn nhất theo chiều cuối cùng\n",
    "            result = torch.max(output, dim=-1)[0]  # (B, C, H, W)\n",
    "        else:\n",
    "            # (B, C, L) -> (B, C, L, 1)\n",
    "            x_perm = x.unsqueeze(-1)  # (B, C, L, 1)\n",
    "            relu_coefs = relu_coefs.unsqueeze(2)  # (B, C, 1, 2*k)\n",
    "            output = x_perm * relu_coefs[:, :, :, :self.k] + relu_coefs[:, :, :, self.k:]\n",
    "            result = torch.max(output, dim=-1)[0]  # (B, C, L)\n",
    "        return result\n",
    "\n",
    "class DMBottleneck(nn.Module):\n",
    "    \"\"\"\n",
    "    Bottleneck module with OSRA, IDConv, and STE components.\n",
    "    \"\"\"\n",
    "    def __init__(self, c1, c2):\n",
    "        super().__init__()\n",
    "        self.split = nn.Sequential(\n",
    "            nn.Conv2d(c1, c1 // 2, kernel_size=1, bias=False),\n",
    "            nn.BatchNorm2d(c1 // 2),\n",
    "            DyReLU(c1 // 2)  # Thay thế nn.SiLU() bằng DyReLU\n",
    "        )\n",
    "        self.osra = OSRA(c1 // 2, c2 // 2)\n",
    "        self.idconv = IDConv(c1 // 2, c2 // 2)\n",
    "        self.ste = STE(c2)\n",
    "\n",
    "    def forward(self, x):\n",
    "        x1, x2 = self.split(x).chunk(2, dim=1)\n",
    "        x1 = self.osra(x1)\n",
    "        x2 = self.idconv(x2)\n",
    "        x = torch.cat([x1, x2], dim=1)\n",
    "        x = self.ste(x)\n",
    "        return x\n",
    "\n",
    "class OSRA(nn.Module):\n",
    "    \"\"\"\n",
    "    OSRA module for attention on spatial regions.\n",
    "    \"\"\"\n",
    "    def __init__(self, c1, c2):\n",
    "        super().__init__()\n",
    "        self.conv = nn.Conv2d(c1, c2, kernel_size=3, padding=1, bias=False)\n",
    "        self.bn = nn.BatchNorm2d(c2)\n",
    "        self.act = DyReLU(c2)  # Thay thế nn.SiLU() bằng DyReLU\n",
    "\n",
    "    def forward(self, x):\n",
    "        x = self.conv(x)\n",
    "        x = self.bn(x)\n",
    "        x = self.act(x)\n",
    "        return x\n",
    "\n",
    "class IDConv(nn.Module):\n",
    "    \"\"\"\n",
    "    IDConv module for identity-based convolution.\n",
    "    \"\"\"\n",
    "    def __init__(self, c1, c2, r=4):\n",
    "        super().__init__()\n",
    "        self.conv1 = nn.Conv2d(c1, c1 // r, kernel_size=1, bias=False)\n",
    "        self.bn1 = nn.BatchNorm2d(c1 // r)\n",
    "        self.act1 = DyReLU(c1 // r)  # Thay thế nn.SiLU() bằng DyReLU\n",
    "        self.conv2 = nn.Conv2d(c1 // r, c2, kernel_size=1, bias=False)\n",
    "        self.bn2 = nn.BatchNorm2d(c2)\n",
    "        self.act2 = DyReLU(c2)  # Thay thế nn.SiLU() bằng DyReLU\n",
    "\n",
    "    def forward(self, x):\n",
    "        x = self.conv1(x)\n",
    "        x = self.bn1(x)\n",
    "        x = self.act1(x)\n",
    "        x = self.conv2(x)\n",
    "        x = self.bn2(x)\n",
    "        x = self.act2(x)\n",
    "        return x\n",
    "\n",
    "class STE(nn.Module):\n",
    "    \"\"\"\n",
    "    STE module for shortcut and transformation.\n",
    "    \"\"\"\n",
    "    def __init__(self, c, r=4):\n",
    "        super().__init__()\n",
    "        self.conv1 = nn.Conv2d(c, c // r, kernel_size=1, bias=False)\n",
    "        self.bn1 = nn.BatchNorm2d(c // r)\n",
    "        self.act1 = DyReLU(c // r)  # Thay thế nn.SiLU() bằng DyReLU\n",
    "        self.conv2 = nn.Conv2d(c // r, c, kernel_size=1, bias=False)\n",
    "        self.bn2 = nn.BatchNorm2d(c)\n",
    "        self.act2 = DyReLU(c)  # Thay thế nn.SiLU() bằng DyReLU\n",
    "\n",
    "    def forward(self, x):\n",
    "        shortcut = x\n",
    "        x = self.conv1(x)\n",
    "        x = self.bn1(x)\n",
    "        x = self.act1(x)\n",
    "        x = self.conv2(x)\n",
    "        x = self.bn2(x)\n",
    "        x = self.act2(x)\n",
    "        x = x + shortcut\n",
    "        return x\n",
    "\n",
    "class C2fDM(nn.Module):\n",
    "    \"\"\"\n",
    "    C2fDM module replacing C2f with customizable depth and shortcut.\n",
    "    \"\"\"\n",
    "    def __init__(self, c1, c2, n=1, shortcut=True, g=1, e=0.5, f=-1):\n",
    "        super().__init__()\n",
    "        self.f = f  # Thêm thuộc tính 'f'\n",
    "        self.c = int(c2 * e)\n",
    "        self.cv1 = nn.Conv2d(c1, 2 * self.c, kernel_size=1, bias=False)\n",
    "        self.bn = nn.BatchNorm2d(2 * self.c)\n",
    "        self.act = DyReLU(2 * self.c)  # Thay thế nn.SiLU() bằng DyReLU\n",
    "        self.cv2 = nn.Conv2d((2 + n) * self.c, c2, kernel_size=1, bias=False)\n",
    "        self.m = nn.Sequential(*(DMBottleneck(self.c, self.c) for _ in range(n)))\n",
    "        self.shortcut = shortcut\n",
    "        if self.shortcut:\n",
    "            self.shortcut_conv = nn.Conv2d(c1, c2, kernel_size=1, bias=False)\n",
    "            self.shortcut_bn = nn.BatchNorm2d(c2)\n",
    "            self.shortcut_act = DyReLU(c2)  # Thêm DyReLU cho shortcut\n",
    "\n",
    "    def forward(self, x):\n",
    "        residual = x\n",
    "        x = self.cv1(x)\n",
    "        x = self.bn(x)\n",
    "        x = self.act(x)\n",
    "        x1, x2 = x.chunk(2, dim=1)\n",
    "        x2 = self.m(x2)\n",
    "        x = torch.cat([x1, x2], dim=1)\n",
    "        if self.shortcut:\n",
    "            residual = self.shortcut_conv(residual)\n",
    "            residual = self.shortcut_bn(residual)\n",
    "            residual = self.shortcut_act(residual)  # Áp dụng DyReLU cho shortcut\n",
    "            x = x + residual  # Thực hiện phép cộng đúng cách\n",
    "        x = self.cv2(x)\n",
    "        return x\n",
    "\n",
    "class BRA(nn.Module):\n",
    "    \"\"\"\n",
    "    BRA module for attention mechanisms focusing on important image regions.\n",
    "    \"\"\"\n",
    "    def __init__(self, c, num_regions=5, s=8):\n",
    "        super().__init__()\n",
    "        self.q = nn.Linear(c, c, bias=False)\n",
    "        self.k = nn.Linear(c, c, bias=False)\n",
    "        self.v = nn.Linear(c, c, bias=False)\n",
    "        self.s = s\n",
    "        self.num_regions = num_regions\n",
    "\n",
    "    def forward(self, x):\n",
    "        b, c, h, w = x.shape\n",
    "        x = x.reshape(b, c, -1).permute(0, 2, 1)  # (batch, seq_len, c)\n",
    "        q = self.q(x)\n",
    "        k = self.k(x)\n",
    "        v = self.v(x)\n",
    "        q = q.reshape(b, -1, self.s, c // self.s).permute(0, 2, 1, 3)\n",
    "        k = k.reshape(b, -1, self.s, c // self.s).permute(0, 2, 3, 1)\n",
    "        v = v.reshape(b, -1, self.s, c // self.s).permute(0, 2, 1, 3)\n",
    "        attn = (q @ k.transpose(-2, -1)) * (1.0 / torch.sqrt(torch.tensor(k.size(-1), dtype=torch.float32)))\n",
    "        attn = attn.softmax(dim=-1)\n",
    "        x = (attn @ v).transpose(1, 2).reshape(b, h, w, c)\n",
    "        x = x.permute(0, 3, 1, 2)\n",
    "        return x\n",
    "\n",
    "class BGFPN(nn.Module):\n",
    "    \"\"\"\n",
    "    BGFPN module utilizing BRA to enhance multi-scale processing capabilities.\n",
    "    \"\"\"\n",
    "    def __init__(self, c1_list, c2, n=1, shortcut=False, g=1, e=0.5):\n",
    "        super().__init__()\n",
    "        total_c1 = sum(c1_list)\n",
    "        self.cv1 = nn.Conv2d(total_c1, c2, kernel_size=1, bias=False)\n",
    "        self.bn1 = nn.BatchNorm2d(c2)\n",
    "        self.act1 = DyReLU(c2)  # Thay thế nn.SiLU() bằng DyReLU\n",
    "        self.cv2 = nn.Conv2d(c2, c2, kernel_size=3, padding=1, bias=False)\n",
    "        self.bn2 = nn.BatchNorm2d(c2)\n",
    "        self.act2 = DyReLU(c2)  # Thay thế nn.SiLU() bằng DyReLU\n",
    "        self.bra = BRA(c2)\n",
    "        self.m = nn.Sequential(*(C2fDM(c2, c2, n, shortcut, g, e) for _ in range(n)))\n",
    "\n",
    "    def forward(self, *inputs):\n",
    "        \"\"\"\n",
    "        Forward pass for BGFPN.\n",
    "\n",
    "        Args:\n",
    "            *inputs: Variable number of input feature maps.\n",
    "\n",
    "        Returns:\n",
    "            Tensor: Output feature map after processing.\n",
    "        \"\"\"\n",
    "        x = torch.cat(inputs, dim=1)\n",
    "        x = self.cv1(x)\n",
    "        x = self.bn1(x)\n",
    "        x = self.act1(x)\n",
    "        x = self.cv2(x)\n",
    "        x = self.bn2(x)\n",
    "        x = self.act2(x)\n",
    "        x = self.bra(x)\n",
    "        x = self.m(x)\n",
    "        return x\n",
    "\n",
    "class SMPDIoU(nn.Module):\n",
    "    \"\"\"\n",
    "    SMPDIoU loss function for optimizing bounding box regression.\n",
    "    \"\"\"\n",
    "    def __init__(self, alpha=0.5):\n",
    "        super().__init__()\n",
    "        self.alpha = alpha\n",
    "\n",
    "    def forward(self, pred, target):\n",
    "        \"\"\"\n",
    "        Compute the SMPDIoU loss between predicted and target bounding boxes.\n",
    "\n",
    "        Args:\n",
    "            pred (Tensor): Predicted bounding boxes with shape (N, 4).\n",
    "            target (Tensor): Ground truth bounding boxes with shape (N, 4).\n",
    "\n",
    "        Returns:\n",
    "            Tensor: Scalar loss value.\n",
    "        \"\"\"\n",
    "        # Split bounding box components\n",
    "        pred_left, pred_top, pred_right, pred_bottom = pred[:, 0], pred[:, 1], pred[:, 2], pred[:, 3]\n",
    "        target_left, target_top, target_right, target_bottom = target[:, 0], target[:, 1], target[:, 2], target[:, 3]\n",
    "\n",
    "        # Compute areas\n",
    "        target_area = (target_left + target_right) * (target_top + target_bottom)\n",
    "        pred_area = (pred_left + pred_right) * (pred_top + pred_bottom)\n",
    "\n",
    "        # Compute intersection areas\n",
    "        w_intersect = torch.min(pred_left, target_left) + torch.min(pred_right, target_right)\n",
    "        h_intersect = torch.min(pred_bottom, target_bottom) + torch.min(pred_top, target_top)\n",
    "        area_intersect = w_intersect * h_intersect\n",
    "        area_union = target_area + pred_area - area_intersect\n",
    "        iou = area_intersect / area_union\n",
    "\n",
    "        # Compute additional loss components\n",
    "        delta_w = torch.abs(pred_left - target_left) + torch.abs(pred_right - target_right)\n",
    "        delta_h = torch.abs(pred_top - target_top) + torch.abs(pred_bottom - target_bottom)\n",
    "        distance_loss = torch.sum(1 - torch.exp(-delta_w)) + torch.sum(1 - torch.exp(-delta_h))\n",
    "\n",
    "        omega_w = (torch.abs(pred_left - target_left) + torch.abs(pred_right - target_right)) / torch.max(pred_left + pred_right, target_left + target_right)\n",
    "        omega_h = (torch.abs(pred_top - target_top) + torch.abs(pred_bottom - target_bottom)) / torch.max(pred_top + pred_bottom, target_top + target_bottom)\n",
    "        shape_loss = torch.sum(1 - torch.exp(-omega_w ** 4)) + torch.sum(1 - torch.exp(-omega_h ** 4))\n",
    "\n",
    "        # Compute perpendicular distance\n",
    "        pred_center_x = (pred_left + pred_right) / 2\n",
    "        pred_center_y = (pred_top + pred_bottom) / 2\n",
    "        target_center_x = (target_left + target_right) / 2\n",
    "        target_center_y = (target_top + target_bottom) / 2\n",
    "\n",
    "        perpendicular_distance = torch.sqrt((pred_center_x - target_center_x) ** 2 + (pred_center_y - target_center_y) ** 2)\n",
    "        max_distance = torch.sqrt(target_left ** 2 + target_top ** 2)\n",
    "        normalized_distance = perpendicular_distance / max_distance\n",
    "\n",
    "        # Compute SMPDIoU loss\n",
    "        smpdiou = self.alpha * (1 - iou) + (1 - self.alpha) * (distance_loss + shape_loss)\n",
    "        smpdiou = torch.clamp(smpdiou, min=0)  # Ensure non-negative\n",
    "        return smpdiou.mean()\n",
    "\n",
    "class Fusion(nn.Module):\n",
    "    \"\"\"\n",
    "    Fusion module to replace Concat, combining two feature maps.\n",
    "    \"\"\"\n",
    "    def __init__(self, c1, c2):\n",
    "        super().__init__()\n",
    "        self.conv = nn.Conv2d(c1 + c2, c2, kernel_size=1, bias=False)\n",
    "        self.bn = nn.BatchNorm2d(c2)\n",
    "        self.act = DyReLU(c2, reduction=4, k=2, conv_type='2d')  # Thay thế nn.SiLU bằng DyReLU\n",
    "\n",
    "    def forward(self, x1, x2):\n",
    "        \"\"\"\n",
    "        Forward pass for Fusion.\n",
    "\n",
    "        Args:\n",
    "            x1 (Tensor): First input feature map.\n",
    "            x2 (Tensor): Second input feature map.\n",
    "\n",
    "        Returns:\n",
    "            Tensor: Combined feature map after convolution and activation.\n",
    "        \"\"\"\n",
    "        x = torch.cat([x1, x2], dim=1)\n",
    "        x = self.conv(x)\n",
    "        x = self.bn(x)\n",
    "        x = self.act(x)\n",
    "        return x\n",
    "\n",
    "class BiFormer(nn.Module):\n",
    "    \"\"\"\n",
    "    BiFormer module for attention mechanisms.\n",
    "    \"\"\"\n",
    "    def __init__(self, c):\n",
    "        super().__init__()\n",
    "        self.attn = nn.MultiheadAttention(c, num_heads=8, batch_first=True)\n",
    "        self.ln = nn.LayerNorm(c)\n",
    "\n",
    "    def forward(self, x):\n",
    "        \"\"\"\n",
    "        Forward pass for BiFormer.\n",
    "\n",
    "        Args:\n",
    "            x (Tensor): Input feature map with shape (B, C, H, W).\n",
    "\n",
    "        Returns:\n",
    "            Tensor: Output feature map after attention and normalization.\n",
    "        \"\"\"\n",
    "        b, c, h, w = x.shape\n",
    "        x_flat = x.view(b, c, -1).permute(0, 2, 1)  # (B, L, C)\n",
    "        attn_output, _ = self.attn(x_flat, x_flat, x_flat)\n",
    "        attn_output = self.ln(attn_output + x_flat)\n",
    "        x = attn_output.permute(0, 2, 1).view(b, c, h, w)\n",
    "        return x"
   ]
  },
  {
   "cell_type": "code",
   "execution_count": 12,
   "id": "1066f3bf",
   "metadata": {
    "execution": {
     "iopub.execute_input": "2024-09-24T10:51:58.264740Z",
     "iopub.status.busy": "2024-09-24T10:51:58.264451Z",
     "iopub.status.idle": "2024-09-24T10:51:58.273680Z",
     "shell.execute_reply": "2024-09-24T10:51:58.272839Z"
    },
    "papermill": {
     "duration": 0.021566,
     "end_time": "2024-09-24T10:51:58.275509",
     "exception": false,
     "start_time": "2024-09-24T10:51:58.253943",
     "status": "completed"
    },
    "tags": []
   },
   "outputs": [],
   "source": [
    "# Helper functions to get in/out channels\n",
    "def get_out_channels(layer):\n",
    "    \"\"\"\n",
    "    Recursively get the number of output channels for a given layer.\n",
    "\n",
    "    Args:\n",
    "        layer (nn.Module): The layer to inspect.\n",
    "\n",
    "    Returns:\n",
    "        int: Number of output channels.\n",
    "    \"\"\"\n",
    "    if hasattr(layer, 'out_channels'):\n",
    "        return layer.out_channels\n",
    "    elif hasattr(layer, 'conv'):\n",
    "        return layer.conv.out_channels\n",
    "    elif hasattr(layer, 'conv2d'):\n",
    "        return layer.conv2d.out_channels\n",
    "    elif hasattr(layer, 'cv2'):\n",
    "        return get_out_channels(layer.cv2)\n",
    "    elif hasattr(layer, 'cv'):\n",
    "        return get_out_channels(layer.cv)\n",
    "    else:\n",
    "        for sublayer in reversed(list(layer.children())):\n",
    "            out_channels = get_out_channels(sublayer)\n",
    "            if out_channels > 0:\n",
    "                return out_channels\n",
    "        return 0\n",
    "\n",
    "def get_in_channels(layer):\n",
    "    \"\"\"\n",
    "    Recursively get the number of input channels for a given layer.\n",
    "\n",
    "    Args:\n",
    "        layer (nn.Module): The layer to inspect.\n",
    "\n",
    "    Returns:\n",
    "        int: Number of input channels.\n",
    "    \"\"\"\n",
    "    if hasattr(layer, 'in_channels'):\n",
    "        return layer.in_channels\n",
    "    elif hasattr(layer, 'conv'):\n",
    "        return layer.conv.in_channels\n",
    "    elif hasattr(layer, 'conv2d'):\n",
    "        return layer.conv2d.in_channels\n",
    "    elif hasattr(layer, 'cv1'):\n",
    "        return get_in_channels(layer.cv1)\n",
    "    elif hasattr(layer, 'cv'):\n",
    "        return get_in_channels(layer.cv)\n",
    "    else:\n",
    "        for sublayer in list(layer.children()):\n",
    "            in_channels = get_in_channels(sublayer)\n",
    "            if in_channels > 0:\n",
    "                return in_channels\n",
    "        return 0"
   ]
  },
  {
   "cell_type": "code",
   "execution_count": 13,
   "id": "9138384e",
   "metadata": {
    "execution": {
     "iopub.execute_input": "2024-09-24T10:51:58.296155Z",
     "iopub.status.busy": "2024-09-24T10:51:58.295870Z",
     "iopub.status.idle": "2024-09-24T10:51:58.302218Z",
     "shell.execute_reply": "2024-09-24T10:51:58.301355Z"
    },
    "papermill": {
     "duration": 0.018537,
     "end_time": "2024-09-24T10:51:58.304069",
     "exception": false,
     "start_time": "2024-09-24T10:51:58.285532",
     "status": "completed"
    },
    "tags": []
   },
   "outputs": [],
   "source": [
    "class SEBlock(nn.Module):\n",
    "    def __init__(self, in_channels, reduction=16):\n",
    "        super(SEBlock, self).__init__()\n",
    "        self.global_avgpool = nn.AdaptiveAvgPool2d(1)\n",
    "        self.fc1 = nn.Conv2d(in_channels, in_channels // reduction, kernel_size=1)\n",
    "        self.fc2 = nn.Conv2d(in_channels // reduction, in_channels, kernel_size=1)\n",
    "        self.sigmoid = nn.Sigmoid()\n",
    "\n",
    "    def forward(self, x):\n",
    "        y = self.global_avgpool(x)\n",
    "        y = self.fc1(y)\n",
    "        y = nn.ReLU()(y)\n",
    "        y = self.fc2(y)\n",
    "        y = self.sigmoid(y)\n",
    "        return x * y"
   ]
  },
  {
   "cell_type": "code",
   "execution_count": 14,
   "id": "a814d1da",
   "metadata": {
    "execution": {
     "iopub.execute_input": "2024-09-24T10:51:58.324358Z",
     "iopub.status.busy": "2024-09-24T10:51:58.324100Z",
     "iopub.status.idle": "2024-09-24T10:51:58.330473Z",
     "shell.execute_reply": "2024-09-24T10:51:58.329679Z"
    },
    "papermill": {
     "duration": 0.018814,
     "end_time": "2024-09-24T10:51:58.332480",
     "exception": false,
     "start_time": "2024-09-24T10:51:58.313666",
     "status": "completed"
    },
    "tags": []
   },
   "outputs": [],
   "source": [
    "class LSTMBlock(nn.Module):\n",
    "    def __init__(self, input_size, hidden_size, num_layers=1):\n",
    "        super(LSTMBlock, self).__init__()\n",
    "        self.lstm = nn.LSTM(input_size, hidden_size, num_layers, batch_first=True)\n",
    "\n",
    "    def forward(self, x):\n",
    "        b, c, h, w = x.size()\n",
    "        x = x.view(b, c, h * w).permute(0, 2, 1)  # (batch_size, seq_len, input_size)\n",
    "        x, _ = self.lstm(x)\n",
    "        return x.permute(0, 2, 1).view(b, c, h, w)\n"
   ]
  },
  {
   "cell_type": "code",
   "execution_count": 15,
   "id": "655b87a5",
   "metadata": {
    "execution": {
     "iopub.execute_input": "2024-09-24T10:51:58.352907Z",
     "iopub.status.busy": "2024-09-24T10:51:58.352638Z",
     "iopub.status.idle": "2024-09-24T10:51:58.358653Z",
     "shell.execute_reply": "2024-09-24T10:51:58.357735Z"
    },
    "papermill": {
     "duration": 0.018337,
     "end_time": "2024-09-24T10:51:58.360540",
     "exception": false,
     "start_time": "2024-09-24T10:51:58.342203",
     "status": "completed"
    },
    "tags": []
   },
   "outputs": [],
   "source": [
    "class GRUBlock(nn.Module):\n",
    "    def __init__(self, input_size, hidden_size, num_layers=1):\n",
    "        super(GRUBlock, self).__init__()\n",
    "        self.gru = nn.GRU(input_size, hidden_size, num_layers, batch_first=True)\n",
    "\n",
    "    def forward(self, x):\n",
    "        b, c, h, w = x.size()\n",
    "        x = x.view(b, c, h * w).permute(0, 2, 1)\n",
    "        x, _ = self.gru(x)\n",
    "        return x.permute(0, 2, 1).view(b, c, h, w)"
   ]
  },
  {
   "cell_type": "code",
   "execution_count": 16,
   "id": "761d91dd",
   "metadata": {
    "execution": {
     "iopub.execute_input": "2024-09-24T10:51:58.381098Z",
     "iopub.status.busy": "2024-09-24T10:51:58.380838Z",
     "iopub.status.idle": "2024-09-24T10:51:58.414281Z",
     "shell.execute_reply": "2024-09-24T10:51:58.413461Z"
    },
    "papermill": {
     "duration": 0.046007,
     "end_time": "2024-09-24T10:51:58.416120",
     "exception": false,
     "start_time": "2024-09-24T10:51:58.370113",
     "status": "completed"
    },
    "tags": []
   },
   "outputs": [],
   "source": [
    "# Lớp chính HPYOLOv8 với các thay thế C2f, Concat bằng C2fDM và Fusion\n",
    "class HPYOLOv8(nn.Module):\n",
    "    \"\"\"\n",
    "    HPYOLOv8 class that extends the YOLOv8 model with custom modifications.\n",
    "    \"\"\"\n",
    "    def __init__(self, model_path='yolov8x.pt'):\n",
    "        super().__init__()\n",
    "        self.model = YOLO(model_path)\n",
    "        \n",
    "        self.se_block = SEBlock(256)\n",
    "        self.lstm_block = LSTMBlock(256, 256)\n",
    "\n",
    "        # Thay thế các activation function trong mô hình YOLOv8 gốc\n",
    "        self.replace_activation(self.model.model)\n",
    "\n",
    "        # Thay thế C2f bằng C2fDM trong Backbone\n",
    "        self.replace_C2f_with_C2fDM()\n",
    "\n",
    "        # Thay thế Concat bằng Fusion và thêm BiFormer trong Neck\n",
    "        self.replace_Concat_with_Fusion_BiFormer()\n",
    "\n",
    "        # Thay thế FPN bằng BGFPN\n",
    "        self.replace_FPN_with_BGFPN()\n",
    "\n",
    "        # Thay thế CIoU Loss bằng SMPDIoU và thêm CBFocalLoss\n",
    "        self.replace_loss_functions()\n",
    "\n",
    "    def replace_activation(self, module):\n",
    "        \"\"\"\n",
    "        Recursively traverse the model and replace nn.SiLU with DyReLU.\n",
    "\n",
    "        Args:\n",
    "            module (nn.Module): The module to traverse.\n",
    "        \"\"\"\n",
    "        for name, child in module.named_children():\n",
    "            if isinstance(child, nn.SiLU):\n",
    "                # Giả sử số lượng kênh có thể được suy ra từ lớp trước đó\n",
    "                parent = module\n",
    "                # Kiểm tra xem lớp cha có attribute 'conv' hay không để lấy số kênh\n",
    "                if hasattr(parent, 'conv') and hasattr(parent.conv, 'out_channels'):\n",
    "                    out_channels = parent.conv.out_channels\n",
    "                    dyrelu = DyReLU(out_channels, reduction=4, k=2, conv_type='2d')\n",
    "                    setattr(module, name, dyrelu)\n",
    "                    print(f\"Replaced SiLU with DyReLU in layer: {name} with {out_channels} channels.\")\n",
    "                else:\n",
    "                    print(f\"Could not determine channels for layer: {name}. Skipping replacement.\")\n",
    "            else:\n",
    "                # Recursive call cho các module con\n",
    "                self.replace_activation(child)\n",
    "\n",
    "    def replace_C2f_with_C2fDM(self):\n",
    "        \"\"\"\n",
    "        Replace all instances of C2f with C2fDM in the Backbone.\n",
    "        \"\"\"\n",
    "        for i, layer in enumerate(self.model.model.model):\n",
    "            if isinstance(layer, nn.Sequential):\n",
    "                for j, sublayer in enumerate(layer):\n",
    "                    if type(sublayer).__name__ == \"C2f\":\n",
    "                        print(f\"Layer {i}.{j} is C2f, replacing with C2fDM.\")\n",
    "                        c1 = sublayer.cv1.conv.in_channels if hasattr(sublayer, 'cv1') and hasattr(sublayer.cv1, 'conv') else get_in_channels(sublayer.cv1)\n",
    "                        c2 = sublayer.cv2.conv.out_channels if hasattr(sublayer, 'cv2') and hasattr(sublayer.cv2, 'conv') else get_out_channels(sublayer.cv2)\n",
    "                        c2fdm = C2fDM(c1, c2)\n",
    "                        self.model.model.model[i][j] = c2fdm\n",
    "                        print(f\"Replaced C2f with C2fDM in layer {i}.{j}.\")\n",
    "            elif type(layer).__name__ == \"C2f\":\n",
    "                print(f\"Layer {i} is C2f, replacing with C2fDM.\")\n",
    "                c1 = layer.cv1.conv.in_channels if hasattr(layer, 'cv1') and hasattr(layer.cv1, 'conv') else get_in_channels(layer.cv1)\n",
    "                c2 = layer.cv2.conv.out_channels if hasattr(layer, 'cv2') and hasattr(layer.cv2, 'conv') else get_out_channels(layer.cv2)\n",
    "                c2fdm = C2fDM(c1, c2)\n",
    "                self.model.model.model[i] = c2fdm\n",
    "                print(f\"Replaced C2f with C2fDM in layer {i}.\")\n",
    "\n",
    "    def replace_Concat_with_Fusion_BiFormer(self):\n",
    "        \"\"\"\n",
    "        Replace all instances of Concat with Fusion and add BiFormer in the Neck.\n",
    "        \"\"\"\n",
    "        i = 0\n",
    "        while i < len(self.model.model.model):\n",
    "            layer = self.model.model.model[i]\n",
    "            if type(layer).__name__ == \"Concat\":\n",
    "                print(f\"Layer {i} is Concat, replacing with Fusion and adding BiFormer.\")\n",
    "                c1 = 0\n",
    "                for idx in layer.f:\n",
    "                    if idx < len(self.model.model.model):\n",
    "                        prev_layer = self.model.model.model[idx]\n",
    "                        out_channels = get_out_channels(prev_layer)\n",
    "                        c1 += out_channels\n",
    "                    else:\n",
    "                        print(f\"Invalid layer index {idx} in Concat layer {i}. Skipping.\")\n",
    "                if i + 1 < len(self.model.model.model):\n",
    "                    next_layer = self.model.model.model[i + 1]\n",
    "                    c2 = get_in_channels(next_layer)\n",
    "                else:\n",
    "                    c2 = c1\n",
    "                fusion_layer = Fusion(c1, c2)\n",
    "                biformer_layer = BiFormer(c1)\n",
    "                # Thay thế Concat bằng BiFormer và Fusion\n",
    "                self.model.model.model[i] = nn.Sequential(biformer_layer, fusion_layer)\n",
    "                print(f\"Replaced layer {i} with BiFormer and Fusion.\")\n",
    "                i += 1\n",
    "            else:\n",
    "                i += 1\n",
    "\n",
    "    def replace_FPN_with_BGFPN(self):\n",
    "        \"\"\"\n",
    "        Replace the Feature Pyramid Network (FPN) with BGFPN.\n",
    "        \"\"\"\n",
    "        try:\n",
    "            detect_layer = self.model.model.model[-1]\n",
    "            in_channels_list = [detect_layer.cv2[i][0].conv.in_channels for i in range(3)]\n",
    "            in_channels_list.insert(0, self.model.model.model[-4].conv.out_channels)\n",
    "            out_channels = detect_layer.cv2[0][-1].conv.out_channels if hasattr(detect_layer.cv2[0][-1], 'conv') else get_out_channels(detect_layer.cv2[0][-1])\n",
    "            bgfpn = BGFPN(in_channels_list, out_channels)\n",
    "            self.model.model.model[-1] = bgfpn\n",
    "            print(\"Replaced FPN with BGFPN.\")\n",
    "        except Exception as e:\n",
    "            print(f\"Failed to replace FPN with BGFPN: {e}\")\n",
    "\n",
    "    def replace_loss_functions(self):\n",
    "        \"\"\"\n",
    "        Replace CIoU Loss with SMPDIoU and add CBFocalLoss.\n",
    "        \"\"\"\n",
    "        try:\n",
    "            self.model.model.model[-1].loss = SMPDIoU(alpha=0.75)  # Replace CIoU with SMPDIoU\n",
    "            self.focal_loss = CBFocalLoss(weights)  # Add CBFocalLoss\n",
    "            print(\"Replaced CIoU loss with SMPDIoU and added CBFocalLoss.\")\n",
    "        except Exception as e:\n",
    "            print(f\"Failed to replace loss functions: {e}\")\n",
    "\n",
    "    def add_callback(self, event, func):\n",
    "        \"\"\"\n",
    "        Forward the add_callback method to the internal YOLO model.\n",
    "\n",
    "        Args:\n",
    "            event (str): The event to attach the callback to.\n",
    "            func (callable): The callback function.\n",
    "        \"\"\"\n",
    "        if hasattr(self.model, 'add_callback'):\n",
    "            self.model.add_callback(event, func)\n",
    "            print(f\"Added callback for event '{event}'.\")\n",
    "        else:\n",
    "            raise AttributeError(f\"'YOLO' object has no attribute 'add_callback'\")\n",
    "\n",
    "#     def forward(self, x):\n",
    "#         \"\"\"Forward pass through the YOLO model.\"\"\"\n",
    "#         return self.model(x)\n",
    "\n",
    "    def forward(self, x):\n",
    "        x = self.model.backbone(x)  # Backbone with original layers\n",
    "        x = self.se_block(x)        # SE Block integration\n",
    "        x = self.lstm_block(x)      # LSTM Block integration\n",
    "        x = self.model.neck(x)      # Neck processing\n",
    "        return self.model.head(x)   # YOLO head output\n",
    "\n",
    "    def train_model(self, **kwargs):\n",
    "        \"\"\"Train the YOLO model with given parameters.\"\"\"\n",
    "        return self.model.train(**kwargs)\n",
    "\n",
    "    def val(self, **kwargs):\n",
    "        \"\"\"Validate the YOLO model with given parameters.\"\"\"\n",
    "        return self.model.val(**kwargs)\n",
    "\n",
    "    def predict(self, **kwargs):\n",
    "        \"\"\"Predict the YOLO model with given parameters.\"\"\"\n",
    "        return self.model.predict(**kwargs)\n",
    "    \n",
    "    @property\n",
    "    def trainer(self):\n",
    "        return getattr(self.model, 'trainer', None)\n",
    "    \n",
    "    def compute_loss(self, pred_boxes, gt_boxes, pred_classes, gt_classes):\n",
    "        \"\"\"\n",
    "        Compute the combined SMPDIoU and CBFocalLoss.\n",
    "\n",
    "        Args:\n",
    "            pred_boxes (Tensor): Predicted bounding boxes.\n",
    "            gt_boxes (Tensor): Ground truth bounding boxes.\n",
    "            pred_classes (Tensor): Predicted class logits.\n",
    "            gt_classes (Tensor): Ground truth class indices.\n",
    "\n",
    "        Returns:\n",
    "            Tensor: Combined loss value.\n",
    "        \"\"\"\n",
    "        # Combine box loss (SMPDIoU) and classification loss (CBFocalLoss)\n",
    "        box_loss = self.model.model.model[-1].loss(pred_boxes, gt_boxes)\n",
    "\n",
    "        # Compute classification loss\n",
    "        class_loss = self.focal_loss(pred_classes, gt_classes)\n",
    "        total_loss = box_loss + class_loss\n",
    "\n",
    "        # Check if loss is negative\n",
    "        if total_loss.item() < 0:\n",
    "            print(\"Warning: Loss is negative\")\n",
    "\n",
    "        return total_loss\n",
    "\n",
    "    def replace_activation_in_model(self):\n",
    "        \"\"\"\n",
    "        Replace any remaining nn.SiLU activations in the YOLOv8 base model with DyReLU.\n",
    "        \"\"\"\n",
    "        def replace_act(module):\n",
    "            for name, child in module.named_children():\n",
    "                if isinstance(child, nn.SiLU):\n",
    "                    # Attempt to infer channels\n",
    "                    parent = module\n",
    "                    # Try to find the previous convolution layer's out_channels\n",
    "                    if hasattr(parent, 'conv') and hasattr(parent.conv, 'out_channels'):\n",
    "                        out_channels = parent.conv.out_channels\n",
    "                        dyrelu = DyReLU(out_channels, reduction=4, k=2, conv_type='2d')\n",
    "                        setattr(module, name, dyrelu)\n",
    "                        print(f\"Replaced SiLU with DyReLU in layer: {name} with {out_channels} channels.\")\n",
    "                    else:\n",
    "                        print(f\"Could not determine channels for layer: {name}. Skipping replacement.\")\n",
    "                else:\n",
    "                    replace_act(child)\n",
    "        replace_act(self.model.model)"
   ]
  },
  {
   "cell_type": "code",
   "execution_count": 17,
   "id": "3a73c12b",
   "metadata": {
    "execution": {
     "iopub.execute_input": "2024-09-24T10:51:58.436557Z",
     "iopub.status.busy": "2024-09-24T10:51:58.436259Z",
     "iopub.status.idle": "2024-09-24T10:52:00.811184Z",
     "shell.execute_reply": "2024-09-24T10:52:00.810263Z"
    },
    "papermill": {
     "duration": 2.38764,
     "end_time": "2024-09-24T10:52:00.813458",
     "exception": false,
     "start_time": "2024-09-24T10:51:58.425818",
     "status": "completed"
    },
    "tags": []
   },
   "outputs": [
    {
     "name": "stdout",
     "output_type": "stream",
     "text": [
      "Replaced SiLU with DyReLU in layer: act with 80 channels.\n",
      "Replaced SiLU with DyReLU in layer: act with 160 channels.\n",
      "Replaced SiLU with DyReLU in layer: act with 160 channels.\n",
      "Replaced SiLU with DyReLU in layer: act with 160 channels.\n",
      "Replaced SiLU with DyReLU in layer: act with 80 channels.\n",
      "Replaced SiLU with DyReLU in layer: act with 80 channels.\n",
      "Replaced SiLU with DyReLU in layer: act with 80 channels.\n",
      "Replaced SiLU with DyReLU in layer: act with 80 channels.\n",
      "Replaced SiLU with DyReLU in layer: act with 80 channels.\n",
      "Replaced SiLU with DyReLU in layer: act with 80 channels.\n",
      "Replaced SiLU with DyReLU in layer: act with 320 channels.\n",
      "Replaced SiLU with DyReLU in layer: act with 320 channels.\n",
      "Replaced SiLU with DyReLU in layer: act with 320 channels.\n",
      "Replaced SiLU with DyReLU in layer: act with 160 channels.\n",
      "Replaced SiLU with DyReLU in layer: act with 160 channels.\n",
      "Replaced SiLU with DyReLU in layer: act with 160 channels.\n",
      "Replaced SiLU with DyReLU in layer: act with 160 channels.\n",
      "Replaced SiLU with DyReLU in layer: act with 160 channels.\n",
      "Replaced SiLU with DyReLU in layer: act with 160 channels.\n",
      "Replaced SiLU with DyReLU in layer: act with 160 channels.\n",
      "Replaced SiLU with DyReLU in layer: act with 160 channels.\n",
      "Replaced SiLU with DyReLU in layer: act with 160 channels.\n",
      "Replaced SiLU with DyReLU in layer: act with 160 channels.\n",
      "Replaced SiLU with DyReLU in layer: act with 160 channels.\n",
      "Replaced SiLU with DyReLU in layer: act with 160 channels.\n",
      "Replaced SiLU with DyReLU in layer: act with 640 channels.\n",
      "Replaced SiLU with DyReLU in layer: act with 640 channels.\n",
      "Replaced SiLU with DyReLU in layer: act with 640 channels.\n",
      "Replaced SiLU with DyReLU in layer: act with 320 channels.\n",
      "Replaced SiLU with DyReLU in layer: act with 320 channels.\n",
      "Replaced SiLU with DyReLU in layer: act with 320 channels.\n",
      "Replaced SiLU with DyReLU in layer: act with 320 channels.\n",
      "Replaced SiLU with DyReLU in layer: act with 320 channels.\n",
      "Replaced SiLU with DyReLU in layer: act with 320 channels.\n",
      "Replaced SiLU with DyReLU in layer: act with 320 channels.\n",
      "Replaced SiLU with DyReLU in layer: act with 320 channels.\n",
      "Replaced SiLU with DyReLU in layer: act with 320 channels.\n",
      "Replaced SiLU with DyReLU in layer: act with 320 channels.\n",
      "Replaced SiLU with DyReLU in layer: act with 320 channels.\n",
      "Replaced SiLU with DyReLU in layer: act with 320 channels.\n",
      "Replaced SiLU with DyReLU in layer: act with 640 channels.\n",
      "Replaced SiLU with DyReLU in layer: act with 640 channels.\n",
      "Replaced SiLU with DyReLU in layer: act with 640 channels.\n",
      "Replaced SiLU with DyReLU in layer: act with 320 channels.\n",
      "Replaced SiLU with DyReLU in layer: act with 320 channels.\n",
      "Replaced SiLU with DyReLU in layer: act with 320 channels.\n",
      "Replaced SiLU with DyReLU in layer: act with 320 channels.\n",
      "Replaced SiLU with DyReLU in layer: act with 320 channels.\n",
      "Replaced SiLU with DyReLU in layer: act with 320 channels.\n",
      "Replaced SiLU with DyReLU in layer: act with 320 channels.\n",
      "Replaced SiLU with DyReLU in layer: act with 640 channels.\n",
      "Replaced SiLU with DyReLU in layer: act with 640 channels.\n",
      "Replaced SiLU with DyReLU in layer: act with 640 channels.\n",
      "Replaced SiLU with DyReLU in layer: act with 320 channels.\n",
      "Replaced SiLU with DyReLU in layer: act with 320 channels.\n",
      "Replaced SiLU with DyReLU in layer: act with 320 channels.\n",
      "Replaced SiLU with DyReLU in layer: act with 320 channels.\n",
      "Replaced SiLU with DyReLU in layer: act with 320 channels.\n",
      "Replaced SiLU with DyReLU in layer: act with 320 channels.\n",
      "Replaced SiLU with DyReLU in layer: act with 320 channels.\n",
      "Replaced SiLU with DyReLU in layer: act with 320 channels.\n",
      "Replaced SiLU with DyReLU in layer: act with 160 channels.\n",
      "Replaced SiLU with DyReLU in layer: act with 160 channels.\n",
      "Replaced SiLU with DyReLU in layer: act with 160 channels.\n",
      "Replaced SiLU with DyReLU in layer: act with 160 channels.\n",
      "Replaced SiLU with DyReLU in layer: act with 160 channels.\n",
      "Replaced SiLU with DyReLU in layer: act with 160 channels.\n",
      "Replaced SiLU with DyReLU in layer: act with 320 channels.\n",
      "Replaced SiLU with DyReLU in layer: act with 640 channels.\n",
      "Replaced SiLU with DyReLU in layer: act with 640 channels.\n",
      "Replaced SiLU with DyReLU in layer: act with 320 channels.\n",
      "Replaced SiLU with DyReLU in layer: act with 320 channels.\n",
      "Replaced SiLU with DyReLU in layer: act with 320 channels.\n",
      "Replaced SiLU with DyReLU in layer: act with 320 channels.\n",
      "Replaced SiLU with DyReLU in layer: act with 320 channels.\n",
      "Replaced SiLU with DyReLU in layer: act with 320 channels.\n",
      "Replaced SiLU with DyReLU in layer: act with 640 channels.\n",
      "Replaced SiLU with DyReLU in layer: act with 640 channels.\n",
      "Replaced SiLU with DyReLU in layer: act with 640 channels.\n",
      "Replaced SiLU with DyReLU in layer: act with 320 channels.\n",
      "Replaced SiLU with DyReLU in layer: act with 320 channels.\n",
      "Replaced SiLU with DyReLU in layer: act with 320 channels.\n",
      "Replaced SiLU with DyReLU in layer: act with 320 channels.\n",
      "Replaced SiLU with DyReLU in layer: act with 320 channels.\n",
      "Replaced SiLU with DyReLU in layer: act with 320 channels.\n",
      "Replaced SiLU with DyReLU in layer: act with 80 channels.\n",
      "Replaced SiLU with DyReLU in layer: act with 80 channels.\n",
      "Replaced SiLU with DyReLU in layer: act with 80 channels.\n",
      "Replaced SiLU with DyReLU in layer: act with 80 channels.\n",
      "Replaced SiLU with DyReLU in layer: act with 80 channels.\n",
      "Replaced SiLU with DyReLU in layer: act with 80 channels.\n",
      "Replaced SiLU with DyReLU in layer: act with 320 channels.\n",
      "Replaced SiLU with DyReLU in layer: act with 320 channels.\n",
      "Replaced SiLU with DyReLU in layer: act with 320 channels.\n",
      "Replaced SiLU with DyReLU in layer: act with 320 channels.\n",
      "Replaced SiLU with DyReLU in layer: act with 320 channels.\n",
      "Replaced SiLU with DyReLU in layer: act with 320 channels.\n",
      "Layer 2 is C2f, replacing with C2fDM.\n",
      "Replaced C2f with C2fDM in layer 2.\n",
      "Layer 4 is C2f, replacing with C2fDM.\n",
      "Replaced C2f with C2fDM in layer 4.\n",
      "Layer 6 is C2f, replacing with C2fDM.\n",
      "Replaced C2f with C2fDM in layer 6.\n",
      "Layer 8 is C2f, replacing with C2fDM.\n",
      "Replaced C2f with C2fDM in layer 8.\n",
      "Layer 12 is C2f, replacing with C2fDM.\n",
      "Replaced C2f with C2fDM in layer 12.\n",
      "Layer 15 is C2f, replacing with C2fDM.\n",
      "Replaced C2f with C2fDM in layer 15.\n",
      "Layer 18 is C2f, replacing with C2fDM.\n",
      "Replaced C2f with C2fDM in layer 18.\n",
      "Layer 21 is C2f, replacing with C2fDM.\n",
      "Replaced C2f with C2fDM in layer 21.\n",
      "Layer 11 is Concat, replacing with Fusion and adding BiFormer.\n",
      "Replaced layer 11 with BiFormer and Fusion.\n",
      "Layer 14 is Concat, replacing with Fusion and adding BiFormer.\n",
      "Replaced layer 14 with BiFormer and Fusion.\n",
      "Layer 17 is Concat, replacing with Fusion and adding BiFormer.\n",
      "Replaced layer 17 with BiFormer and Fusion.\n",
      "Layer 20 is Concat, replacing with Fusion and adding BiFormer.\n",
      "Replaced layer 20 with BiFormer and Fusion.\n",
      "Replaced FPN with BGFPN.\n",
      "Replaced CIoU loss with SMPDIoU and added CBFocalLoss.\n",
      "Added callback for event 'on_pretrain_routine_start'.\n"
     ]
    }
   ],
   "source": [
    "# Initialize the model\n",
    "# model = HPYOLOv8(model_path='yolov8x.pt')\n",
    "model = HPYOLOv8(model_path='/kaggle/input/vincxr-yolov8x-balancemax-hpyolov8-chestxray/vincxr_yolov8x_balanceMax_HPYOLOv8_ChestXray/time11hour/weights/last.pt')\n",
    "\n",
    "# Add the dataset patch callback\n",
    "try:\n",
    "    model.add_callback(\"on_pretrain_routine_start\", patch_dataset)\n",
    "except AttributeError as e:\n",
    "    print(f\"Failed to add callback: {e}\")"
   ]
  },
  {
   "cell_type": "code",
   "execution_count": 18,
   "id": "4af0a05a",
   "metadata": {
    "execution": {
     "iopub.execute_input": "2024-09-24T10:52:00.836623Z",
     "iopub.status.busy": "2024-09-24T10:52:00.836200Z",
     "iopub.status.idle": "2024-09-24T10:52:00.840208Z",
     "shell.execute_reply": "2024-09-24T10:52:00.839372Z"
    },
    "papermill": {
     "duration": 0.017626,
     "end_time": "2024-09-24T10:52:00.842243",
     "exception": false,
     "start_time": "2024-09-24T10:52:00.824617",
     "status": "completed"
    },
    "tags": []
   },
   "outputs": [],
   "source": [
    "# # Print model summary\n",
    "# from torchsummary import summary\n",
    "# summary(model.model, input_size=(3, 640, 640))"
   ]
  },
  {
   "cell_type": "code",
   "execution_count": 19,
   "id": "9babeacd",
   "metadata": {
    "execution": {
     "iopub.execute_input": "2024-09-24T10:52:00.863808Z",
     "iopub.status.busy": "2024-09-24T10:52:00.863519Z",
     "iopub.status.idle": "2024-09-24T10:52:00.875323Z",
     "shell.execute_reply": "2024-09-24T10:52:00.874472Z"
    },
    "papermill": {
     "duration": 0.026291,
     "end_time": "2024-09-24T10:52:00.878959",
     "exception": false,
     "start_time": "2024-09-24T10:52:00.852668",
     "status": "completed"
    },
    "tags": []
   },
   "outputs": [
    {
     "name": "stdout",
     "output_type": "stream",
     "text": [
      "Modified YOLOv8 Architecture:\n",
      "YOLO(\n",
      "  (model): DetectionModel(\n",
      "    (model): Sequential(\n",
      "      (0): Conv(\n",
      "        (conv): Conv2d(3, 80, kernel_size=(3, 3), stride=(2, 2), padding=(1, 1), bias=False)\n",
      "        (bn): BatchNorm2d(80, eps=0.001, momentum=0.03, affine=True, track_running_stats=True)\n",
      "        (act): DyReLU(\n",
      "          (fc1): Linear(in_features=80, out_features=20, bias=True)\n",
      "          (relu): ReLU(inplace=True)\n",
      "          (fc2): Linear(in_features=20, out_features=320, bias=True)\n",
      "          (sigmoid): Sigmoid()\n",
      "        )\n",
      "      )\n",
      "      (1): Conv(\n",
      "        (conv): Conv2d(80, 160, kernel_size=(3, 3), stride=(2, 2), padding=(1, 1), bias=False)\n",
      "        (bn): BatchNorm2d(160, eps=0.001, momentum=0.03, affine=True, track_running_stats=True)\n",
      "        (act): DyReLU(\n",
      "          (fc1): Linear(in_features=160, out_features=40, bias=True)\n",
      "          (relu): ReLU(inplace=True)\n",
      "          (fc2): Linear(in_features=40, out_features=640, bias=True)\n",
      "          (sigmoid): Sigmoid()\n",
      "        )\n",
      "      )\n",
      "      (2): C2fDM(\n",
      "        (cv1): Conv2d(160, 160, kernel_size=(1, 1), stride=(1, 1), bias=False)\n",
      "        (bn): BatchNorm2d(160, eps=1e-05, momentum=0.1, affine=True, track_running_stats=True)\n",
      "        (act): DyReLU(\n",
      "          (fc1): Linear(in_features=160, out_features=40, bias=True)\n",
      "          (relu): ReLU(inplace=True)\n",
      "          (fc2): Linear(in_features=40, out_features=640, bias=True)\n",
      "          (sigmoid): Sigmoid()\n",
      "        )\n",
      "        (cv2): Conv2d(240, 160, kernel_size=(1, 1), stride=(1, 1), bias=False)\n",
      "        (m): Sequential(\n",
      "          (0): DMBottleneck(\n",
      "            (split): Sequential(\n",
      "              (0): Conv2d(80, 40, kernel_size=(1, 1), stride=(1, 1), bias=False)\n",
      "              (1): BatchNorm2d(40, eps=1e-05, momentum=0.1, affine=True, track_running_stats=True)\n",
      "              (2): DyReLU(\n",
      "                (fc1): Linear(in_features=40, out_features=10, bias=True)\n",
      "                (relu): ReLU(inplace=True)\n",
      "                (fc2): Linear(in_features=10, out_features=160, bias=True)\n",
      "                (sigmoid): Sigmoid()\n",
      "              )\n",
      "            )\n",
      "            (osra): OSRA(\n",
      "              (conv): Conv2d(40, 40, kernel_size=(3, 3), stride=(1, 1), padding=(1, 1), bias=False)\n",
      "              (bn): BatchNorm2d(40, eps=1e-05, momentum=0.1, affine=True, track_running_stats=True)\n",
      "              (act): DyReLU(\n",
      "                (fc1): Linear(in_features=40, out_features=10, bias=True)\n",
      "                (relu): ReLU(inplace=True)\n",
      "                (fc2): Linear(in_features=10, out_features=160, bias=True)\n",
      "                (sigmoid): Sigmoid()\n",
      "              )\n",
      "            )\n",
      "            (idconv): IDConv(\n",
      "              (conv1): Conv2d(40, 10, kernel_size=(1, 1), stride=(1, 1), bias=False)\n",
      "              (bn1): BatchNorm2d(10, eps=1e-05, momentum=0.1, affine=True, track_running_stats=True)\n",
      "              (act1): DyReLU(\n",
      "                (fc1): Linear(in_features=10, out_features=2, bias=True)\n",
      "                (relu): ReLU(inplace=True)\n",
      "                (fc2): Linear(in_features=2, out_features=40, bias=True)\n",
      "                (sigmoid): Sigmoid()\n",
      "              )\n",
      "              (conv2): Conv2d(10, 40, kernel_size=(1, 1), stride=(1, 1), bias=False)\n",
      "              (bn2): BatchNorm2d(40, eps=1e-05, momentum=0.1, affine=True, track_running_stats=True)\n",
      "              (act2): DyReLU(\n",
      "                (fc1): Linear(in_features=40, out_features=10, bias=True)\n",
      "                (relu): ReLU(inplace=True)\n",
      "                (fc2): Linear(in_features=10, out_features=160, bias=True)\n",
      "                (sigmoid): Sigmoid()\n",
      "              )\n",
      "            )\n",
      "            (ste): STE(\n",
      "              (conv1): Conv2d(80, 20, kernel_size=(1, 1), stride=(1, 1), bias=False)\n",
      "              (bn1): BatchNorm2d(20, eps=1e-05, momentum=0.1, affine=True, track_running_stats=True)\n",
      "              (act1): DyReLU(\n",
      "                (fc1): Linear(in_features=20, out_features=5, bias=True)\n",
      "                (relu): ReLU(inplace=True)\n",
      "                (fc2): Linear(in_features=5, out_features=80, bias=True)\n",
      "                (sigmoid): Sigmoid()\n",
      "              )\n",
      "              (conv2): Conv2d(20, 80, kernel_size=(1, 1), stride=(1, 1), bias=False)\n",
      "              (bn2): BatchNorm2d(80, eps=1e-05, momentum=0.1, affine=True, track_running_stats=True)\n",
      "              (act2): DyReLU(\n",
      "                (fc1): Linear(in_features=80, out_features=20, bias=True)\n",
      "                (relu): ReLU(inplace=True)\n",
      "                (fc2): Linear(in_features=20, out_features=320, bias=True)\n",
      "                (sigmoid): Sigmoid()\n",
      "              )\n",
      "            )\n",
      "          )\n",
      "        )\n",
      "        (shortcut_conv): Conv2d(160, 160, kernel_size=(1, 1), stride=(1, 1), bias=False)\n",
      "        (shortcut_bn): BatchNorm2d(160, eps=1e-05, momentum=0.1, affine=True, track_running_stats=True)\n",
      "        (shortcut_act): DyReLU(\n",
      "          (fc1): Linear(in_features=160, out_features=40, bias=True)\n",
      "          (relu): ReLU(inplace=True)\n",
      "          (fc2): Linear(in_features=40, out_features=640, bias=True)\n",
      "          (sigmoid): Sigmoid()\n",
      "        )\n",
      "      )\n",
      "      (3): Conv(\n",
      "        (conv): Conv2d(160, 320, kernel_size=(3, 3), stride=(2, 2), padding=(1, 1), bias=False)\n",
      "        (bn): BatchNorm2d(320, eps=0.001, momentum=0.03, affine=True, track_running_stats=True)\n",
      "        (act): DyReLU(\n",
      "          (fc1): Linear(in_features=320, out_features=80, bias=True)\n",
      "          (relu): ReLU(inplace=True)\n",
      "          (fc2): Linear(in_features=80, out_features=1280, bias=True)\n",
      "          (sigmoid): Sigmoid()\n",
      "        )\n",
      "      )\n",
      "      (4): C2fDM(\n",
      "        (cv1): Conv2d(320, 320, kernel_size=(1, 1), stride=(1, 1), bias=False)\n",
      "        (bn): BatchNorm2d(320, eps=1e-05, momentum=0.1, affine=True, track_running_stats=True)\n",
      "        (act): DyReLU(\n",
      "          (fc1): Linear(in_features=320, out_features=80, bias=True)\n",
      "          (relu): ReLU(inplace=True)\n",
      "          (fc2): Linear(in_features=80, out_features=1280, bias=True)\n",
      "          (sigmoid): Sigmoid()\n",
      "        )\n",
      "        (cv2): Conv2d(480, 320, kernel_size=(1, 1), stride=(1, 1), bias=False)\n",
      "        (m): Sequential(\n",
      "          (0): DMBottleneck(\n",
      "            (split): Sequential(\n",
      "              (0): Conv2d(160, 80, kernel_size=(1, 1), stride=(1, 1), bias=False)\n",
      "              (1): BatchNorm2d(80, eps=1e-05, momentum=0.1, affine=True, track_running_stats=True)\n",
      "              (2): DyReLU(\n",
      "                (fc1): Linear(in_features=80, out_features=20, bias=True)\n",
      "                (relu): ReLU(inplace=True)\n",
      "                (fc2): Linear(in_features=20, out_features=320, bias=True)\n",
      "                (sigmoid): Sigmoid()\n",
      "              )\n",
      "            )\n",
      "            (osra): OSRA(\n",
      "              (conv): Conv2d(80, 80, kernel_size=(3, 3), stride=(1, 1), padding=(1, 1), bias=False)\n",
      "              (bn): BatchNorm2d(80, eps=1e-05, momentum=0.1, affine=True, track_running_stats=True)\n",
      "              (act): DyReLU(\n",
      "                (fc1): Linear(in_features=80, out_features=20, bias=True)\n",
      "                (relu): ReLU(inplace=True)\n",
      "                (fc2): Linear(in_features=20, out_features=320, bias=True)\n",
      "                (sigmoid): Sigmoid()\n",
      "              )\n",
      "            )\n",
      "            (idconv): IDConv(\n",
      "              (conv1): Conv2d(80, 20, kernel_size=(1, 1), stride=(1, 1), bias=False)\n",
      "              (bn1): BatchNorm2d(20, eps=1e-05, momentum=0.1, affine=True, track_running_stats=True)\n",
      "              (act1): DyReLU(\n",
      "                (fc1): Linear(in_features=20, out_features=5, bias=True)\n",
      "                (relu): ReLU(inplace=True)\n",
      "                (fc2): Linear(in_features=5, out_features=80, bias=True)\n",
      "                (sigmoid): Sigmoid()\n",
      "              )\n",
      "              (conv2): Conv2d(20, 80, kernel_size=(1, 1), stride=(1, 1), bias=False)\n",
      "              (bn2): BatchNorm2d(80, eps=1e-05, momentum=0.1, affine=True, track_running_stats=True)\n",
      "              (act2): DyReLU(\n",
      "                (fc1): Linear(in_features=80, out_features=20, bias=True)\n",
      "                (relu): ReLU(inplace=True)\n",
      "                (fc2): Linear(in_features=20, out_features=320, bias=True)\n",
      "                (sigmoid): Sigmoid()\n",
      "              )\n",
      "            )\n",
      "            (ste): STE(\n",
      "              (conv1): Conv2d(160, 40, kernel_size=(1, 1), stride=(1, 1), bias=False)\n",
      "              (bn1): BatchNorm2d(40, eps=1e-05, momentum=0.1, affine=True, track_running_stats=True)\n",
      "              (act1): DyReLU(\n",
      "                (fc1): Linear(in_features=40, out_features=10, bias=True)\n",
      "                (relu): ReLU(inplace=True)\n",
      "                (fc2): Linear(in_features=10, out_features=160, bias=True)\n",
      "                (sigmoid): Sigmoid()\n",
      "              )\n",
      "              (conv2): Conv2d(40, 160, kernel_size=(1, 1), stride=(1, 1), bias=False)\n",
      "              (bn2): BatchNorm2d(160, eps=1e-05, momentum=0.1, affine=True, track_running_stats=True)\n",
      "              (act2): DyReLU(\n",
      "                (fc1): Linear(in_features=160, out_features=40, bias=True)\n",
      "                (relu): ReLU(inplace=True)\n",
      "                (fc2): Linear(in_features=40, out_features=640, bias=True)\n",
      "                (sigmoid): Sigmoid()\n",
      "              )\n",
      "            )\n",
      "          )\n",
      "        )\n",
      "        (shortcut_conv): Conv2d(320, 320, kernel_size=(1, 1), stride=(1, 1), bias=False)\n",
      "        (shortcut_bn): BatchNorm2d(320, eps=1e-05, momentum=0.1, affine=True, track_running_stats=True)\n",
      "        (shortcut_act): DyReLU(\n",
      "          (fc1): Linear(in_features=320, out_features=80, bias=True)\n",
      "          (relu): ReLU(inplace=True)\n",
      "          (fc2): Linear(in_features=80, out_features=1280, bias=True)\n",
      "          (sigmoid): Sigmoid()\n",
      "        )\n",
      "      )\n",
      "      (5): Conv(\n",
      "        (conv): Conv2d(320, 640, kernel_size=(3, 3), stride=(2, 2), padding=(1, 1), bias=False)\n",
      "        (bn): BatchNorm2d(640, eps=0.001, momentum=0.03, affine=True, track_running_stats=True)\n",
      "        (act): DyReLU(\n",
      "          (fc1): Linear(in_features=640, out_features=160, bias=True)\n",
      "          (relu): ReLU(inplace=True)\n",
      "          (fc2): Linear(in_features=160, out_features=2560, bias=True)\n",
      "          (sigmoid): Sigmoid()\n",
      "        )\n",
      "      )\n",
      "      (6): C2fDM(\n",
      "        (cv1): Conv2d(640, 640, kernel_size=(1, 1), stride=(1, 1), bias=False)\n",
      "        (bn): BatchNorm2d(640, eps=1e-05, momentum=0.1, affine=True, track_running_stats=True)\n",
      "        (act): DyReLU(\n",
      "          (fc1): Linear(in_features=640, out_features=160, bias=True)\n",
      "          (relu): ReLU(inplace=True)\n",
      "          (fc2): Linear(in_features=160, out_features=2560, bias=True)\n",
      "          (sigmoid): Sigmoid()\n",
      "        )\n",
      "        (cv2): Conv2d(960, 640, kernel_size=(1, 1), stride=(1, 1), bias=False)\n",
      "        (m): Sequential(\n",
      "          (0): DMBottleneck(\n",
      "            (split): Sequential(\n",
      "              (0): Conv2d(320, 160, kernel_size=(1, 1), stride=(1, 1), bias=False)\n",
      "              (1): BatchNorm2d(160, eps=1e-05, momentum=0.1, affine=True, track_running_stats=True)\n",
      "              (2): DyReLU(\n",
      "                (fc1): Linear(in_features=160, out_features=40, bias=True)\n",
      "                (relu): ReLU(inplace=True)\n",
      "                (fc2): Linear(in_features=40, out_features=640, bias=True)\n",
      "                (sigmoid): Sigmoid()\n",
      "              )\n",
      "            )\n",
      "            (osra): OSRA(\n",
      "              (conv): Conv2d(160, 160, kernel_size=(3, 3), stride=(1, 1), padding=(1, 1), bias=False)\n",
      "              (bn): BatchNorm2d(160, eps=1e-05, momentum=0.1, affine=True, track_running_stats=True)\n",
      "              (act): DyReLU(\n",
      "                (fc1): Linear(in_features=160, out_features=40, bias=True)\n",
      "                (relu): ReLU(inplace=True)\n",
      "                (fc2): Linear(in_features=40, out_features=640, bias=True)\n",
      "                (sigmoid): Sigmoid()\n",
      "              )\n",
      "            )\n",
      "            (idconv): IDConv(\n",
      "              (conv1): Conv2d(160, 40, kernel_size=(1, 1), stride=(1, 1), bias=False)\n",
      "              (bn1): BatchNorm2d(40, eps=1e-05, momentum=0.1, affine=True, track_running_stats=True)\n",
      "              (act1): DyReLU(\n",
      "                (fc1): Linear(in_features=40, out_features=10, bias=True)\n",
      "                (relu): ReLU(inplace=True)\n",
      "                (fc2): Linear(in_features=10, out_features=160, bias=True)\n",
      "                (sigmoid): Sigmoid()\n",
      "              )\n",
      "              (conv2): Conv2d(40, 160, kernel_size=(1, 1), stride=(1, 1), bias=False)\n",
      "              (bn2): BatchNorm2d(160, eps=1e-05, momentum=0.1, affine=True, track_running_stats=True)\n",
      "              (act2): DyReLU(\n",
      "                (fc1): Linear(in_features=160, out_features=40, bias=True)\n",
      "                (relu): ReLU(inplace=True)\n",
      "                (fc2): Linear(in_features=40, out_features=640, bias=True)\n",
      "                (sigmoid): Sigmoid()\n",
      "              )\n",
      "            )\n",
      "            (ste): STE(\n",
      "              (conv1): Conv2d(320, 80, kernel_size=(1, 1), stride=(1, 1), bias=False)\n",
      "              (bn1): BatchNorm2d(80, eps=1e-05, momentum=0.1, affine=True, track_running_stats=True)\n",
      "              (act1): DyReLU(\n",
      "                (fc1): Linear(in_features=80, out_features=20, bias=True)\n",
      "                (relu): ReLU(inplace=True)\n",
      "                (fc2): Linear(in_features=20, out_features=320, bias=True)\n",
      "                (sigmoid): Sigmoid()\n",
      "              )\n",
      "              (conv2): Conv2d(80, 320, kernel_size=(1, 1), stride=(1, 1), bias=False)\n",
      "              (bn2): BatchNorm2d(320, eps=1e-05, momentum=0.1, affine=True, track_running_stats=True)\n",
      "              (act2): DyReLU(\n",
      "                (fc1): Linear(in_features=320, out_features=80, bias=True)\n",
      "                (relu): ReLU(inplace=True)\n",
      "                (fc2): Linear(in_features=80, out_features=1280, bias=True)\n",
      "                (sigmoid): Sigmoid()\n",
      "              )\n",
      "            )\n",
      "          )\n",
      "        )\n",
      "        (shortcut_conv): Conv2d(640, 640, kernel_size=(1, 1), stride=(1, 1), bias=False)\n",
      "        (shortcut_bn): BatchNorm2d(640, eps=1e-05, momentum=0.1, affine=True, track_running_stats=True)\n",
      "        (shortcut_act): DyReLU(\n",
      "          (fc1): Linear(in_features=640, out_features=160, bias=True)\n",
      "          (relu): ReLU(inplace=True)\n",
      "          (fc2): Linear(in_features=160, out_features=2560, bias=True)\n",
      "          (sigmoid): Sigmoid()\n",
      "        )\n",
      "      )\n",
      "      (7): Conv(\n",
      "        (conv): Conv2d(640, 640, kernel_size=(3, 3), stride=(2, 2), padding=(1, 1), bias=False)\n",
      "        (bn): BatchNorm2d(640, eps=0.001, momentum=0.03, affine=True, track_running_stats=True)\n",
      "        (act): DyReLU(\n",
      "          (fc1): Linear(in_features=640, out_features=160, bias=True)\n",
      "          (relu): ReLU(inplace=True)\n",
      "          (fc2): Linear(in_features=160, out_features=2560, bias=True)\n",
      "          (sigmoid): Sigmoid()\n",
      "        )\n",
      "      )\n",
      "      (8): C2fDM(\n",
      "        (cv1): Conv2d(640, 640, kernel_size=(1, 1), stride=(1, 1), bias=False)\n",
      "        (bn): BatchNorm2d(640, eps=1e-05, momentum=0.1, affine=True, track_running_stats=True)\n",
      "        (act): DyReLU(\n",
      "          (fc1): Linear(in_features=640, out_features=160, bias=True)\n",
      "          (relu): ReLU(inplace=True)\n",
      "          (fc2): Linear(in_features=160, out_features=2560, bias=True)\n",
      "          (sigmoid): Sigmoid()\n",
      "        )\n",
      "        (cv2): Conv2d(960, 640, kernel_size=(1, 1), stride=(1, 1), bias=False)\n",
      "        (m): Sequential(\n",
      "          (0): DMBottleneck(\n",
      "            (split): Sequential(\n",
      "              (0): Conv2d(320, 160, kernel_size=(1, 1), stride=(1, 1), bias=False)\n",
      "              (1): BatchNorm2d(160, eps=1e-05, momentum=0.1, affine=True, track_running_stats=True)\n",
      "              (2): DyReLU(\n",
      "                (fc1): Linear(in_features=160, out_features=40, bias=True)\n",
      "                (relu): ReLU(inplace=True)\n",
      "                (fc2): Linear(in_features=40, out_features=640, bias=True)\n",
      "                (sigmoid): Sigmoid()\n",
      "              )\n",
      "            )\n",
      "            (osra): OSRA(\n",
      "              (conv): Conv2d(160, 160, kernel_size=(3, 3), stride=(1, 1), padding=(1, 1), bias=False)\n",
      "              (bn): BatchNorm2d(160, eps=1e-05, momentum=0.1, affine=True, track_running_stats=True)\n",
      "              (act): DyReLU(\n",
      "                (fc1): Linear(in_features=160, out_features=40, bias=True)\n",
      "                (relu): ReLU(inplace=True)\n",
      "                (fc2): Linear(in_features=40, out_features=640, bias=True)\n",
      "                (sigmoid): Sigmoid()\n",
      "              )\n",
      "            )\n",
      "            (idconv): IDConv(\n",
      "              (conv1): Conv2d(160, 40, kernel_size=(1, 1), stride=(1, 1), bias=False)\n",
      "              (bn1): BatchNorm2d(40, eps=1e-05, momentum=0.1, affine=True, track_running_stats=True)\n",
      "              (act1): DyReLU(\n",
      "                (fc1): Linear(in_features=40, out_features=10, bias=True)\n",
      "                (relu): ReLU(inplace=True)\n",
      "                (fc2): Linear(in_features=10, out_features=160, bias=True)\n",
      "                (sigmoid): Sigmoid()\n",
      "              )\n",
      "              (conv2): Conv2d(40, 160, kernel_size=(1, 1), stride=(1, 1), bias=False)\n",
      "              (bn2): BatchNorm2d(160, eps=1e-05, momentum=0.1, affine=True, track_running_stats=True)\n",
      "              (act2): DyReLU(\n",
      "                (fc1): Linear(in_features=160, out_features=40, bias=True)\n",
      "                (relu): ReLU(inplace=True)\n",
      "                (fc2): Linear(in_features=40, out_features=640, bias=True)\n",
      "                (sigmoid): Sigmoid()\n",
      "              )\n",
      "            )\n",
      "            (ste): STE(\n",
      "              (conv1): Conv2d(320, 80, kernel_size=(1, 1), stride=(1, 1), bias=False)\n",
      "              (bn1): BatchNorm2d(80, eps=1e-05, momentum=0.1, affine=True, track_running_stats=True)\n",
      "              (act1): DyReLU(\n",
      "                (fc1): Linear(in_features=80, out_features=20, bias=True)\n",
      "                (relu): ReLU(inplace=True)\n",
      "                (fc2): Linear(in_features=20, out_features=320, bias=True)\n",
      "                (sigmoid): Sigmoid()\n",
      "              )\n",
      "              (conv2): Conv2d(80, 320, kernel_size=(1, 1), stride=(1, 1), bias=False)\n",
      "              (bn2): BatchNorm2d(320, eps=1e-05, momentum=0.1, affine=True, track_running_stats=True)\n",
      "              (act2): DyReLU(\n",
      "                (fc1): Linear(in_features=320, out_features=80, bias=True)\n",
      "                (relu): ReLU(inplace=True)\n",
      "                (fc2): Linear(in_features=80, out_features=1280, bias=True)\n",
      "                (sigmoid): Sigmoid()\n",
      "              )\n",
      "            )\n",
      "          )\n",
      "        )\n",
      "        (shortcut_conv): Conv2d(640, 640, kernel_size=(1, 1), stride=(1, 1), bias=False)\n",
      "        (shortcut_bn): BatchNorm2d(640, eps=1e-05, momentum=0.1, affine=True, track_running_stats=True)\n",
      "        (shortcut_act): DyReLU(\n",
      "          (fc1): Linear(in_features=640, out_features=160, bias=True)\n",
      "          (relu): ReLU(inplace=True)\n",
      "          (fc2): Linear(in_features=160, out_features=2560, bias=True)\n",
      "          (sigmoid): Sigmoid()\n",
      "        )\n",
      "      )\n",
      "      (9): SPPF(\n",
      "        (cv1): Conv(\n",
      "          (conv): Conv2d(640, 320, kernel_size=(1, 1), stride=(1, 1), bias=False)\n",
      "          (bn): BatchNorm2d(320, eps=0.001, momentum=0.03, affine=True, track_running_stats=True)\n",
      "          (act): DyReLU(\n",
      "            (fc1): Linear(in_features=320, out_features=80, bias=True)\n",
      "            (relu): ReLU(inplace=True)\n",
      "            (fc2): Linear(in_features=80, out_features=1280, bias=True)\n",
      "            (sigmoid): Sigmoid()\n",
      "          )\n",
      "        )\n",
      "        (cv2): Conv(\n",
      "          (conv): Conv2d(1280, 640, kernel_size=(1, 1), stride=(1, 1), bias=False)\n",
      "          (bn): BatchNorm2d(640, eps=0.001, momentum=0.03, affine=True, track_running_stats=True)\n",
      "          (act): DyReLU(\n",
      "            (fc1): Linear(in_features=640, out_features=160, bias=True)\n",
      "            (relu): ReLU(inplace=True)\n",
      "            (fc2): Linear(in_features=160, out_features=2560, bias=True)\n",
      "            (sigmoid): Sigmoid()\n",
      "          )\n",
      "        )\n",
      "        (m): MaxPool2d(kernel_size=5, stride=1, padding=2, dilation=1, ceil_mode=False)\n",
      "      )\n",
      "      (10): Upsample(scale_factor=2.0, mode='nearest')\n",
      "      (11): Sequential(\n",
      "        (0): BiFormer(\n",
      "          (attn): MultiheadAttention(\n",
      "            (out_proj): NonDynamicallyQuantizableLinear(in_features=704, out_features=704, bias=True)\n",
      "          )\n",
      "          (ln): LayerNorm((704,), eps=1e-05, elementwise_affine=True)\n",
      "        )\n",
      "        (1): Fusion(\n",
      "          (conv): Conv2d(1984, 1280, kernel_size=(1, 1), stride=(1, 1), bias=False)\n",
      "          (bn): BatchNorm2d(1280, eps=1e-05, momentum=0.1, affine=True, track_running_stats=True)\n",
      "          (act): DyReLU(\n",
      "            (fc1): Linear(in_features=1280, out_features=320, bias=True)\n",
      "            (relu): ReLU(inplace=True)\n",
      "            (fc2): Linear(in_features=320, out_features=5120, bias=True)\n",
      "            (sigmoid): Sigmoid()\n",
      "          )\n",
      "        )\n",
      "      )\n",
      "      (12): C2fDM(\n",
      "        (cv1): Conv2d(1280, 640, kernel_size=(1, 1), stride=(1, 1), bias=False)\n",
      "        (bn): BatchNorm2d(640, eps=1e-05, momentum=0.1, affine=True, track_running_stats=True)\n",
      "        (act): DyReLU(\n",
      "          (fc1): Linear(in_features=640, out_features=160, bias=True)\n",
      "          (relu): ReLU(inplace=True)\n",
      "          (fc2): Linear(in_features=160, out_features=2560, bias=True)\n",
      "          (sigmoid): Sigmoid()\n",
      "        )\n",
      "        (cv2): Conv2d(960, 640, kernel_size=(1, 1), stride=(1, 1), bias=False)\n",
      "        (m): Sequential(\n",
      "          (0): DMBottleneck(\n",
      "            (split): Sequential(\n",
      "              (0): Conv2d(320, 160, kernel_size=(1, 1), stride=(1, 1), bias=False)\n",
      "              (1): BatchNorm2d(160, eps=1e-05, momentum=0.1, affine=True, track_running_stats=True)\n",
      "              (2): DyReLU(\n",
      "                (fc1): Linear(in_features=160, out_features=40, bias=True)\n",
      "                (relu): ReLU(inplace=True)\n",
      "                (fc2): Linear(in_features=40, out_features=640, bias=True)\n",
      "                (sigmoid): Sigmoid()\n",
      "              )\n",
      "            )\n",
      "            (osra): OSRA(\n",
      "              (conv): Conv2d(160, 160, kernel_size=(3, 3), stride=(1, 1), padding=(1, 1), bias=False)\n",
      "              (bn): BatchNorm2d(160, eps=1e-05, momentum=0.1, affine=True, track_running_stats=True)\n",
      "              (act): DyReLU(\n",
      "                (fc1): Linear(in_features=160, out_features=40, bias=True)\n",
      "                (relu): ReLU(inplace=True)\n",
      "                (fc2): Linear(in_features=40, out_features=640, bias=True)\n",
      "                (sigmoid): Sigmoid()\n",
      "              )\n",
      "            )\n",
      "            (idconv): IDConv(\n",
      "              (conv1): Conv2d(160, 40, kernel_size=(1, 1), stride=(1, 1), bias=False)\n",
      "              (bn1): BatchNorm2d(40, eps=1e-05, momentum=0.1, affine=True, track_running_stats=True)\n",
      "              (act1): DyReLU(\n",
      "                (fc1): Linear(in_features=40, out_features=10, bias=True)\n",
      "                (relu): ReLU(inplace=True)\n",
      "                (fc2): Linear(in_features=10, out_features=160, bias=True)\n",
      "                (sigmoid): Sigmoid()\n",
      "              )\n",
      "              (conv2): Conv2d(40, 160, kernel_size=(1, 1), stride=(1, 1), bias=False)\n",
      "              (bn2): BatchNorm2d(160, eps=1e-05, momentum=0.1, affine=True, track_running_stats=True)\n",
      "              (act2): DyReLU(\n",
      "                (fc1): Linear(in_features=160, out_features=40, bias=True)\n",
      "                (relu): ReLU(inplace=True)\n",
      "                (fc2): Linear(in_features=40, out_features=640, bias=True)\n",
      "                (sigmoid): Sigmoid()\n",
      "              )\n",
      "            )\n",
      "            (ste): STE(\n",
      "              (conv1): Conv2d(320, 80, kernel_size=(1, 1), stride=(1, 1), bias=False)\n",
      "              (bn1): BatchNorm2d(80, eps=1e-05, momentum=0.1, affine=True, track_running_stats=True)\n",
      "              (act1): DyReLU(\n",
      "                (fc1): Linear(in_features=80, out_features=20, bias=True)\n",
      "                (relu): ReLU(inplace=True)\n",
      "                (fc2): Linear(in_features=20, out_features=320, bias=True)\n",
      "                (sigmoid): Sigmoid()\n",
      "              )\n",
      "              (conv2): Conv2d(80, 320, kernel_size=(1, 1), stride=(1, 1), bias=False)\n",
      "              (bn2): BatchNorm2d(320, eps=1e-05, momentum=0.1, affine=True, track_running_stats=True)\n",
      "              (act2): DyReLU(\n",
      "                (fc1): Linear(in_features=320, out_features=80, bias=True)\n",
      "                (relu): ReLU(inplace=True)\n",
      "                (fc2): Linear(in_features=80, out_features=1280, bias=True)\n",
      "                (sigmoid): Sigmoid()\n",
      "              )\n",
      "            )\n",
      "          )\n",
      "        )\n",
      "        (shortcut_conv): Conv2d(1280, 640, kernel_size=(1, 1), stride=(1, 1), bias=False)\n",
      "        (shortcut_bn): BatchNorm2d(640, eps=1e-05, momentum=0.1, affine=True, track_running_stats=True)\n",
      "        (shortcut_act): DyReLU(\n",
      "          (fc1): Linear(in_features=640, out_features=160, bias=True)\n",
      "          (relu): ReLU(inplace=True)\n",
      "          (fc2): Linear(in_features=160, out_features=2560, bias=True)\n",
      "          (sigmoid): Sigmoid()\n",
      "        )\n",
      "      )\n",
      "      (13): Upsample(scale_factor=2.0, mode='nearest')\n",
      "      (14): Sequential(\n",
      "        (0): BiFormer(\n",
      "          (attn): MultiheadAttention(\n",
      "            (out_proj): NonDynamicallyQuantizableLinear(in_features=384, out_features=384, bias=True)\n",
      "          )\n",
      "          (ln): LayerNorm((384,), eps=1e-05, elementwise_affine=True)\n",
      "        )\n",
      "        (1): Fusion(\n",
      "          (conv): Conv2d(1344, 960, kernel_size=(1, 1), stride=(1, 1), bias=False)\n",
      "          (bn): BatchNorm2d(960, eps=1e-05, momentum=0.1, affine=True, track_running_stats=True)\n",
      "          (act): DyReLU(\n",
      "            (fc1): Linear(in_features=960, out_features=240, bias=True)\n",
      "            (relu): ReLU(inplace=True)\n",
      "            (fc2): Linear(in_features=240, out_features=3840, bias=True)\n",
      "            (sigmoid): Sigmoid()\n",
      "          )\n",
      "        )\n",
      "      )\n",
      "      (15): C2fDM(\n",
      "        (cv1): Conv2d(960, 320, kernel_size=(1, 1), stride=(1, 1), bias=False)\n",
      "        (bn): BatchNorm2d(320, eps=1e-05, momentum=0.1, affine=True, track_running_stats=True)\n",
      "        (act): DyReLU(\n",
      "          (fc1): Linear(in_features=320, out_features=80, bias=True)\n",
      "          (relu): ReLU(inplace=True)\n",
      "          (fc2): Linear(in_features=80, out_features=1280, bias=True)\n",
      "          (sigmoid): Sigmoid()\n",
      "        )\n",
      "        (cv2): Conv2d(480, 320, kernel_size=(1, 1), stride=(1, 1), bias=False)\n",
      "        (m): Sequential(\n",
      "          (0): DMBottleneck(\n",
      "            (split): Sequential(\n",
      "              (0): Conv2d(160, 80, kernel_size=(1, 1), stride=(1, 1), bias=False)\n",
      "              (1): BatchNorm2d(80, eps=1e-05, momentum=0.1, affine=True, track_running_stats=True)\n",
      "              (2): DyReLU(\n",
      "                (fc1): Linear(in_features=80, out_features=20, bias=True)\n",
      "                (relu): ReLU(inplace=True)\n",
      "                (fc2): Linear(in_features=20, out_features=320, bias=True)\n",
      "                (sigmoid): Sigmoid()\n",
      "              )\n",
      "            )\n",
      "            (osra): OSRA(\n",
      "              (conv): Conv2d(80, 80, kernel_size=(3, 3), stride=(1, 1), padding=(1, 1), bias=False)\n",
      "              (bn): BatchNorm2d(80, eps=1e-05, momentum=0.1, affine=True, track_running_stats=True)\n",
      "              (act): DyReLU(\n",
      "                (fc1): Linear(in_features=80, out_features=20, bias=True)\n",
      "                (relu): ReLU(inplace=True)\n",
      "                (fc2): Linear(in_features=20, out_features=320, bias=True)\n",
      "                (sigmoid): Sigmoid()\n",
      "              )\n",
      "            )\n",
      "            (idconv): IDConv(\n",
      "              (conv1): Conv2d(80, 20, kernel_size=(1, 1), stride=(1, 1), bias=False)\n",
      "              (bn1): BatchNorm2d(20, eps=1e-05, momentum=0.1, affine=True, track_running_stats=True)\n",
      "              (act1): DyReLU(\n",
      "                (fc1): Linear(in_features=20, out_features=5, bias=True)\n",
      "                (relu): ReLU(inplace=True)\n",
      "                (fc2): Linear(in_features=5, out_features=80, bias=True)\n",
      "                (sigmoid): Sigmoid()\n",
      "              )\n",
      "              (conv2): Conv2d(20, 80, kernel_size=(1, 1), stride=(1, 1), bias=False)\n",
      "              (bn2): BatchNorm2d(80, eps=1e-05, momentum=0.1, affine=True, track_running_stats=True)\n",
      "              (act2): DyReLU(\n",
      "                (fc1): Linear(in_features=80, out_features=20, bias=True)\n",
      "                (relu): ReLU(inplace=True)\n",
      "                (fc2): Linear(in_features=20, out_features=320, bias=True)\n",
      "                (sigmoid): Sigmoid()\n",
      "              )\n",
      "            )\n",
      "            (ste): STE(\n",
      "              (conv1): Conv2d(160, 40, kernel_size=(1, 1), stride=(1, 1), bias=False)\n",
      "              (bn1): BatchNorm2d(40, eps=1e-05, momentum=0.1, affine=True, track_running_stats=True)\n",
      "              (act1): DyReLU(\n",
      "                (fc1): Linear(in_features=40, out_features=10, bias=True)\n",
      "                (relu): ReLU(inplace=True)\n",
      "                (fc2): Linear(in_features=10, out_features=160, bias=True)\n",
      "                (sigmoid): Sigmoid()\n",
      "              )\n",
      "              (conv2): Conv2d(40, 160, kernel_size=(1, 1), stride=(1, 1), bias=False)\n",
      "              (bn2): BatchNorm2d(160, eps=1e-05, momentum=0.1, affine=True, track_running_stats=True)\n",
      "              (act2): DyReLU(\n",
      "                (fc1): Linear(in_features=160, out_features=40, bias=True)\n",
      "                (relu): ReLU(inplace=True)\n",
      "                (fc2): Linear(in_features=40, out_features=640, bias=True)\n",
      "                (sigmoid): Sigmoid()\n",
      "              )\n",
      "            )\n",
      "          )\n",
      "        )\n",
      "        (shortcut_conv): Conv2d(960, 320, kernel_size=(1, 1), stride=(1, 1), bias=False)\n",
      "        (shortcut_bn): BatchNorm2d(320, eps=1e-05, momentum=0.1, affine=True, track_running_stats=True)\n",
      "        (shortcut_act): DyReLU(\n",
      "          (fc1): Linear(in_features=320, out_features=80, bias=True)\n",
      "          (relu): ReLU(inplace=True)\n",
      "          (fc2): Linear(in_features=80, out_features=1280, bias=True)\n",
      "          (sigmoid): Sigmoid()\n",
      "        )\n",
      "      )\n",
      "      (16): Conv(\n",
      "        (conv): Conv2d(320, 320, kernel_size=(3, 3), stride=(2, 2), padding=(1, 1), bias=False)\n",
      "        (bn): BatchNorm2d(320, eps=0.001, momentum=0.03, affine=True, track_running_stats=True)\n",
      "        (act): DyReLU(\n",
      "          (fc1): Linear(in_features=320, out_features=80, bias=True)\n",
      "          (relu): ReLU(inplace=True)\n",
      "          (fc2): Linear(in_features=80, out_features=1280, bias=True)\n",
      "          (sigmoid): Sigmoid()\n",
      "        )\n",
      "      )\n",
      "      (17): Sequential(\n",
      "        (0): BiFormer(\n",
      "          (attn): MultiheadAttention(\n",
      "            (out_proj): NonDynamicallyQuantizableLinear(in_features=704, out_features=704, bias=True)\n",
      "          )\n",
      "          (ln): LayerNorm((704,), eps=1e-05, elementwise_affine=True)\n",
      "        )\n",
      "        (1): Fusion(\n",
      "          (conv): Conv2d(1664, 960, kernel_size=(1, 1), stride=(1, 1), bias=False)\n",
      "          (bn): BatchNorm2d(960, eps=1e-05, momentum=0.1, affine=True, track_running_stats=True)\n",
      "          (act): DyReLU(\n",
      "            (fc1): Linear(in_features=960, out_features=240, bias=True)\n",
      "            (relu): ReLU(inplace=True)\n",
      "            (fc2): Linear(in_features=240, out_features=3840, bias=True)\n",
      "            (sigmoid): Sigmoid()\n",
      "          )\n",
      "        )\n",
      "      )\n",
      "      (18): C2fDM(\n",
      "        (cv1): Conv2d(960, 640, kernel_size=(1, 1), stride=(1, 1), bias=False)\n",
      "        (bn): BatchNorm2d(640, eps=1e-05, momentum=0.1, affine=True, track_running_stats=True)\n",
      "        (act): DyReLU(\n",
      "          (fc1): Linear(in_features=640, out_features=160, bias=True)\n",
      "          (relu): ReLU(inplace=True)\n",
      "          (fc2): Linear(in_features=160, out_features=2560, bias=True)\n",
      "          (sigmoid): Sigmoid()\n",
      "        )\n",
      "        (cv2): Conv2d(960, 640, kernel_size=(1, 1), stride=(1, 1), bias=False)\n",
      "        (m): Sequential(\n",
      "          (0): DMBottleneck(\n",
      "            (split): Sequential(\n",
      "              (0): Conv2d(320, 160, kernel_size=(1, 1), stride=(1, 1), bias=False)\n",
      "              (1): BatchNorm2d(160, eps=1e-05, momentum=0.1, affine=True, track_running_stats=True)\n",
      "              (2): DyReLU(\n",
      "                (fc1): Linear(in_features=160, out_features=40, bias=True)\n",
      "                (relu): ReLU(inplace=True)\n",
      "                (fc2): Linear(in_features=40, out_features=640, bias=True)\n",
      "                (sigmoid): Sigmoid()\n",
      "              )\n",
      "            )\n",
      "            (osra): OSRA(\n",
      "              (conv): Conv2d(160, 160, kernel_size=(3, 3), stride=(1, 1), padding=(1, 1), bias=False)\n",
      "              (bn): BatchNorm2d(160, eps=1e-05, momentum=0.1, affine=True, track_running_stats=True)\n",
      "              (act): DyReLU(\n",
      "                (fc1): Linear(in_features=160, out_features=40, bias=True)\n",
      "                (relu): ReLU(inplace=True)\n",
      "                (fc2): Linear(in_features=40, out_features=640, bias=True)\n",
      "                (sigmoid): Sigmoid()\n",
      "              )\n",
      "            )\n",
      "            (idconv): IDConv(\n",
      "              (conv1): Conv2d(160, 40, kernel_size=(1, 1), stride=(1, 1), bias=False)\n",
      "              (bn1): BatchNorm2d(40, eps=1e-05, momentum=0.1, affine=True, track_running_stats=True)\n",
      "              (act1): DyReLU(\n",
      "                (fc1): Linear(in_features=40, out_features=10, bias=True)\n",
      "                (relu): ReLU(inplace=True)\n",
      "                (fc2): Linear(in_features=10, out_features=160, bias=True)\n",
      "                (sigmoid): Sigmoid()\n",
      "              )\n",
      "              (conv2): Conv2d(40, 160, kernel_size=(1, 1), stride=(1, 1), bias=False)\n",
      "              (bn2): BatchNorm2d(160, eps=1e-05, momentum=0.1, affine=True, track_running_stats=True)\n",
      "              (act2): DyReLU(\n",
      "                (fc1): Linear(in_features=160, out_features=40, bias=True)\n",
      "                (relu): ReLU(inplace=True)\n",
      "                (fc2): Linear(in_features=40, out_features=640, bias=True)\n",
      "                (sigmoid): Sigmoid()\n",
      "              )\n",
      "            )\n",
      "            (ste): STE(\n",
      "              (conv1): Conv2d(320, 80, kernel_size=(1, 1), stride=(1, 1), bias=False)\n",
      "              (bn1): BatchNorm2d(80, eps=1e-05, momentum=0.1, affine=True, track_running_stats=True)\n",
      "              (act1): DyReLU(\n",
      "                (fc1): Linear(in_features=80, out_features=20, bias=True)\n",
      "                (relu): ReLU(inplace=True)\n",
      "                (fc2): Linear(in_features=20, out_features=320, bias=True)\n",
      "                (sigmoid): Sigmoid()\n",
      "              )\n",
      "              (conv2): Conv2d(80, 320, kernel_size=(1, 1), stride=(1, 1), bias=False)\n",
      "              (bn2): BatchNorm2d(320, eps=1e-05, momentum=0.1, affine=True, track_running_stats=True)\n",
      "              (act2): DyReLU(\n",
      "                (fc1): Linear(in_features=320, out_features=80, bias=True)\n",
      "                (relu): ReLU(inplace=True)\n",
      "                (fc2): Linear(in_features=80, out_features=1280, bias=True)\n",
      "                (sigmoid): Sigmoid()\n",
      "              )\n",
      "            )\n",
      "          )\n",
      "        )\n",
      "        (shortcut_conv): Conv2d(960, 640, kernel_size=(1, 1), stride=(1, 1), bias=False)\n",
      "        (shortcut_bn): BatchNorm2d(640, eps=1e-05, momentum=0.1, affine=True, track_running_stats=True)\n",
      "        (shortcut_act): DyReLU(\n",
      "          (fc1): Linear(in_features=640, out_features=160, bias=True)\n",
      "          (relu): ReLU(inplace=True)\n",
      "          (fc2): Linear(in_features=160, out_features=2560, bias=True)\n",
      "          (sigmoid): Sigmoid()\n",
      "        )\n",
      "      )\n",
      "      (19): Conv(\n",
      "        (conv): Conv2d(640, 640, kernel_size=(3, 3), stride=(2, 2), padding=(1, 1), bias=False)\n",
      "        (bn): BatchNorm2d(640, eps=0.001, momentum=0.03, affine=True, track_running_stats=True)\n",
      "        (act): DyReLU(\n",
      "          (fc1): Linear(in_features=640, out_features=160, bias=True)\n",
      "          (relu): ReLU(inplace=True)\n",
      "          (fc2): Linear(in_features=160, out_features=2560, bias=True)\n",
      "          (sigmoid): Sigmoid()\n",
      "        )\n",
      "      )\n",
      "      (20): Sequential(\n",
      "        (0): BiFormer(\n",
      "          (attn): MultiheadAttention(\n",
      "            (out_proj): NonDynamicallyQuantizableLinear(in_features=704, out_features=704, bias=True)\n",
      "          )\n",
      "          (ln): LayerNorm((704,), eps=1e-05, elementwise_affine=True)\n",
      "        )\n",
      "        (1): Fusion(\n",
      "          (conv): Conv2d(1984, 1280, kernel_size=(1, 1), stride=(1, 1), bias=False)\n",
      "          (bn): BatchNorm2d(1280, eps=1e-05, momentum=0.1, affine=True, track_running_stats=True)\n",
      "          (act): DyReLU(\n",
      "            (fc1): Linear(in_features=1280, out_features=320, bias=True)\n",
      "            (relu): ReLU(inplace=True)\n",
      "            (fc2): Linear(in_features=320, out_features=5120, bias=True)\n",
      "            (sigmoid): Sigmoid()\n",
      "          )\n",
      "        )\n",
      "      )\n",
      "      (21): C2fDM(\n",
      "        (cv1): Conv2d(1280, 640, kernel_size=(1, 1), stride=(1, 1), bias=False)\n",
      "        (bn): BatchNorm2d(640, eps=1e-05, momentum=0.1, affine=True, track_running_stats=True)\n",
      "        (act): DyReLU(\n",
      "          (fc1): Linear(in_features=640, out_features=160, bias=True)\n",
      "          (relu): ReLU(inplace=True)\n",
      "          (fc2): Linear(in_features=160, out_features=2560, bias=True)\n",
      "          (sigmoid): Sigmoid()\n",
      "        )\n",
      "        (cv2): Conv2d(960, 640, kernel_size=(1, 1), stride=(1, 1), bias=False)\n",
      "        (m): Sequential(\n",
      "          (0): DMBottleneck(\n",
      "            (split): Sequential(\n",
      "              (0): Conv2d(320, 160, kernel_size=(1, 1), stride=(1, 1), bias=False)\n",
      "              (1): BatchNorm2d(160, eps=1e-05, momentum=0.1, affine=True, track_running_stats=True)\n",
      "              (2): DyReLU(\n",
      "                (fc1): Linear(in_features=160, out_features=40, bias=True)\n",
      "                (relu): ReLU(inplace=True)\n",
      "                (fc2): Linear(in_features=40, out_features=640, bias=True)\n",
      "                (sigmoid): Sigmoid()\n",
      "              )\n",
      "            )\n",
      "            (osra): OSRA(\n",
      "              (conv): Conv2d(160, 160, kernel_size=(3, 3), stride=(1, 1), padding=(1, 1), bias=False)\n",
      "              (bn): BatchNorm2d(160, eps=1e-05, momentum=0.1, affine=True, track_running_stats=True)\n",
      "              (act): DyReLU(\n",
      "                (fc1): Linear(in_features=160, out_features=40, bias=True)\n",
      "                (relu): ReLU(inplace=True)\n",
      "                (fc2): Linear(in_features=40, out_features=640, bias=True)\n",
      "                (sigmoid): Sigmoid()\n",
      "              )\n",
      "            )\n",
      "            (idconv): IDConv(\n",
      "              (conv1): Conv2d(160, 40, kernel_size=(1, 1), stride=(1, 1), bias=False)\n",
      "              (bn1): BatchNorm2d(40, eps=1e-05, momentum=0.1, affine=True, track_running_stats=True)\n",
      "              (act1): DyReLU(\n",
      "                (fc1): Linear(in_features=40, out_features=10, bias=True)\n",
      "                (relu): ReLU(inplace=True)\n",
      "                (fc2): Linear(in_features=10, out_features=160, bias=True)\n",
      "                (sigmoid): Sigmoid()\n",
      "              )\n",
      "              (conv2): Conv2d(40, 160, kernel_size=(1, 1), stride=(1, 1), bias=False)\n",
      "              (bn2): BatchNorm2d(160, eps=1e-05, momentum=0.1, affine=True, track_running_stats=True)\n",
      "              (act2): DyReLU(\n",
      "                (fc1): Linear(in_features=160, out_features=40, bias=True)\n",
      "                (relu): ReLU(inplace=True)\n",
      "                (fc2): Linear(in_features=40, out_features=640, bias=True)\n",
      "                (sigmoid): Sigmoid()\n",
      "              )\n",
      "            )\n",
      "            (ste): STE(\n",
      "              (conv1): Conv2d(320, 80, kernel_size=(1, 1), stride=(1, 1), bias=False)\n",
      "              (bn1): BatchNorm2d(80, eps=1e-05, momentum=0.1, affine=True, track_running_stats=True)\n",
      "              (act1): DyReLU(\n",
      "                (fc1): Linear(in_features=80, out_features=20, bias=True)\n",
      "                (relu): ReLU(inplace=True)\n",
      "                (fc2): Linear(in_features=20, out_features=320, bias=True)\n",
      "                (sigmoid): Sigmoid()\n",
      "              )\n",
      "              (conv2): Conv2d(80, 320, kernel_size=(1, 1), stride=(1, 1), bias=False)\n",
      "              (bn2): BatchNorm2d(320, eps=1e-05, momentum=0.1, affine=True, track_running_stats=True)\n",
      "              (act2): DyReLU(\n",
      "                (fc1): Linear(in_features=320, out_features=80, bias=True)\n",
      "                (relu): ReLU(inplace=True)\n",
      "                (fc2): Linear(in_features=80, out_features=1280, bias=True)\n",
      "                (sigmoid): Sigmoid()\n",
      "              )\n",
      "            )\n",
      "          )\n",
      "        )\n",
      "        (shortcut_conv): Conv2d(1280, 640, kernel_size=(1, 1), stride=(1, 1), bias=False)\n",
      "        (shortcut_bn): BatchNorm2d(640, eps=1e-05, momentum=0.1, affine=True, track_running_stats=True)\n",
      "        (shortcut_act): DyReLU(\n",
      "          (fc1): Linear(in_features=640, out_features=160, bias=True)\n",
      "          (relu): ReLU(inplace=True)\n",
      "          (fc2): Linear(in_features=160, out_features=2560, bias=True)\n",
      "          (sigmoid): Sigmoid()\n",
      "        )\n",
      "      )\n",
      "      (22): BGFPN(\n",
      "        (cv1): Conv2d(2240, 64, kernel_size=(1, 1), stride=(1, 1), bias=False)\n",
      "        (bn1): BatchNorm2d(64, eps=1e-05, momentum=0.1, affine=True, track_running_stats=True)\n",
      "        (act1): DyReLU(\n",
      "          (fc1): Linear(in_features=64, out_features=16, bias=True)\n",
      "          (relu): ReLU(inplace=True)\n",
      "          (fc2): Linear(in_features=16, out_features=256, bias=True)\n",
      "          (sigmoid): Sigmoid()\n",
      "        )\n",
      "        (cv2): Conv2d(64, 64, kernel_size=(3, 3), stride=(1, 1), padding=(1, 1), bias=False)\n",
      "        (bn2): BatchNorm2d(64, eps=1e-05, momentum=0.1, affine=True, track_running_stats=True)\n",
      "        (act2): DyReLU(\n",
      "          (fc1): Linear(in_features=64, out_features=16, bias=True)\n",
      "          (relu): ReLU(inplace=True)\n",
      "          (fc2): Linear(in_features=16, out_features=256, bias=True)\n",
      "          (sigmoid): Sigmoid()\n",
      "        )\n",
      "        (bra): BRA(\n",
      "          (q): Linear(in_features=64, out_features=64, bias=False)\n",
      "          (k): Linear(in_features=64, out_features=64, bias=False)\n",
      "          (v): Linear(in_features=64, out_features=64, bias=False)\n",
      "        )\n",
      "        (m): Sequential(\n",
      "          (0): C2fDM(\n",
      "            (cv1): Conv2d(64, 64, kernel_size=(1, 1), stride=(1, 1), bias=False)\n",
      "            (bn): BatchNorm2d(64, eps=1e-05, momentum=0.1, affine=True, track_running_stats=True)\n",
      "            (act): DyReLU(\n",
      "              (fc1): Linear(in_features=64, out_features=16, bias=True)\n",
      "              (relu): ReLU(inplace=True)\n",
      "              (fc2): Linear(in_features=16, out_features=256, bias=True)\n",
      "              (sigmoid): Sigmoid()\n",
      "            )\n",
      "            (cv2): Conv2d(96, 64, kernel_size=(1, 1), stride=(1, 1), bias=False)\n",
      "            (m): Sequential(\n",
      "              (0): DMBottleneck(\n",
      "                (split): Sequential(\n",
      "                  (0): Conv2d(32, 16, kernel_size=(1, 1), stride=(1, 1), bias=False)\n",
      "                  (1): BatchNorm2d(16, eps=1e-05, momentum=0.1, affine=True, track_running_stats=True)\n",
      "                  (2): DyReLU(\n",
      "                    (fc1): Linear(in_features=16, out_features=4, bias=True)\n",
      "                    (relu): ReLU(inplace=True)\n",
      "                    (fc2): Linear(in_features=4, out_features=64, bias=True)\n",
      "                    (sigmoid): Sigmoid()\n",
      "                  )\n",
      "                )\n",
      "                (osra): OSRA(\n",
      "                  (conv): Conv2d(16, 16, kernel_size=(3, 3), stride=(1, 1), padding=(1, 1), bias=False)\n",
      "                  (bn): BatchNorm2d(16, eps=1e-05, momentum=0.1, affine=True, track_running_stats=True)\n",
      "                  (act): DyReLU(\n",
      "                    (fc1): Linear(in_features=16, out_features=4, bias=True)\n",
      "                    (relu): ReLU(inplace=True)\n",
      "                    (fc2): Linear(in_features=4, out_features=64, bias=True)\n",
      "                    (sigmoid): Sigmoid()\n",
      "                  )\n",
      "                )\n",
      "                (idconv): IDConv(\n",
      "                  (conv1): Conv2d(16, 4, kernel_size=(1, 1), stride=(1, 1), bias=False)\n",
      "                  (bn1): BatchNorm2d(4, eps=1e-05, momentum=0.1, affine=True, track_running_stats=True)\n",
      "                  (act1): DyReLU(\n",
      "                    (fc1): Linear(in_features=4, out_features=1, bias=True)\n",
      "                    (relu): ReLU(inplace=True)\n",
      "                    (fc2): Linear(in_features=1, out_features=16, bias=True)\n",
      "                    (sigmoid): Sigmoid()\n",
      "                  )\n",
      "                  (conv2): Conv2d(4, 16, kernel_size=(1, 1), stride=(1, 1), bias=False)\n",
      "                  (bn2): BatchNorm2d(16, eps=1e-05, momentum=0.1, affine=True, track_running_stats=True)\n",
      "                  (act2): DyReLU(\n",
      "                    (fc1): Linear(in_features=16, out_features=4, bias=True)\n",
      "                    (relu): ReLU(inplace=True)\n",
      "                    (fc2): Linear(in_features=4, out_features=64, bias=True)\n",
      "                    (sigmoid): Sigmoid()\n",
      "                  )\n",
      "                )\n",
      "                (ste): STE(\n",
      "                  (conv1): Conv2d(32, 8, kernel_size=(1, 1), stride=(1, 1), bias=False)\n",
      "                  (bn1): BatchNorm2d(8, eps=1e-05, momentum=0.1, affine=True, track_running_stats=True)\n",
      "                  (act1): DyReLU(\n",
      "                    (fc1): Linear(in_features=8, out_features=2, bias=True)\n",
      "                    (relu): ReLU(inplace=True)\n",
      "                    (fc2): Linear(in_features=2, out_features=32, bias=True)\n",
      "                    (sigmoid): Sigmoid()\n",
      "                  )\n",
      "                  (conv2): Conv2d(8, 32, kernel_size=(1, 1), stride=(1, 1), bias=False)\n",
      "                  (bn2): BatchNorm2d(32, eps=1e-05, momentum=0.1, affine=True, track_running_stats=True)\n",
      "                  (act2): DyReLU(\n",
      "                    (fc1): Linear(in_features=32, out_features=8, bias=True)\n",
      "                    (relu): ReLU(inplace=True)\n",
      "                    (fc2): Linear(in_features=8, out_features=128, bias=True)\n",
      "                    (sigmoid): Sigmoid()\n",
      "                  )\n",
      "                )\n",
      "              )\n",
      "            )\n",
      "          )\n",
      "        )\n",
      "        (loss): SMPDIoU()\n",
      "      )\n",
      "    )\n",
      "  )\n",
      ")\n"
     ]
    }
   ],
   "source": [
    "# Access the underlying YOLO model architecture\n",
    "yolo_model = model.model\n",
    "\n",
    "# Print the modified model architecture to verify changes\n",
    "print(\"Modified YOLOv8 Architecture:\")\n",
    "print(yolo_model)"
   ]
  },
  {
   "cell_type": "code",
   "execution_count": 20,
   "id": "efbd518f",
   "metadata": {
    "execution": {
     "iopub.execute_input": "2024-09-24T10:52:00.904258Z",
     "iopub.status.busy": "2024-09-24T10:52:00.903963Z",
     "iopub.status.idle": "2024-09-24T10:52:00.910216Z",
     "shell.execute_reply": "2024-09-24T10:52:00.909424Z"
    },
    "papermill": {
     "duration": 0.020003,
     "end_time": "2024-09-24T10:52:00.912016",
     "exception": false,
     "start_time": "2024-09-24T10:52:00.892013",
     "status": "completed"
    },
    "tags": []
   },
   "outputs": [],
   "source": [
    "# Define training parameters\n",
    "training_parameters = {\n",
    "    'data': '/kaggle/input/vinbigdata-yolo-dataset-with-wbf-640px-16class/vinbigdata-yolo-dataset-with-wbf-640px-16class/data.yaml',\n",
    "    'epochs': 300,  # Increased epochs for better convergence\n",
    "    'batch': 32,    # Adjusted batch size based on GPU memory\n",
    "    'imgsz': 640,\n",
    "    'mixup': 0.5,   # Use MixUp with 50% probability\n",
    "    'augment': True,  # Enable data augmentation\n",
    "    'project': 'vincxr_yolov8x_balanceMax_HPYOLOv8_ChestXray',\n",
    "    'name': 'time11hour2',\n",
    "    'iou': 0.5,\n",
    "    'device': ','.join([str(i) for i in range(torch.cuda.device_count())]) if torch.cuda.is_available() else 'cpu',  # Use available devices\n",
    "    'exist_ok': True,\n",
    "    'verbose': True,\n",
    "    'time': 11,\n",
    "    'patience': 60  # Early stopping after 60 epochs without improvement\n",
    "}"
   ]
  },
  {
   "cell_type": "code",
   "execution_count": 21,
   "id": "0c872915",
   "metadata": {
    "execution": {
     "iopub.execute_input": "2024-09-24T10:52:00.936072Z",
     "iopub.status.busy": "2024-09-24T10:52:00.935787Z",
     "iopub.status.idle": "2024-09-24T21:58:27.621088Z",
     "shell.execute_reply": "2024-09-24T21:58:27.619876Z"
    },
    "papermill": {
     "duration": 39986.699907,
     "end_time": "2024-09-24T21:58:27.623283",
     "exception": false,
     "start_time": "2024-09-24T10:52:00.923376",
     "status": "completed"
    },
    "tags": []
   },
   "outputs": [
    {
     "name": "stdout",
     "output_type": "stream",
     "text": [
      "Starting training...\n",
      "Ultralytics YOLOv8.2.100 🚀 Python-3.10.14 torch-2.4.0 CUDA:0 (Tesla T4, 15095MiB)\n",
      "                                                       CUDA:1 (Tesla T4, 15095MiB)\n",
      "\u001b[34m\u001b[1mengine/trainer: \u001b[0mtask=detect, mode=train, model=/kaggle/input/vincxr-yolov8x-balancemax-hpyolov8-chestxray/vincxr_yolov8x_balanceMax_HPYOLOv8_ChestXray/time11hour/weights/last.pt, data=/kaggle/input/vinbigdata-yolo-dataset-with-wbf-640px-16class/vinbigdata-yolo-dataset-with-wbf-640px-16class/data.yaml, epochs=300, time=11, patience=60, batch=32, imgsz=640, save=True, save_period=-1, cache=False, device=0,1, workers=8, project=vincxr_yolov8x_balanceMax_HPYOLOv8_ChestXray, name=time11hour2, exist_ok=True, pretrained=True, optimizer=auto, verbose=True, seed=0, deterministic=True, single_cls=False, rect=False, cos_lr=False, close_mosaic=10, resume=False, amp=True, fraction=1.0, profile=False, freeze=None, multi_scale=False, overlap_mask=True, mask_ratio=4, dropout=0.0, val=True, split=val, save_json=False, save_hybrid=False, conf=None, iou=0.5, max_det=300, half=False, dnn=False, plots=True, source=None, vid_stride=1, stream_buffer=False, visualize=False, augment=True, agnostic_nms=False, classes=None, retina_masks=False, embed=None, show=False, save_frames=False, save_txt=False, save_conf=False, save_crop=False, show_labels=True, show_conf=True, show_boxes=True, line_width=None, format=torchscript, keras=False, optimize=False, int8=False, dynamic=False, simplify=True, opset=None, workspace=4, nms=False, lr0=0.01, lrf=0.01, momentum=0.937, weight_decay=0.0005, warmup_epochs=3.0, warmup_momentum=0.8, warmup_bias_lr=0.1, box=7.5, cls=0.5, dfl=1.5, pose=12.0, kobj=1.0, label_smoothing=0.0, nbs=64, hsv_h=0.015, hsv_s=0.7, hsv_v=0.4, degrees=0.0, translate=0.1, scale=0.5, shear=0.0, perspective=0.0, flipud=0.0, fliplr=0.5, bgr=0.0, mosaic=1.0, mixup=0.5, copy_paste=0.0, auto_augment=randaugment, erasing=0.4, crop_fraction=1.0, cfg=None, tracker=botsort.yaml, save_dir=vincxr_yolov8x_balanceMax_HPYOLOv8_ChestXray/time11hour2\n",
      "Downloading https://ultralytics.com/assets/Arial.ttf to '/root/.config/Ultralytics/Arial.ttf'...\n"
     ]
    },
    {
     "name": "stderr",
     "output_type": "stream",
     "text": [
      "100%|██████████| 755k/755k [00:00<00:00, 20.4MB/s]\n",
      "2024-09-24 10:52:02,882\tINFO util.py:124 -- Outdated packages:\n",
      "  ipywidgets==7.7.1 found, needs ipywidgets>=8\n",
      "Run `pip install -U ipywidgets`, then restart the notebook server for rich notebook output.\n",
      "2024-09-24 10:52:03,427\tINFO util.py:124 -- Outdated packages:\n",
      "  ipywidgets==7.7.1 found, needs ipywidgets>=8\n",
      "Run `pip install -U ipywidgets`, then restart the notebook server for rich notebook output.\n"
     ]
    },
    {
     "name": "stdout",
     "output_type": "stream",
     "text": [
      "\n",
      "                   from  n    params  module                                       arguments                     \n",
      "  0                  -1  1      2320  ultralytics.nn.modules.conv.Conv             [3, 80, 3, 2]                 \n",
      "  1                  -1  1    115520  ultralytics.nn.modules.conv.Conv             [80, 160, 3, 2]               \n",
      "  2                  -1  3    436800  ultralytics.nn.modules.block.C2f             [160, 160, 3, True]           \n",
      "  3                  -1  1    461440  ultralytics.nn.modules.conv.Conv             [160, 320, 3, 2]              \n",
      "  4                  -1  6   3281920  ultralytics.nn.modules.block.C2f             [320, 320, 6, True]           \n",
      "  5                  -1  1   1844480  ultralytics.nn.modules.conv.Conv             [320, 640, 3, 2]              \n",
      "  6                  -1  6  13117440  ultralytics.nn.modules.block.C2f             [640, 640, 6, True]           \n",
      "  7                  -1  1   3687680  ultralytics.nn.modules.conv.Conv             [640, 640, 3, 2]              \n",
      "  8                  -1  3   6969600  ultralytics.nn.modules.block.C2f             [640, 640, 3, True]           \n",
      "  9                  -1  1   1025920  ultralytics.nn.modules.block.SPPF            [640, 640, 5]                 \n",
      " 10                  -1  1         0  torch.nn.modules.upsampling.Upsample         [None, 2, 'nearest']          \n",
      " 11             [-1, 6]  1         0  ultralytics.nn.modules.conv.Concat           [1]                           \n",
      " 12                  -1  3   7379200  ultralytics.nn.modules.block.C2f             [1280, 640, 3]                \n",
      " 13                  -1  1         0  torch.nn.modules.upsampling.Upsample         [None, 2, 'nearest']          \n",
      " 14             [-1, 4]  1         0  ultralytics.nn.modules.conv.Concat           [1]                           \n",
      " 15                  -1  3   1948800  ultralytics.nn.modules.block.C2f             [960, 320, 3]                 \n",
      " 16                  -1  1    922240  ultralytics.nn.modules.conv.Conv             [320, 320, 3, 2]              \n",
      " 17            [-1, 12]  1         0  ultralytics.nn.modules.conv.Concat           [1]                           \n",
      " 18                  -1  3   7174400  ultralytics.nn.modules.block.C2f             [960, 640, 3]                 \n",
      " 19                  -1  1   3687680  ultralytics.nn.modules.conv.Conv             [640, 640, 3, 2]              \n",
      " 20             [-1, 9]  1         0  ultralytics.nn.modules.conv.Concat           [1]                           \n",
      " 21                  -1  3   7379200  ultralytics.nn.modules.block.C2f             [1280, 640, 3]                \n",
      " 22        [15, 18, 21]  1   8733376  ultralytics.nn.modules.head.Detect           [16, [320, 640, 640]]         \n",
      "Model summary: 365 layers, 68,168,016 parameters, 68,168,000 gradients, 258.2 GFLOPs\n",
      "\n",
      "Transferred 54/595 items from pretrained weights\n",
      "\u001b[34m\u001b[1mDDP:\u001b[0m debug command /opt/conda/bin/python -m torch.distributed.run --nproc_per_node 2 --master_port 53831 /root/.config/Ultralytics/DDP/_temp_4xk_kask140645896688144.py\n",
      "Ultralytics YOLOv8.2.100 🚀 Python-3.10.14 torch-2.4.0 CUDA:0 (Tesla T4, 15095MiB)\n",
      "                                                       CUDA:1 (Tesla T4, 15095MiB)\n",
      "\u001b[34m\u001b[1mTensorBoard: \u001b[0mStart with 'tensorboard --logdir vincxr_yolov8x_balanceMax_HPYOLOv8_ChestXray/time11hour2', view at http://localhost:6006/\n"
     ]
    },
    {
     "name": "stderr",
     "output_type": "stream",
     "text": [
      "wandb: Currently logged in as: buithanhxuan2261 (buithanhxuan2261-xuan2261). Use `wandb login --relogin` to force relogin\n",
      "wandb: wandb version 0.18.1 is available!  To upgrade, please run:\n",
      "wandb:  $ pip install wandb --upgrade\n",
      "wandb: Tracking run with wandb version 0.17.7\n",
      "wandb: Run data is saved locally in /kaggle/working/wandb/run-20240924_105227-p3hkos36\n",
      "wandb: Run `wandb offline` to turn off syncing.\n",
      "wandb: Syncing run time11hour2\n",
      "wandb: ⭐️ View project at https://wandb.ai/buithanhxuan2261-xuan2261/vincxr_yolov8x_balanceMax_HPYOLOv8_ChestXray\n",
      "wandb: 🚀 View run at https://wandb.ai/buithanhxuan2261-xuan2261/vincxr_yolov8x_balanceMax_HPYOLOv8_ChestXray/runs/p3hkos36\n"
     ]
    },
    {
     "name": "stdout",
     "output_type": "stream",
     "text": [
      "Transferred 595/595 items from pretrained weights\n",
      "Freezing layer 'model.22.dfl.conv.weight'\n",
      "\u001b[34m\u001b[1mAMP: \u001b[0mrunning Automatic Mixed Precision (AMP) checks with YOLOv8n...\n",
      "Downloading https://github.com/ultralytics/assets/releases/download/v8.2.0/yolov8n.pt to 'yolov8n.pt'...\n"
     ]
    },
    {
     "name": "stderr",
     "output_type": "stream",
     "text": [
      "100%|██████████| 6.25M/6.25M [00:00<00:00, 112MB/s]\n"
     ]
    },
    {
     "name": "stdout",
     "output_type": "stream",
     "text": [
      "\u001b[34m\u001b[1mAMP: \u001b[0mchecks passed ✅\n"
     ]
    },
    {
     "name": "stderr",
     "output_type": "stream",
     "text": [
      "\u001b[34m\u001b[1mtrain: \u001b[0mScanning /kaggle/input/vinbigdata-yolo-dataset-with-wbf-640px-16class/vinbigdata-yolo-dataset-with-wbf-640px-16class/train/labels... 11250 images, 0 backgrounds, 0 corrupt: 100%|██████████| 11250/11250 [00:50<00:00, 222.06it/s]\n"
     ]
    },
    {
     "name": "stdout",
     "output_type": "stream",
     "text": [
      "\u001b[34m\u001b[1mtrain: \u001b[0mWARNING ⚠️ Cache directory /kaggle/input/vinbigdata-yolo-dataset-with-wbf-640px-16class/vinbigdata-yolo-dataset-with-wbf-640px-16class/train is not writeable, cache not saved.\n"
     ]
    },
    {
     "name": "stderr",
     "output_type": "stream",
     "text": [
      "/opt/conda/lib/python3.10/site-packages/albumentations/__init__.py:13: UserWarning: A new version of Albumentations is available: 1.4.16 (you have 1.4.14). Upgrade using: pip install -U albumentations. To disable automatic update checks, set the environment variable NO_ALBUMENTATIONS_UPDATE to 1.\n",
      "  check_for_updates()\n",
      "/opt/conda/lib/python3.10/multiprocessing/popen_fork.py:66: RuntimeWarning: os.fork() was called. os.fork() is incompatible with multithreaded code, and JAX is multithreaded, so this will likely lead to a deadlock.\n",
      "  self.pid = os.fork()\n",
      "\u001b[34m\u001b[1mtrain: \u001b[0mScanning /kaggle/input/vinbigdata-yolo-dataset-with-wbf-640px-16class/vinbigdata-yolo-dataset-with-wbf-640px-16class/train/labels... 77 images, 0 backgrounds, 0 corrupt:   1%|          | 77/11250 [00:00<00:15, 698.68it/s]"
     ]
    },
    {
     "name": "stdout",
     "output_type": "stream",
     "text": [
      "\u001b[34m\u001b[1malbumentations: \u001b[0mBlur(p=0.01, blur_limit=(3, 7)), MedianBlur(p=0.01, blur_limit=(3, 7)), ToGray(p=0.01), CLAHE(p=0.01, clip_limit=(1, 4.0), tile_grid_size=(8, 8))\n"
     ]
    },
    {
     "name": "stderr",
     "output_type": "stream",
     "text": [
      "\u001b[34m\u001b[1mtrain: \u001b[0mScanning /kaggle/input/vinbigdata-yolo-dataset-with-wbf-640px-16class/vinbigdata-yolo-dataset-with-wbf-640px-16class/train/labels... 11250 images, 0 backgrounds, 0 corrupt: 100%|██████████| 11250/11250 [00:12<00:00, 879.69it/s]\n",
      "\u001b[34m\u001b[1mval: \u001b[0mScanning /kaggle/input/vinbigdata-yolo-dataset-with-wbf-640px-16class/vinbigdata-yolo-dataset-with-wbf-640px-16class/val/labels... 3000 images, 0 backgrounds, 0 corrupt: 100%|██████████| 3000/3000 [00:14<00:00, 213.16it/s]\n",
      "/opt/conda/lib/python3.10/site-packages/albumentations/__init__.py:13: UserWarning: A new version of Albumentations is available: 1.4.16 (you have 1.4.14). Upgrade using: pip install -U albumentations. To disable automatic update checks, set the environment variable NO_ALBUMENTATIONS_UPDATE to 1.\n",
      "  check_for_updates()\n"
     ]
    },
    {
     "name": "stdout",
     "output_type": "stream",
     "text": [
      "\u001b[34m\u001b[1mval: \u001b[0mWARNING ⚠️ Cache directory /kaggle/input/vinbigdata-yolo-dataset-with-wbf-640px-16class/vinbigdata-yolo-dataset-with-wbf-640px-16class/val is not writeable, cache not saved.\n",
      "Plotting labels to vincxr_yolov8x_balanceMax_HPYOLOv8_ChestXray/time11hour2/labels.jpg... \n",
      "\u001b[34m\u001b[1moptimizer:\u001b[0m 'optimizer=auto' found, ignoring 'lr0=0.01' and 'momentum=0.937' and determining best 'optimizer', 'lr0' and 'momentum' automatically... \n",
      "\u001b[34m\u001b[1moptimizer:\u001b[0m SGD(lr=0.01, momentum=0.9) with parameter groups 97 weight(decay=0.0), 104 weight(decay=0.0005), 103 bias(decay=0.0)\n",
      "\u001b[34m\u001b[1mTensorBoard: \u001b[0mmodel graph visualization added ✅\n",
      "Image sizes 640 train, 640 val\n",
      "Using 4 dataloader workers\n",
      "Logging results to \u001b[1mvincxr_yolov8x_balanceMax_HPYOLOv8_ChestXray/time11hour2\u001b[0m\n",
      "Starting training for 11 hours...\n",
      "\n",
      "      Epoch    GPU_mem   box_loss   cls_loss   dfl_loss  Instances       Size\n"
     ]
    },
    {
     "name": "stderr",
     "output_type": "stream",
     "text": [
      "      1/300      13.5G        inf      0.577      1.047         64        640: 100%|██████████| 352/352 [08:02<00:00,  1.37s/it]\n",
      "                 Class     Images  Instances      Box(P          R      mAP50  mAP50-95): 100%|██████████| 94/94 [01:34<00:00,  1.01s/it]\n"
     ]
    },
    {
     "name": "stdout",
     "output_type": "stream",
     "text": [
      "                   all       3000       7612      0.465      0.471      0.446      0.282\n",
      "\n",
      "      Epoch    GPU_mem   box_loss   cls_loss   dfl_loss  Instances       Size\n"
     ]
    },
    {
     "name": "stderr",
     "output_type": "stream",
     "text": [
      "       2/68      13.2G     0.3944     0.5884       1.05         45        640: 100%|██████████| 352/352 [07:56<00:00,  1.35s/it]\n",
      "                 Class     Images  Instances      Box(P          R      mAP50  mAP50-95): 100%|██████████| 94/94 [01:33<00:00,  1.00it/s]\n"
     ]
    },
    {
     "name": "stdout",
     "output_type": "stream",
     "text": [
      "                   all       3000       7612      0.448      0.452      0.422      0.268\n",
      "\n",
      "      Epoch    GPU_mem   box_loss   cls_loss   dfl_loss  Instances       Size\n"
     ]
    },
    {
     "name": "stderr",
     "output_type": "stream",
     "text": [
      "       3/69      13.2G     0.4101     0.6322      1.053         62        640: 100%|██████████| 352/352 [07:52<00:00,  1.34s/it]\n",
      "                 Class     Images  Instances      Box(P          R      mAP50  mAP50-95): 100%|██████████| 94/94 [01:34<00:00,  1.00s/it]\n"
     ]
    },
    {
     "name": "stdout",
     "output_type": "stream",
     "text": [
      "                   all       3000       7612      0.404      0.425      0.375      0.243\n",
      "\n",
      "      Epoch    GPU_mem   box_loss   cls_loss   dfl_loss  Instances       Size\n"
     ]
    },
    {
     "name": "stderr",
     "output_type": "stream",
     "text": [
      "       4/69      13.1G     0.4278     0.6954      1.069         67        640: 100%|██████████| 352/352 [07:52<00:00,  1.34s/it]\n",
      "                 Class     Images  Instances      Box(P          R      mAP50  mAP50-95): 100%|██████████| 94/94 [01:33<00:00,  1.00it/s]\n"
     ]
    },
    {
     "name": "stdout",
     "output_type": "stream",
     "text": [
      "                   all       3000       7612      0.429      0.399      0.366      0.241\n",
      "\n",
      "      Epoch    GPU_mem   box_loss   cls_loss   dfl_loss  Instances       Size\n"
     ]
    },
    {
     "name": "stderr",
     "output_type": "stream",
     "text": [
      "       5/69      13.2G     0.4368     0.7152      1.076        108        640: 100%|██████████| 352/352 [07:51<00:00,  1.34s/it]\n",
      "                 Class     Images  Instances      Box(P          R      mAP50  mAP50-95): 100%|██████████| 94/94 [01:33<00:00,  1.01it/s]\n"
     ]
    },
    {
     "name": "stdout",
     "output_type": "stream",
     "text": [
      "                   all       3000       7612       0.45      0.379      0.376      0.237\n",
      "\n",
      "      Epoch    GPU_mem   box_loss   cls_loss   dfl_loss  Instances       Size\n"
     ]
    },
    {
     "name": "stderr",
     "output_type": "stream",
     "text": [
      "       6/70      13.1G     0.4274     0.7075       1.07         74        640: 100%|██████████| 352/352 [07:52<00:00,  1.34s/it]\n",
      "                 Class     Images  Instances      Box(P          R      mAP50  mAP50-95): 100%|██████████| 94/94 [01:33<00:00,  1.00it/s]\n"
     ]
    },
    {
     "name": "stdout",
     "output_type": "stream",
     "text": [
      "                   all       3000       7612      0.453      0.426      0.404      0.254\n",
      "\n",
      "      Epoch    GPU_mem   box_loss   cls_loss   dfl_loss  Instances       Size\n"
     ]
    },
    {
     "name": "stderr",
     "output_type": "stream",
     "text": [
      "       7/70      13.1G     0.4307     0.7075      1.071         67        640: 100%|██████████| 352/352 [07:51<00:00,  1.34s/it]\n",
      "                 Class     Images  Instances      Box(P          R      mAP50  mAP50-95): 100%|██████████| 94/94 [01:34<00:00,  1.00s/it]\n"
     ]
    },
    {
     "name": "stdout",
     "output_type": "stream",
     "text": [
      "                   all       3000       7612      0.463      0.428      0.411      0.259\n",
      "\n",
      "      Epoch    GPU_mem   box_loss   cls_loss   dfl_loss  Instances       Size\n"
     ]
    },
    {
     "name": "stderr",
     "output_type": "stream",
     "text": [
      "       8/70      13.1G     0.4289      0.705      1.064        102        640: 100%|██████████| 352/352 [07:51<00:00,  1.34s/it]\n",
      "                 Class     Images  Instances      Box(P          R      mAP50  mAP50-95): 100%|██████████| 94/94 [01:33<00:00,  1.00it/s]\n"
     ]
    },
    {
     "name": "stdout",
     "output_type": "stream",
     "text": [
      "                   all       3000       7612      0.405      0.369      0.348      0.233\n",
      "\n",
      "      Epoch    GPU_mem   box_loss   cls_loss   dfl_loss  Instances       Size\n"
     ]
    },
    {
     "name": "stderr",
     "output_type": "stream",
     "text": [
      "       9/70      13.2G     0.4239     0.6983      1.067         64        640: 100%|██████████| 352/352 [07:52<00:00,  1.34s/it]\n",
      "                 Class     Images  Instances      Box(P          R      mAP50  mAP50-95): 100%|██████████| 94/94 [01:33<00:00,  1.00it/s]\n"
     ]
    },
    {
     "name": "stdout",
     "output_type": "stream",
     "text": [
      "                   all       3000       7612      0.448      0.422      0.401      0.255\n",
      "\n",
      "      Epoch    GPU_mem   box_loss   cls_loss   dfl_loss  Instances       Size\n"
     ]
    },
    {
     "name": "stderr",
     "output_type": "stream",
     "text": [
      "      10/70      13.2G     0.4192     0.6869      1.066         81        640: 100%|██████████| 352/352 [07:51<00:00,  1.34s/it]\n",
      "                 Class     Images  Instances      Box(P          R      mAP50  mAP50-95): 100%|██████████| 94/94 [01:33<00:00,  1.00it/s]\n"
     ]
    },
    {
     "name": "stdout",
     "output_type": "stream",
     "text": [
      "                   all       3000       7612      0.403      0.389      0.364      0.237\n",
      "\n",
      "      Epoch    GPU_mem   box_loss   cls_loss   dfl_loss  Instances       Size\n"
     ]
    },
    {
     "name": "stderr",
     "output_type": "stream",
     "text": [
      "      11/70      13.2G     0.4219     0.6881      1.065         55        640: 100%|██████████| 352/352 [07:52<00:00,  1.34s/it]\n",
      "                 Class     Images  Instances      Box(P          R      mAP50  mAP50-95): 100%|██████████| 94/94 [01:33<00:00,  1.00it/s]\n"
     ]
    },
    {
     "name": "stdout",
     "output_type": "stream",
     "text": [
      "                   all       3000       7612      0.413      0.424      0.406      0.253\n",
      "\n",
      "      Epoch    GPU_mem   box_loss   cls_loss   dfl_loss  Instances       Size\n"
     ]
    },
    {
     "name": "stderr",
     "output_type": "stream",
     "text": [
      "      12/70      13.2G     0.4323     0.7101      1.071         70        640: 100%|██████████| 352/352 [07:52<00:00,  1.34s/it]\n",
      "                 Class     Images  Instances      Box(P          R      mAP50  mAP50-95): 100%|██████████| 94/94 [01:33<00:00,  1.00it/s]\n"
     ]
    },
    {
     "name": "stdout",
     "output_type": "stream",
     "text": [
      "                   all       3000       7612      0.461       0.41      0.393      0.254\n",
      "\n",
      "      Epoch    GPU_mem   box_loss   cls_loss   dfl_loss  Instances       Size\n"
     ]
    },
    {
     "name": "stderr",
     "output_type": "stream",
     "text": [
      "      13/70      13.1G     0.4128     0.6744       1.06         71        640: 100%|██████████| 352/352 [07:51<00:00,  1.34s/it]\n",
      "                 Class     Images  Instances      Box(P          R      mAP50  mAP50-95): 100%|██████████| 94/94 [01:33<00:00,  1.00it/s]\n"
     ]
    },
    {
     "name": "stdout",
     "output_type": "stream",
     "text": [
      "                   all       3000       7612      0.441      0.441      0.404      0.256\n",
      "\n",
      "      Epoch    GPU_mem   box_loss   cls_loss   dfl_loss  Instances       Size\n"
     ]
    },
    {
     "name": "stderr",
     "output_type": "stream",
     "text": [
      "      14/70      13.2G      0.422      0.682      1.063         82        640: 100%|██████████| 352/352 [07:51<00:00,  1.34s/it]\n",
      "                 Class     Images  Instances      Box(P          R      mAP50  mAP50-95): 100%|██████████| 94/94 [01:33<00:00,  1.00it/s]\n"
     ]
    },
    {
     "name": "stdout",
     "output_type": "stream",
     "text": [
      "                   all       3000       7612      0.494      0.422      0.419      0.262\n",
      "\n",
      "      Epoch    GPU_mem   box_loss   cls_loss   dfl_loss  Instances       Size\n"
     ]
    },
    {
     "name": "stderr",
     "output_type": "stream",
     "text": [
      "      15/70      13.2G        inf     0.6851      1.068         56        640: 100%|██████████| 352/352 [07:52<00:00,  1.34s/it]\n",
      "                 Class     Images  Instances      Box(P          R      mAP50  mAP50-95): 100%|██████████| 94/94 [01:33<00:00,  1.00it/s]\n"
     ]
    },
    {
     "name": "stdout",
     "output_type": "stream",
     "text": [
      "                   all       3000       7612      0.466      0.419      0.404      0.259\n",
      "\n",
      "      Epoch    GPU_mem   box_loss   cls_loss   dfl_loss  Instances       Size\n"
     ]
    },
    {
     "name": "stderr",
     "output_type": "stream",
     "text": [
      "      16/70      13.1G     0.4147     0.6654      1.062         67        640: 100%|██████████| 352/352 [07:51<00:00,  1.34s/it]\n",
      "                 Class     Images  Instances      Box(P          R      mAP50  mAP50-95): 100%|██████████| 94/94 [01:34<00:00,  1.00s/it]\n"
     ]
    },
    {
     "name": "stdout",
     "output_type": "stream",
     "text": [
      "                   all       3000       7612      0.449      0.421      0.408      0.257\n",
      "\n",
      "      Epoch    GPU_mem   box_loss   cls_loss   dfl_loss  Instances       Size\n"
     ]
    },
    {
     "name": "stderr",
     "output_type": "stream",
     "text": [
      "      17/70      13.2G     0.4226     0.6742      1.065         59        640: 100%|██████████| 352/352 [07:51<00:00,  1.34s/it]\n",
      "                 Class     Images  Instances      Box(P          R      mAP50  mAP50-95): 100%|██████████| 94/94 [01:33<00:00,  1.01it/s]\n"
     ]
    },
    {
     "name": "stdout",
     "output_type": "stream",
     "text": [
      "                   all       3000       7612      0.463      0.428      0.406      0.258\n",
      "\n",
      "      Epoch    GPU_mem   box_loss   cls_loss   dfl_loss  Instances       Size\n"
     ]
    },
    {
     "name": "stderr",
     "output_type": "stream",
     "text": [
      "      18/70      13.2G     0.4078     0.6594      1.057         99        640: 100%|██████████| 352/352 [07:51<00:00,  1.34s/it]\n",
      "                 Class     Images  Instances      Box(P          R      mAP50  mAP50-95): 100%|██████████| 94/94 [01:33<00:00,  1.00it/s]\n"
     ]
    },
    {
     "name": "stdout",
     "output_type": "stream",
     "text": [
      "                   all       3000       7612      0.443      0.432      0.409      0.259\n",
      "\n",
      "      Epoch    GPU_mem   box_loss   cls_loss   dfl_loss  Instances       Size\n"
     ]
    },
    {
     "name": "stderr",
     "output_type": "stream",
     "text": [
      "      19/70      13.2G     0.4034     0.6534      1.058         71        640: 100%|██████████| 352/352 [07:52<00:00,  1.34s/it]\n",
      "                 Class     Images  Instances      Box(P          R      mAP50  mAP50-95): 100%|██████████| 94/94 [01:34<00:00,  1.00s/it]\n"
     ]
    },
    {
     "name": "stdout",
     "output_type": "stream",
     "text": [
      "                   all       3000       7612      0.462      0.437       0.42      0.269\n",
      "\n",
      "      Epoch    GPU_mem   box_loss   cls_loss   dfl_loss  Instances       Size\n"
     ]
    },
    {
     "name": "stderr",
     "output_type": "stream",
     "text": [
      "      20/70      13.2G     0.4112     0.6584      1.058         55        640: 100%|██████████| 352/352 [07:52<00:00,  1.34s/it]\n",
      "                 Class     Images  Instances      Box(P          R      mAP50  mAP50-95): 100%|██████████| 94/94 [01:33<00:00,  1.01it/s]\n"
     ]
    },
    {
     "name": "stdout",
     "output_type": "stream",
     "text": [
      "                   all       3000       7612      0.432      0.447      0.403      0.258\n",
      "\n",
      "      Epoch    GPU_mem   box_loss   cls_loss   dfl_loss  Instances       Size\n"
     ]
    },
    {
     "name": "stderr",
     "output_type": "stream",
     "text": [
      "      21/70      13.1G      0.408     0.6528      1.057         61        640: 100%|██████████| 352/352 [07:51<00:00,  1.34s/it]\n",
      "                 Class     Images  Instances      Box(P          R      mAP50  mAP50-95): 100%|██████████| 94/94 [01:33<00:00,  1.00it/s]\n"
     ]
    },
    {
     "name": "stdout",
     "output_type": "stream",
     "text": [
      "                   all       3000       7612      0.481      0.449      0.439      0.273\n",
      "\n",
      "      Epoch    GPU_mem   box_loss   cls_loss   dfl_loss  Instances       Size\n"
     ]
    },
    {
     "name": "stderr",
     "output_type": "stream",
     "text": [
      "      22/70        13G     0.4122     0.6497      1.057         48        640: 100%|██████████| 352/352 [07:51<00:00,  1.34s/it]\n",
      "                 Class     Images  Instances      Box(P          R      mAP50  mAP50-95): 100%|██████████| 94/94 [01:33<00:00,  1.00it/s]\n"
     ]
    },
    {
     "name": "stdout",
     "output_type": "stream",
     "text": [
      "                   all       3000       7612      0.449      0.442      0.422      0.267\n",
      "\n",
      "      Epoch    GPU_mem   box_loss   cls_loss   dfl_loss  Instances       Size\n"
     ]
    },
    {
     "name": "stderr",
     "output_type": "stream",
     "text": [
      "      23/70      13.2G     0.4161     0.6494      1.061         95        640: 100%|██████████| 352/352 [07:51<00:00,  1.34s/it]\n",
      "                 Class     Images  Instances      Box(P          R      mAP50  mAP50-95): 100%|██████████| 94/94 [01:33<00:00,  1.00it/s]\n"
     ]
    },
    {
     "name": "stdout",
     "output_type": "stream",
     "text": [
      "                   all       3000       7612      0.462      0.427      0.412      0.261\n",
      "\n",
      "      Epoch    GPU_mem   box_loss   cls_loss   dfl_loss  Instances       Size\n"
     ]
    },
    {
     "name": "stderr",
     "output_type": "stream",
     "text": [
      "      24/70      13.1G        inf     0.6421      1.058         77        640: 100%|██████████| 352/352 [07:51<00:00,  1.34s/it]\n",
      "                 Class     Images  Instances      Box(P          R      mAP50  mAP50-95): 100%|██████████| 94/94 [01:33<00:00,  1.00it/s]\n"
     ]
    },
    {
     "name": "stdout",
     "output_type": "stream",
     "text": [
      "                   all       3000       7612      0.488      0.439       0.43      0.271\n",
      "\n",
      "      Epoch    GPU_mem   box_loss   cls_loss   dfl_loss  Instances       Size\n"
     ]
    },
    {
     "name": "stderr",
     "output_type": "stream",
     "text": [
      "      25/70      13.1G      0.417     0.6542      1.062         51        640: 100%|██████████| 352/352 [07:51<00:00,  1.34s/it]\n",
      "                 Class     Images  Instances      Box(P          R      mAP50  mAP50-95): 100%|██████████| 94/94 [01:33<00:00,  1.00it/s]\n"
     ]
    },
    {
     "name": "stdout",
     "output_type": "stream",
     "text": [
      "                   all       3000       7612      0.499      0.442      0.434       0.27\n",
      "\n",
      "      Epoch    GPU_mem   box_loss   cls_loss   dfl_loss  Instances       Size\n"
     ]
    },
    {
     "name": "stderr",
     "output_type": "stream",
     "text": [
      "      26/70      13.2G     0.4041     0.6387      1.054        102        640: 100%|██████████| 352/352 [07:51<00:00,  1.34s/it]\n",
      "                 Class     Images  Instances      Box(P          R      mAP50  mAP50-95): 100%|██████████| 94/94 [01:33<00:00,  1.00it/s]\n"
     ]
    },
    {
     "name": "stdout",
     "output_type": "stream",
     "text": [
      "                   all       3000       7612      0.493      0.451       0.44      0.278\n",
      "\n",
      "      Epoch    GPU_mem   box_loss   cls_loss   dfl_loss  Instances       Size\n"
     ]
    },
    {
     "name": "stderr",
     "output_type": "stream",
     "text": [
      "      27/70      13.1G     0.4085     0.6277      1.057         93        640: 100%|██████████| 352/352 [07:51<00:00,  1.34s/it]\n",
      "                 Class     Images  Instances      Box(P          R      mAP50  mAP50-95): 100%|██████████| 94/94 [01:33<00:00,  1.00it/s]\n"
     ]
    },
    {
     "name": "stdout",
     "output_type": "stream",
     "text": [
      "                   all       3000       7612      0.494      0.448      0.441      0.276\n",
      "\n",
      "      Epoch    GPU_mem   box_loss   cls_loss   dfl_loss  Instances       Size\n"
     ]
    },
    {
     "name": "stderr",
     "output_type": "stream",
     "text": [
      "      28/70      13.1G     0.4018     0.6259      1.059         59        640: 100%|██████████| 352/352 [07:51<00:00,  1.34s/it]\n",
      "                 Class     Images  Instances      Box(P          R      mAP50  mAP50-95): 100%|██████████| 94/94 [01:33<00:00,  1.00it/s]\n"
     ]
    },
    {
     "name": "stdout",
     "output_type": "stream",
     "text": [
      "                   all       3000       7612      0.489      0.445       0.44      0.279\n",
      "\n",
      "      Epoch    GPU_mem   box_loss   cls_loss   dfl_loss  Instances       Size\n"
     ]
    },
    {
     "name": "stderr",
     "output_type": "stream",
     "text": [
      "      29/70      13.1G     0.3997     0.6245       1.05         56        640: 100%|██████████| 352/352 [07:50<00:00,  1.34s/it]\n",
      "                 Class     Images  Instances      Box(P          R      mAP50  mAP50-95): 100%|██████████| 94/94 [01:33<00:00,  1.00it/s]\n"
     ]
    },
    {
     "name": "stdout",
     "output_type": "stream",
     "text": [
      "                   all       3000       7612      0.473      0.456      0.434      0.276\n",
      "\n",
      "      Epoch    GPU_mem   box_loss   cls_loss   dfl_loss  Instances       Size\n"
     ]
    },
    {
     "name": "stderr",
     "output_type": "stream",
     "text": [
      "      30/70      13.2G     0.4002     0.6204      1.054         76        640: 100%|██████████| 352/352 [07:51<00:00,  1.34s/it]\n",
      "                 Class     Images  Instances      Box(P          R      mAP50  mAP50-95): 100%|██████████| 94/94 [01:34<00:00,  1.00s/it]\n"
     ]
    },
    {
     "name": "stdout",
     "output_type": "stream",
     "text": [
      "                   all       3000       7612      0.487      0.458      0.441      0.281\n",
      "\n",
      "      Epoch    GPU_mem   box_loss   cls_loss   dfl_loss  Instances       Size\n"
     ]
    },
    {
     "name": "stderr",
     "output_type": "stream",
     "text": [
      "      31/70      13.1G      0.407       0.62      1.057         93        640: 100%|██████████| 352/352 [07:52<00:00,  1.34s/it]\n",
      "                 Class     Images  Instances      Box(P          R      mAP50  mAP50-95): 100%|██████████| 94/94 [01:33<00:00,  1.00it/s]\n"
     ]
    },
    {
     "name": "stdout",
     "output_type": "stream",
     "text": [
      "                   all       3000       7612      0.495       0.46      0.448      0.282\n",
      "\n",
      "      Epoch    GPU_mem   box_loss   cls_loss   dfl_loss  Instances       Size\n"
     ]
    },
    {
     "name": "stderr",
     "output_type": "stream",
     "text": [
      "      32/70      13.1G     0.4064     0.6225      1.056         81        640: 100%|██████████| 352/352 [07:50<00:00,  1.34s/it]\n",
      "                 Class     Images  Instances      Box(P          R      mAP50  mAP50-95): 100%|██████████| 94/94 [01:33<00:00,  1.00it/s]\n"
     ]
    },
    {
     "name": "stdout",
     "output_type": "stream",
     "text": [
      "                   all       3000       7612      0.483      0.454      0.443      0.282\n",
      "\n",
      "      Epoch    GPU_mem   box_loss   cls_loss   dfl_loss  Instances       Size\n"
     ]
    },
    {
     "name": "stderr",
     "output_type": "stream",
     "text": [
      "      33/70      13.1G     0.3989     0.6126      1.052         73        640: 100%|██████████| 352/352 [07:50<00:00,  1.34s/it]\n",
      "                 Class     Images  Instances      Box(P          R      mAP50  mAP50-95): 100%|██████████| 94/94 [01:33<00:00,  1.00it/s]\n"
     ]
    },
    {
     "name": "stdout",
     "output_type": "stream",
     "text": [
      "                   all       3000       7612      0.492      0.455      0.442       0.28\n",
      "\n",
      "      Epoch    GPU_mem   box_loss   cls_loss   dfl_loss  Instances       Size\n"
     ]
    },
    {
     "name": "stderr",
     "output_type": "stream",
     "text": [
      "      34/70      13.2G     0.3923     0.6021      1.048         82        640: 100%|██████████| 352/352 [07:51<00:00,  1.34s/it]\n",
      "                 Class     Images  Instances      Box(P          R      mAP50  mAP50-95): 100%|██████████| 94/94 [01:33<00:00,  1.00it/s]\n"
     ]
    },
    {
     "name": "stdout",
     "output_type": "stream",
     "text": [
      "                   all       3000       7612      0.483      0.467      0.449      0.282\n",
      "\n",
      "      Epoch    GPU_mem   box_loss   cls_loss   dfl_loss  Instances       Size\n"
     ]
    },
    {
     "name": "stderr",
     "output_type": "stream",
     "text": [
      "      35/70      13.1G     0.3913     0.5987      1.053         35        640: 100%|██████████| 352/352 [07:51<00:00,  1.34s/it]\n",
      "                 Class     Images  Instances      Box(P          R      mAP50  mAP50-95): 100%|██████████| 94/94 [01:33<00:00,  1.00it/s]\n"
     ]
    },
    {
     "name": "stdout",
     "output_type": "stream",
     "text": [
      "                   all       3000       7612        0.5      0.465      0.458      0.285\n",
      "\n",
      "      Epoch    GPU_mem   box_loss   cls_loss   dfl_loss  Instances       Size\n"
     ]
    },
    {
     "name": "stderr",
     "output_type": "stream",
     "text": [
      "      36/70        13G     0.3913      0.595      1.048         62        640: 100%|██████████| 352/352 [07:51<00:00,  1.34s/it]\n",
      "                 Class     Images  Instances      Box(P          R      mAP50  mAP50-95): 100%|██████████| 94/94 [01:33<00:00,  1.00it/s]\n"
     ]
    },
    {
     "name": "stdout",
     "output_type": "stream",
     "text": [
      "                   all       3000       7612      0.497      0.461      0.445      0.279\n",
      "\n",
      "      Epoch    GPU_mem   box_loss   cls_loss   dfl_loss  Instances       Size\n"
     ]
    },
    {
     "name": "stderr",
     "output_type": "stream",
     "text": [
      "      37/70      13.1G     0.3924     0.5867      1.048         68        640: 100%|██████████| 352/352 [07:52<00:00,  1.34s/it]\n",
      "                 Class     Images  Instances      Box(P          R      mAP50  mAP50-95): 100%|██████████| 94/94 [01:33<00:00,  1.00it/s]\n"
     ]
    },
    {
     "name": "stdout",
     "output_type": "stream",
     "text": [
      "                   all       3000       7612      0.476       0.48      0.447      0.279\n",
      "\n",
      "      Epoch    GPU_mem   box_loss   cls_loss   dfl_loss  Instances       Size\n"
     ]
    },
    {
     "name": "stderr",
     "output_type": "stream",
     "text": [
      "      38/70      13.1G     0.3897     0.5984       1.05         95        640: 100%|██████████| 352/352 [07:52<00:00,  1.34s/it]\n",
      "                 Class     Images  Instances      Box(P          R      mAP50  mAP50-95): 100%|██████████| 94/94 [01:33<00:00,  1.00it/s]\n"
     ]
    },
    {
     "name": "stdout",
     "output_type": "stream",
     "text": [
      "                   all       3000       7612      0.507      0.465      0.459       0.29\n",
      "\n",
      "      Epoch    GPU_mem   box_loss   cls_loss   dfl_loss  Instances       Size\n"
     ]
    },
    {
     "name": "stderr",
     "output_type": "stream",
     "text": [
      "      39/70      13.2G     0.3998     0.5988      1.053         77        640: 100%|██████████| 352/352 [07:50<00:00,  1.34s/it]\n",
      "                 Class     Images  Instances      Box(P          R      mAP50  mAP50-95): 100%|██████████| 94/94 [01:34<00:00,  1.00s/it]\n"
     ]
    },
    {
     "name": "stdout",
     "output_type": "stream",
     "text": [
      "                   all       3000       7612      0.503      0.464      0.453      0.286\n",
      "\n",
      "      Epoch    GPU_mem   box_loss   cls_loss   dfl_loss  Instances       Size\n"
     ]
    },
    {
     "name": "stderr",
     "output_type": "stream",
     "text": [
      "      40/70      13.2G     0.3965      0.591       1.05         60        640: 100%|██████████| 352/352 [07:50<00:00,  1.34s/it]\n",
      "                 Class     Images  Instances      Box(P          R      mAP50  mAP50-95): 100%|██████████| 94/94 [01:34<00:00,  1.00s/it]\n"
     ]
    },
    {
     "name": "stdout",
     "output_type": "stream",
     "text": [
      "                   all       3000       7612      0.487      0.461      0.447      0.282\n",
      "\n",
      "      Epoch    GPU_mem   box_loss   cls_loss   dfl_loss  Instances       Size\n"
     ]
    },
    {
     "name": "stderr",
     "output_type": "stream",
     "text": [
      "      41/70      13.2G     0.3911     0.5897      1.049         81        640: 100%|██████████| 352/352 [07:50<00:00,  1.34s/it]\n",
      "                 Class     Images  Instances      Box(P          R      mAP50  mAP50-95): 100%|██████████| 94/94 [01:33<00:00,  1.00it/s]\n"
     ]
    },
    {
     "name": "stdout",
     "output_type": "stream",
     "text": [
      "                   all       3000       7612      0.507      0.464      0.459      0.288\n",
      "\n",
      "      Epoch    GPU_mem   box_loss   cls_loss   dfl_loss  Instances       Size\n"
     ]
    },
    {
     "name": "stderr",
     "output_type": "stream",
     "text": [
      "      42/70      13.1G     0.3792     0.5763       1.04         50        640: 100%|██████████| 352/352 [07:50<00:00,  1.34s/it]\n",
      "                 Class     Images  Instances      Box(P          R      mAP50  mAP50-95): 100%|██████████| 94/94 [01:34<00:00,  1.00s/it]\n"
     ]
    },
    {
     "name": "stdout",
     "output_type": "stream",
     "text": [
      "                   all       3000       7612      0.505      0.453      0.455      0.287\n",
      "\n",
      "      Epoch    GPU_mem   box_loss   cls_loss   dfl_loss  Instances       Size\n"
     ]
    },
    {
     "name": "stderr",
     "output_type": "stream",
     "text": [
      "      43/70      13.2G     0.3951     0.5857      1.048         99        640: 100%|██████████| 352/352 [07:51<00:00,  1.34s/it]\n",
      "                 Class     Images  Instances      Box(P          R      mAP50  mAP50-95): 100%|██████████| 94/94 [01:34<00:00,  1.00s/it]\n"
     ]
    },
    {
     "name": "stdout",
     "output_type": "stream",
     "text": [
      "                   all       3000       7612      0.506      0.464      0.456      0.286\n",
      "\n",
      "      Epoch    GPU_mem   box_loss   cls_loss   dfl_loss  Instances       Size\n"
     ]
    },
    {
     "name": "stderr",
     "output_type": "stream",
     "text": [
      "      44/70      13.1G        inf     0.5728      1.042         72        640: 100%|██████████| 352/352 [07:51<00:00,  1.34s/it]\n",
      "                 Class     Images  Instances      Box(P          R      mAP50  mAP50-95): 100%|██████████| 94/94 [01:34<00:00,  1.00s/it]\n"
     ]
    },
    {
     "name": "stdout",
     "output_type": "stream",
     "text": [
      "                   all       3000       7612      0.523      0.456      0.455      0.287\n",
      "\n",
      "      Epoch    GPU_mem   box_loss   cls_loss   dfl_loss  Instances       Size\n"
     ]
    },
    {
     "name": "stderr",
     "output_type": "stream",
     "text": [
      "      45/70      13.1G     0.3942     0.5863      1.052         61        640: 100%|██████████| 352/352 [07:51<00:00,  1.34s/it]\n",
      "                 Class     Images  Instances      Box(P          R      mAP50  mAP50-95): 100%|██████████| 94/94 [01:33<00:00,  1.00it/s]\n"
     ]
    },
    {
     "name": "stdout",
     "output_type": "stream",
     "text": [
      "                   all       3000       7612      0.503      0.468      0.458      0.287\n",
      "\n",
      "      Epoch    GPU_mem   box_loss   cls_loss   dfl_loss  Instances       Size\n"
     ]
    },
    {
     "name": "stderr",
     "output_type": "stream",
     "text": [
      "      46/70      13.1G     0.3824     0.5649      1.044         52        640: 100%|██████████| 352/352 [07:50<00:00,  1.34s/it]\n",
      "                 Class     Images  Instances      Box(P          R      mAP50  mAP50-95): 100%|██████████| 94/94 [01:34<00:00,  1.00s/it]\n"
     ]
    },
    {
     "name": "stdout",
     "output_type": "stream",
     "text": [
      "                   all       3000       7612      0.524       0.46      0.464      0.291\n",
      "\n",
      "      Epoch    GPU_mem   box_loss   cls_loss   dfl_loss  Instances       Size\n"
     ]
    },
    {
     "name": "stderr",
     "output_type": "stream",
     "text": [
      "      47/70      13.2G     0.3877     0.5595      1.046         91        640: 100%|██████████| 352/352 [07:51<00:00,  1.34s/it]\n",
      "                 Class     Images  Instances      Box(P          R      mAP50  mAP50-95): 100%|██████████| 94/94 [01:33<00:00,  1.00it/s]\n"
     ]
    },
    {
     "name": "stdout",
     "output_type": "stream",
     "text": [
      "                   all       3000       7612      0.502      0.466      0.456       0.29\n",
      "\n",
      "      Epoch    GPU_mem   box_loss   cls_loss   dfl_loss  Instances       Size\n"
     ]
    },
    {
     "name": "stderr",
     "output_type": "stream",
     "text": [
      "      48/70      13.1G        inf     0.5572      1.041         73        640: 100%|██████████| 352/352 [07:50<00:00,  1.34s/it]\n",
      "                 Class     Images  Instances      Box(P          R      mAP50  mAP50-95): 100%|██████████| 94/94 [01:33<00:00,  1.00it/s]\n"
     ]
    },
    {
     "name": "stdout",
     "output_type": "stream",
     "text": [
      "                   all       3000       7612      0.492      0.473      0.462      0.289\n",
      "\n",
      "      Epoch    GPU_mem   box_loss   cls_loss   dfl_loss  Instances       Size\n"
     ]
    },
    {
     "name": "stderr",
     "output_type": "stream",
     "text": [
      "      49/70      13.1G     0.3764      0.553      1.037         75        640: 100%|██████████| 352/352 [07:50<00:00,  1.34s/it]\n",
      "                 Class     Images  Instances      Box(P          R      mAP50  mAP50-95): 100%|██████████| 94/94 [01:34<00:00,  1.00s/it]\n"
     ]
    },
    {
     "name": "stdout",
     "output_type": "stream",
     "text": [
      "                   all       3000       7612      0.493      0.464      0.456      0.288\n",
      "\n",
      "      Epoch    GPU_mem   box_loss   cls_loss   dfl_loss  Instances       Size\n"
     ]
    },
    {
     "name": "stderr",
     "output_type": "stream",
     "text": [
      "      50/70      13.1G     0.3784     0.5532      1.042         97        640: 100%|██████████| 352/352 [07:50<00:00,  1.34s/it]\n",
      "                 Class     Images  Instances      Box(P          R      mAP50  mAP50-95): 100%|██████████| 94/94 [01:34<00:00,  1.00s/it]\n"
     ]
    },
    {
     "name": "stdout",
     "output_type": "stream",
     "text": [
      "                   all       3000       7612      0.499      0.468      0.455      0.287\n",
      "\n",
      "      Epoch    GPU_mem   box_loss   cls_loss   dfl_loss  Instances       Size\n"
     ]
    },
    {
     "name": "stderr",
     "output_type": "stream",
     "text": [
      "      51/70      13.1G     0.3667      0.529      1.035         69        640: 100%|██████████| 352/352 [07:50<00:00,  1.34s/it]\n",
      "                 Class     Images  Instances      Box(P          R      mAP50  mAP50-95): 100%|██████████| 94/94 [01:33<00:00,  1.00it/s]\n"
     ]
    },
    {
     "name": "stdout",
     "output_type": "stream",
     "text": [
      "                   all       3000       7612      0.507      0.471       0.46      0.289\n",
      "\n",
      "      Epoch    GPU_mem   box_loss   cls_loss   dfl_loss  Instances       Size\n"
     ]
    },
    {
     "name": "stderr",
     "output_type": "stream",
     "text": [
      "      52/70      13.2G      0.375     0.5446      1.042        110        640: 100%|██████████| 352/352 [07:49<00:00,  1.33s/it]\n",
      "                 Class     Images  Instances      Box(P          R      mAP50  mAP50-95): 100%|██████████| 94/94 [01:33<00:00,  1.00it/s]\n"
     ]
    },
    {
     "name": "stdout",
     "output_type": "stream",
     "text": [
      "                   all       3000       7612      0.495      0.469      0.455      0.289\n",
      "\n",
      "      Epoch    GPU_mem   box_loss   cls_loss   dfl_loss  Instances       Size\n"
     ]
    },
    {
     "name": "stderr",
     "output_type": "stream",
     "text": [
      "      53/70      13.2G     0.3688     0.5237      1.033         71        640: 100%|██████████| 352/352 [07:49<00:00,  1.34s/it]\n",
      "                 Class     Images  Instances      Box(P          R      mAP50  mAP50-95): 100%|██████████| 94/94 [01:33<00:00,  1.00it/s]\n"
     ]
    },
    {
     "name": "stdout",
     "output_type": "stream",
     "text": [
      "                   all       3000       7612      0.497      0.472      0.462      0.291\n",
      "\n",
      "      Epoch    GPU_mem   box_loss   cls_loss   dfl_loss  Instances       Size\n"
     ]
    },
    {
     "name": "stderr",
     "output_type": "stream",
     "text": [
      "      54/70      13.1G      0.364     0.5259      1.031        118        640: 100%|██████████| 352/352 [07:48<00:00,  1.33s/it]\n",
      "                 Class     Images  Instances      Box(P          R      mAP50  mAP50-95): 100%|██████████| 94/94 [01:33<00:00,  1.00it/s]\n"
     ]
    },
    {
     "name": "stdout",
     "output_type": "stream",
     "text": [
      "                   all       3000       7612      0.511      0.465      0.463      0.295\n",
      "\n",
      "      Epoch    GPU_mem   box_loss   cls_loss   dfl_loss  Instances       Size\n"
     ]
    },
    {
     "name": "stderr",
     "output_type": "stream",
     "text": [
      "      55/70      13.1G     0.3748     0.5366      1.038         73        640: 100%|██████████| 352/352 [07:47<00:00,  1.33s/it]\n",
      "                 Class     Images  Instances      Box(P          R      mAP50  mAP50-95): 100%|██████████| 94/94 [01:33<00:00,  1.00it/s]\n"
     ]
    },
    {
     "name": "stdout",
     "output_type": "stream",
     "text": [
      "                   all       3000       7612       0.51      0.463      0.461      0.292\n",
      "\n",
      "      Epoch    GPU_mem   box_loss   cls_loss   dfl_loss  Instances       Size\n"
     ]
    },
    {
     "name": "stderr",
     "output_type": "stream",
     "text": [
      "      56/70      13.1G     0.3758     0.5386      1.037         44        640: 100%|██████████| 352/352 [07:46<00:00,  1.33s/it]\n",
      "                 Class     Images  Instances      Box(P          R      mAP50  mAP50-95): 100%|██████████| 94/94 [01:33<00:00,  1.00it/s]\n"
     ]
    },
    {
     "name": "stdout",
     "output_type": "stream",
     "text": [
      "                   all       3000       7612      0.501      0.475       0.46      0.293\n",
      "\n",
      "      Epoch    GPU_mem   box_loss   cls_loss   dfl_loss  Instances       Size\n"
     ]
    },
    {
     "name": "stderr",
     "output_type": "stream",
     "text": [
      "      57/70      13.2G     0.3824     0.5359      1.041         49        640: 100%|██████████| 352/352 [07:46<00:00,  1.33s/it]\n",
      "                 Class     Images  Instances      Box(P          R      mAP50  mAP50-95): 100%|██████████| 94/94 [01:33<00:00,  1.00it/s]\n"
     ]
    },
    {
     "name": "stdout",
     "output_type": "stream",
     "text": [
      "                   all       3000       7612      0.518      0.461      0.459      0.293\n",
      "\n",
      "      Epoch    GPU_mem   box_loss   cls_loss   dfl_loss  Instances       Size\n"
     ]
    },
    {
     "name": "stderr",
     "output_type": "stream",
     "text": [
      "      58/70      13.2G     0.3686     0.5168      1.031         52        640: 100%|██████████| 352/352 [07:47<00:00,  1.33s/it]\n",
      "                 Class     Images  Instances      Box(P          R      mAP50  mAP50-95): 100%|██████████| 94/94 [01:33<00:00,  1.01it/s]\n"
     ]
    },
    {
     "name": "stdout",
     "output_type": "stream",
     "text": [
      "                   all       3000       7612      0.533       0.45      0.464      0.293\n",
      "\n",
      "      Epoch    GPU_mem   box_loss   cls_loss   dfl_loss  Instances       Size\n"
     ]
    },
    {
     "name": "stderr",
     "output_type": "stream",
     "text": [
      "      59/70      13.2G     0.3684     0.5173      1.031         62        640: 100%|██████████| 352/352 [07:47<00:00,  1.33s/it]\n",
      "                 Class     Images  Instances      Box(P          R      mAP50  mAP50-95): 100%|██████████| 94/94 [01:33<00:00,  1.00it/s]\n"
     ]
    },
    {
     "name": "stdout",
     "output_type": "stream",
     "text": [
      "                   all       3000       7612      0.532      0.454      0.461      0.294\n",
      "\n",
      "      Epoch    GPU_mem   box_loss   cls_loss   dfl_loss  Instances       Size\n"
     ]
    },
    {
     "name": "stderr",
     "output_type": "stream",
     "text": [
      "      60/70      13.2G     0.3676     0.5103      1.028         41        640: 100%|██████████| 352/352 [07:48<00:00,  1.33s/it]\n",
      "                 Class     Images  Instances      Box(P          R      mAP50  mAP50-95): 100%|██████████| 94/94 [01:33<00:00,  1.00it/s]\n"
     ]
    },
    {
     "name": "stdout",
     "output_type": "stream",
     "text": [
      "                   all       3000       7612      0.532       0.45      0.459      0.293\n",
      "Closing dataloader mosaic\n",
      "\u001b[34m\u001b[1malbumentations: \u001b[0mBlur(p=0.01, blur_limit=(3, 7)), MedianBlur(p=0.01, blur_limit=(3, 7)), ToGray(p=0.01), CLAHE(p=0.01, clip_limit=(1, 4.0), tile_grid_size=(8, 8))\n"
     ]
    },
    {
     "name": "stderr",
     "output_type": "stream",
     "text": [
      "/opt/conda/lib/python3.10/multiprocessing/popen_fork.py:66: RuntimeWarning: os.fork() was called. os.fork() is incompatible with multithreaded code, and JAX is multithreaded, so this will likely lead to a deadlock.\n",
      "  self.pid = os.fork()\n"
     ]
    },
    {
     "name": "stdout",
     "output_type": "stream",
     "text": [
      "\n",
      "      Epoch    GPU_mem   box_loss   cls_loss   dfl_loss  Instances       Size\n"
     ]
    },
    {
     "name": "stderr",
     "output_type": "stream",
     "text": [
      "      61/70      13.2G     0.5104     0.5009      1.119         22        640: 100%|██████████| 352/352 [07:46<00:00,  1.32s/it]\n",
      "                 Class     Images  Instances      Box(P          R      mAP50  mAP50-95): 100%|██████████| 94/94 [01:33<00:00,  1.00it/s]\n"
     ]
    },
    {
     "name": "stdout",
     "output_type": "stream",
     "text": [
      "                   all       3000       7612      0.524      0.458      0.459      0.291\n",
      "\n",
      "      Epoch    GPU_mem   box_loss   cls_loss   dfl_loss  Instances       Size\n"
     ]
    },
    {
     "name": "stderr",
     "output_type": "stream",
     "text": [
      "      62/70      13.2G     0.4967     0.4754      1.109         26        640: 100%|██████████| 352/352 [07:45<00:00,  1.32s/it]\n",
      "                 Class     Images  Instances      Box(P          R      mAP50  mAP50-95): 100%|██████████| 94/94 [01:33<00:00,  1.00it/s]\n"
     ]
    },
    {
     "name": "stdout",
     "output_type": "stream",
     "text": [
      "                   all       3000       7612       0.51      0.466      0.454       0.29\n",
      "\n",
      "      Epoch    GPU_mem   box_loss   cls_loss   dfl_loss  Instances       Size\n"
     ]
    },
    {
     "name": "stderr",
     "output_type": "stream",
     "text": [
      "      63/70      13.2G     0.4892     0.4601      1.106         18        640: 100%|██████████| 352/352 [07:45<00:00,  1.32s/it]\n",
      "                 Class     Images  Instances      Box(P          R      mAP50  mAP50-95): 100%|██████████| 94/94 [01:33<00:00,  1.00it/s]\n"
     ]
    },
    {
     "name": "stdout",
     "output_type": "stream",
     "text": [
      "                   all       3000       7612      0.494      0.466      0.453      0.289\n",
      "\n",
      "      Epoch    GPU_mem   box_loss   cls_loss   dfl_loss  Instances       Size\n"
     ]
    },
    {
     "name": "stderr",
     "output_type": "stream",
     "text": [
      "      64/70      13.2G     0.4836     0.4519      1.096         20        640: 100%|██████████| 352/352 [07:45<00:00,  1.32s/it]\n",
      "                 Class     Images  Instances      Box(P          R      mAP50  mAP50-95): 100%|██████████| 94/94 [01:33<00:00,  1.00it/s]\n"
     ]
    },
    {
     "name": "stdout",
     "output_type": "stream",
     "text": [
      "                   all       3000       7612        0.5      0.463      0.453      0.289\n",
      "\n",
      "      Epoch    GPU_mem   box_loss   cls_loss   dfl_loss  Instances       Size\n"
     ]
    },
    {
     "name": "stderr",
     "output_type": "stream",
     "text": [
      "      65/70      13.2G        inf      0.424      1.087         42        640: 100%|██████████| 352/352 [07:43<00:00,  1.32s/it]\n",
      "                 Class     Images  Instances      Box(P          R      mAP50  mAP50-95): 100%|██████████| 94/94 [01:33<00:00,  1.00it/s]\n"
     ]
    },
    {
     "name": "stdout",
     "output_type": "stream",
     "text": [
      "                   all       3000       7612      0.496       0.47      0.451      0.289\n",
      "\n",
      "      Epoch    GPU_mem   box_loss   cls_loss   dfl_loss  Instances       Size\n"
     ]
    },
    {
     "name": "stderr",
     "output_type": "stream",
     "text": [
      "      66/70      13.1G     0.4814     0.4378      1.091         36        640: 100%|██████████| 352/352 [07:42<00:00,  1.32s/it]\n",
      "                 Class     Images  Instances      Box(P          R      mAP50  mAP50-95): 100%|██████████| 94/94 [01:33<00:00,  1.00it/s]\n"
     ]
    },
    {
     "name": "stdout",
     "output_type": "stream",
     "text": [
      "                   all       3000       7612      0.503      0.462      0.452      0.289\n",
      "\n",
      "      Epoch    GPU_mem   box_loss   cls_loss   dfl_loss  Instances       Size\n"
     ]
    },
    {
     "name": "stderr",
     "output_type": "stream",
     "text": [
      "      67/70      13.2G     0.4703      0.425       1.09         35        640: 100%|██████████| 352/352 [07:42<00:00,  1.31s/it]\n",
      "                 Class     Images  Instances      Box(P          R      mAP50  mAP50-95): 100%|██████████| 94/94 [01:33<00:00,  1.00it/s]\n"
     ]
    },
    {
     "name": "stdout",
     "output_type": "stream",
     "text": [
      "                   all       3000       7612      0.497       0.47      0.452      0.289\n",
      "\n",
      "      Epoch    GPU_mem   box_loss   cls_loss   dfl_loss  Instances       Size\n"
     ]
    },
    {
     "name": "stderr",
     "output_type": "stream",
     "text": [
      "      68/70      13.2G      0.461     0.4161      1.087         37        640: 100%|██████████| 352/352 [07:39<00:00,  1.30s/it]\n",
      "                 Class     Images  Instances      Box(P          R      mAP50  mAP50-95): 100%|██████████| 94/94 [01:33<00:00,  1.00it/s]\n"
     ]
    },
    {
     "name": "stdout",
     "output_type": "stream",
     "text": [
      "                   all       3000       7612      0.499      0.467       0.45      0.287\n",
      "\n",
      "      Epoch    GPU_mem   box_loss   cls_loss   dfl_loss  Instances       Size\n"
     ]
    },
    {
     "name": "stderr",
     "output_type": "stream",
     "text": [
      "      69/70      13.2G     0.4674     0.4154      1.083          9        640: 100%|██████████| 352/352 [07:39<00:00,  1.31s/it]\n",
      "                 Class     Images  Instances      Box(P          R      mAP50  mAP50-95): 100%|██████████| 94/94 [01:33<00:00,  1.00it/s]\n"
     ]
    },
    {
     "name": "stdout",
     "output_type": "stream",
     "text": [
      "                   all       3000       7612      0.504      0.463      0.449      0.287\n",
      "\n",
      "      Epoch    GPU_mem   box_loss   cls_loss   dfl_loss  Instances       Size\n"
     ]
    },
    {
     "name": "stderr",
     "output_type": "stream",
     "text": [
      "      70/70      13.2G     0.4593     0.4095      1.081         11        640: 100%|██████████| 352/352 [07:38<00:00,  1.30s/it]\n",
      "                 Class     Images  Instances      Box(P          R      mAP50  mAP50-95): 100%|██████████| 94/94 [01:33<00:00,  1.00it/s]\n"
     ]
    },
    {
     "name": "stdout",
     "output_type": "stream",
     "text": [
      "                   all       3000       7612      0.502      0.465      0.447      0.285\n",
      "\n",
      "70 epochs completed in 11.006 hours.\n",
      "Optimizer stripped from vincxr_yolov8x_balanceMax_HPYOLOv8_ChestXray/time11hour2/weights/last.pt, 136.8MB\n",
      "Optimizer stripped from vincxr_yolov8x_balanceMax_HPYOLOv8_ChestXray/time11hour2/weights/best.pt, 136.8MB\n",
      "\n",
      "Validating vincxr_yolov8x_balanceMax_HPYOLOv8_ChestXray/time11hour2/weights/best.pt...\n",
      "Ultralytics YOLOv8.2.100 🚀 Python-3.10.14 torch-2.4.0 CUDA:0 (Tesla T4, 15095MiB)\n",
      "                                                       CUDA:1 (Tesla T4, 15095MiB)\n",
      "Model summary (fused): 268 layers, 68,138,976 parameters, 0 gradients, 257.5 GFLOPs\n"
     ]
    },
    {
     "name": "stderr",
     "output_type": "stream",
     "text": [
      "                 Class     Images  Instances      Box(P          R      mAP50  mAP50-95): 100%|██████████| 94/94 [03:22<00:00,  2.15s/it]\n"
     ]
    },
    {
     "name": "stdout",
     "output_type": "stream",
     "text": [
      "                   all       3000       7612      0.507      0.494      0.474      0.302\n",
      "    Aortic_enlargement        593        655      0.741      0.876      0.886       0.56\n",
      "           Atelectasis         38         46      0.379      0.261      0.193     0.0785\n",
      "         Calcification         84        137      0.313      0.321      0.206      0.078\n",
      "          Cardiomegaly        447        475      0.769      0.893      0.899      0.638\n",
      "         Consolidation         61         69      0.342      0.385      0.366      0.186\n",
      "                   ILD         87        176      0.379      0.386      0.363      0.156\n",
      "          Infiltration        119        176      0.409      0.417      0.359      0.158\n",
      "          Lung_Opacity        253        365       0.34      0.329      0.256      0.102\n",
      "           Nodule/Mass        146        394      0.458      0.335      0.335      0.143\n",
      "          Other_lesion        234        385      0.335      0.221      0.189     0.0653\n",
      "      Pleural_effusion        201        345      0.583        0.4      0.482      0.195\n",
      "    Pleural_thickening        369        753      0.397      0.297      0.281     0.0872\n",
      "          Pneumothorax         20         28      0.383      0.464      0.461      0.294\n",
      "    Pulmonary_fibrosis        295        608      0.412      0.359      0.329      0.118\n",
      "            No finding       2138       2138      0.965      0.991      0.991      0.991\n",
      "               Finding        862        862      0.913      0.972      0.984      0.984\n",
      "Speed: 0.2ms preprocess, 63.7ms inference, 0.0ms loss, 0.7ms postprocess per image\n",
      "Results saved to \u001b[1mvincxr_yolov8x_balanceMax_HPYOLOv8_ChestXray/time11hour2\u001b[0m\n"
     ]
    },
    {
     "name": "stderr",
     "output_type": "stream",
     "text": [
      "wandb:                                                                                \n",
      "wandb: \n",
      "wandb: Run history:\n",
      "wandb:                  lr/pg0 ▃▆███▇▇▇▇▇▇▆▆▆▆▆▅▅▅▅▅▄▄▄▄▄▃▃▃▃▃▃▂▂▂▂▂▁▁▁\n",
      "wandb:                  lr/pg1 ▃▆███▇▇▇▇▇▇▆▆▆▆▆▅▅▅▅▅▄▄▄▄▄▃▃▃▃▃▃▂▂▂▂▂▁▁▁\n",
      "wandb:                  lr/pg2 ▃▆███▇▇▇▇▇▇▆▆▆▆▆▅▅▅▅▅▄▄▄▄▄▃▃▃▃▃▃▂▂▂▂▂▁▁▁\n",
      "wandb:        metrics/mAP50(B) ▆▅▂▄▁▄▄▄▄▄▄▄▅▆▆▆▆▇▆▇▆▇▇▇▇▇▇▇▇▇▇▇▇▇▇▇▇▇▇█\n",
      "wandb:     metrics/mAP50-95(B) ▆▅▂▃▁▃▃▃▄▃▄▃▄▅▅▅▅▆▆▆▆▇▆▇▆▆▇▇▆▇▇▇▇▇▇▇▇▇▇█\n",
      "wandb:    metrics/precision(B) ▄▃▂▄▁▃▁▃▄▃▃▂▃▆▆▆▅▆▅▅▆▇▆▇▇▆▆▆▆▆▇▇▇██▇▆▆▆▇\n",
      "wandb:       metrics/recall(B) ▇▆▃▄▁▄▄▅▄��▄▅▅▅▅▅▆▆▆▆▆▆▆▆▆▇▆▇▇▇▆▆▆▆▆▆▆▆▆█\n",
      "wandb:            model/GFLOPs ▁\n",
      "wandb:        model/parameters ▁\n",
      "wandb: model/speed_PyTorch(ms) ▁\n",
      "wandb:          train/box_loss  ▂▄▄▄▄▄▃ ▃▃▃▃ ▄▃▃▃▃▂▂▂▃▂▂▂▂ ▂▂▁▂▂▁█▇▇▇▆▆\n",
      "wandb:          train/cls_loss ▅▅█████▇▇▇▇▇▇▆▇▆▆▆▆▆▅▅▅▅▅▅▅▄▄▄▄▄▄▄▃▃▂▂▁▁\n",
      "wandb:          train/dfl_loss ▂▃▄▄▄▄▄▃▄▄▃▃▃▃▃▃▃▃▃▂▂▃▃▂▂▃▂▂▂▂▁▂▂▁█▇▆▆▅▅\n",
      "wandb:            val/box_loss ▁▃▅▅█▄▅▄▆▃▃▃▅▄▇▅▂▂▂▄▃▃▂▂▄▃▄▄▄▄▅▅▄▄▅▅▅▆▅▅\n",
      "wandb:            val/cls_loss ▁▃▇▄█▅▅▄▄▃▃▃▄▃▅▄▂▁▂▃▂▂▁▁▂▂▂▃▂▂▂▃▃▂▂▂▃▃▃▃\n",
      "wandb:            val/dfl_loss ▁▃▅▆█▅��▄▆▃▃▃▄▄▇▅▂▂▂▄▃▃▂▂▄▃▃▃▄▄▄▅▄▃▄▅▅▆▅▅\n",
      "wandb: \n",
      "wandb: Run summary:\n",
      "wandb:                  lr/pg0 0.00024\n",
      "wandb:                  lr/pg1 0.00024\n",
      "wandb:                  lr/pg2 0.00024\n",
      "wandb:        metrics/mAP50(B) 0.47376\n",
      "wandb:     metrics/mAP50-95(B) 0.30219\n",
      "wandb:    metrics/precision(B) 0.50746\n",
      "wandb:       metrics/recall(B) 0.4942\n",
      "wandb:            model/GFLOPs 258.203\n",
      "wandb:        model/parameters 68168016\n",
      "wandb: model/speed_PyTorch(ms) 27.608\n",
      "wandb:          train/box_loss 0.45934\n",
      "wandb:          train/cls_loss 0.40952\n",
      "wandb:          train/dfl_loss 1.08126\n",
      "wandb:            val/box_loss 0.72398\n",
      "wandb:            val/cls_loss 0.81567\n",
      "wandb:            val/dfl_loss 0.79913\n",
      "wandb: \n",
      "wandb: 🚀 View run time11hour2 at: https://wandb.ai/buithanhxuan2261-xuan2261/vincxr_yolov8x_balanceMax_HPYOLOv8_ChestXray/runs/p3hkos36\n",
      "wandb: ⭐️ View project at: https://wandb.ai/buithanhxuan2261-xuan2261/vincxr_yolov8x_balanceMax_HPYOLOv8_ChestXray\n",
      "wandb: Synced 5 W&B file(s), 21 media file(s), 5 artifact file(s) and 0 other file(s)\n",
      "wandb: Find logs at: ./wandb/run-20240924_105227-p3hkos36/logs\n",
      "wandb: WARNING The new W&B backend becomes opt-out in version 0.18.0; try it out with `wandb.require(\"core\")`! See https://wandb.me/wandb-core for more information.\n"
     ]
    },
    {
     "name": "stdout",
     "output_type": "stream",
     "text": [
      "Training completed.\n"
     ]
    }
   ],
   "source": [
    "# Train the model with the defined parameters\n",
    "print(\"Starting training...\")\n",
    "results = model.train_model(**training_parameters)\n",
    "print(\"Training completed.\")"
   ]
  },
  {
   "cell_type": "code",
   "execution_count": 22,
   "id": "cfe2add2",
   "metadata": {
    "execution": {
     "iopub.execute_input": "2024-09-24T21:58:33.133289Z",
     "iopub.status.busy": "2024-09-24T21:58:33.132355Z",
     "iopub.status.idle": "2024-09-24T22:06:37.145495Z",
     "shell.execute_reply": "2024-09-24T22:06:37.144419Z"
    },
    "papermill": {
     "duration": 486.74695,
     "end_time": "2024-09-24T22:06:37.147606",
     "exception": false,
     "start_time": "2024-09-24T21:58:30.400656",
     "status": "completed"
    },
    "tags": []
   },
   "outputs": [
    {
     "name": "stdout",
     "output_type": "stream",
     "text": [
      "Starting validation...\n",
      "Ultralytics YOLOv8.2.100 🚀 Python-3.10.14 torch-2.4.0 CUDA:0 (Tesla T4, 15095MiB)\n",
      "                                                       CUDA:1 (Tesla T4, 15095MiB)\n",
      "Model summary (fused): 268 layers, 68,138,976 parameters, 0 gradients, 257.5 GFLOPs\n"
     ]
    },
    {
     "name": "stderr",
     "output_type": "stream",
     "text": [
      "\u001b[34m\u001b[1mval: \u001b[0mScanning /kaggle/input/vinbigdata-yolo-dataset-with-wbf-640px-16class/vinbigdata-yolo-dataset-with-wbf-640px-16class/val/labels... 3000 images, 0 backgrounds, 0 corrupt: 100%|██████████| 3000/3000 [00:03<00:00, 799.34it/s]\n"
     ]
    },
    {
     "name": "stdout",
     "output_type": "stream",
     "text": [
      "\u001b[34m\u001b[1mval: \u001b[0mWARNING ⚠️ Cache directory /kaggle/input/vinbigdata-yolo-dataset-with-wbf-640px-16class/vinbigdata-yolo-dataset-with-wbf-640px-16class/val is not writeable, cache not saved.\n"
     ]
    },
    {
     "name": "stderr",
     "output_type": "stream",
     "text": [
      "/opt/conda/lib/python3.10/multiprocessing/popen_fork.py:66: RuntimeWarning: os.fork() was called. os.fork() is incompatible with multithreaded code, and JAX is multithreaded, so this will likely lead to a deadlock.\n",
      "  self.pid = os.fork()\n",
      "                 Class     Images  Instances      Box(P          R      mAP50  mAP50-95): 100%|██████████| 94/94 [07:52<00:00,  5.02s/it]\n"
     ]
    },
    {
     "name": "stdout",
     "output_type": "stream",
     "text": [
      "                   all       3000       7612      0.507      0.493      0.473      0.302\n",
      "    Aortic_enlargement        593        655      0.742      0.876      0.886      0.558\n",
      "           Atelectasis         38         46      0.379      0.261      0.195     0.0789\n",
      "         Calcification         84        137      0.312      0.321      0.205     0.0788\n",
      "          Cardiomegaly        447        475      0.771      0.893      0.899      0.639\n",
      "         Consolidation         61         69      0.351      0.391      0.368      0.187\n",
      "                   ILD         87        176      0.378      0.386      0.357      0.156\n",
      "          Infiltration        119        176      0.409      0.415      0.359      0.158\n",
      "          Lung_Opacity        253        365      0.343      0.329      0.256      0.102\n",
      "           Nodule/Mass        146        394       0.45      0.328      0.331      0.145\n",
      "          Other_lesion        234        385      0.337      0.218       0.19     0.0647\n",
      "      Pleural_effusion        201        345      0.574       0.39      0.478      0.195\n",
      "    Pleural_thickening        369        753        0.4      0.297      0.281     0.0878\n",
      "          Pneumothorax         20         28      0.384      0.464      0.461      0.294\n",
      "    Pulmonary_fibrosis        295        608       0.41      0.357      0.327      0.118\n",
      "            No finding       2138       2138      0.965      0.991      0.991      0.991\n",
      "               Finding        862        862      0.913      0.972      0.984      0.984\n",
      "Speed: 0.2ms preprocess, 153.2ms inference, 0.0ms loss, 0.8ms postprocess per image\n",
      "Results saved to \u001b[1mvincxr_yolov8x_balanceMax_HPYOLOv8_ChestXray/time11hour2\u001b[0m\n",
      "Validation completed.\n"
     ]
    }
   ],
   "source": [
    "# Evaluate on the validation set\n",
    "print(\"Starting validation...\")\n",
    "val_results = model.val(iou=0.5)\n",
    "print(\"Validation completed.\")\n",
    "# print(\"Validation Results:\")\n",
    "# print(val_results)"
   ]
  },
  {
   "cell_type": "code",
   "execution_count": 23,
   "id": "da3a1dae",
   "metadata": {
    "execution": {
     "iopub.execute_input": "2024-09-24T22:06:42.658527Z",
     "iopub.status.busy": "2024-09-24T22:06:42.657749Z",
     "iopub.status.idle": "2024-09-24T22:08:52.538724Z",
     "shell.execute_reply": "2024-09-24T22:08:52.537446Z"
    },
    "papermill": {
     "duration": 132.611301,
     "end_time": "2024-09-24T22:08:52.541023",
     "exception": false,
     "start_time": "2024-09-24T22:06:39.929722",
     "status": "completed"
    },
    "tags": []
   },
   "outputs": [
    {
     "name": "stdout",
     "output_type": "stream",
     "text": [
      "Starting test evaluation...\n",
      "Ultralytics YOLOv8.2.100 🚀 Python-3.10.14 torch-2.4.0 CUDA:0 (Tesla T4, 15095MiB)\n",
      "                                                       CUDA:1 (Tesla T4, 15095MiB)\n"
     ]
    },
    {
     "name": "stderr",
     "output_type": "stream",
     "text": [
      "\u001b[34m\u001b[1mval: \u001b[0mScanning /kaggle/input/vinbigdata-yolo-dataset-with-wbf-640px-16class/vinbigdata-yolo-dataset-with-wbf-640px-16class/test/labels... 750 images, 0 backgrounds, 0 corrupt: 100%|██████████| 750/750 [00:03<00:00, 193.61it/s]\n"
     ]
    },
    {
     "name": "stdout",
     "output_type": "stream",
     "text": [
      "\u001b[34m\u001b[1mval: \u001b[0mWARNING ⚠️ Cache directory /kaggle/input/vinbigdata-yolo-dataset-with-wbf-640px-16class/vinbigdata-yolo-dataset-with-wbf-640px-16class/test is not writeable, cache not saved.\n"
     ]
    },
    {
     "name": "stderr",
     "output_type": "stream",
     "text": [
      "/opt/conda/lib/python3.10/multiprocessing/popen_fork.py:66: RuntimeWarning: os.fork() was called. os.fork() is incompatible with multithreaded code, and JAX is multithreaded, so this will likely lead to a deadlock.\n",
      "  self.pid = os.fork()\n",
      "                 Class     Images  Instances      Box(P          R      mAP50  mAP50-95): 100%|██████████| 24/24 [02:00<00:00,  5.03s/it]\n"
     ]
    },
    {
     "name": "stdout",
     "output_type": "stream",
     "text": [
      "                   all        750       1999      0.488      0.467      0.471      0.296\n",
      "    Aortic_enlargement        147        162      0.769      0.901      0.926      0.606\n",
      "           Atelectasis         18         20      0.337        0.3      0.272     0.0821\n",
      "         Calcification         23         28      0.362       0.25      0.292     0.0971\n",
      "          Cardiomegaly         96         99      0.671      0.919       0.93      0.641\n",
      "         Consolidation         14         17      0.387      0.529      0.416      0.188\n",
      "                   ILD         18         36      0.306      0.361      0.347      0.166\n",
      "          Infiltration         34         53      0.403      0.472      0.401      0.176\n",
      "          Lung_Opacity         73        116      0.403      0.262      0.311      0.124\n",
      "           Nodule/Mass         35         74      0.468      0.338      0.345        0.2\n",
      "          Other_lesion         50         91      0.278      0.121      0.113     0.0451\n",
      "      Pleural_effusion         52         97      0.584      0.361      0.479      0.184\n",
      "    Pleural_thickening        113        238      0.417      0.277      0.295     0.0985\n",
      "          Pneumothorax          3          3          0          0     0.0185    0.00688\n",
      "    Pulmonary_fibrosis        100        215      0.536      0.392      0.405       0.14\n",
      "            No finding        530        530      0.967      0.996      0.995      0.995\n",
      "               Finding        220        220      0.926      0.995      0.993      0.993\n",
      "Speed: 0.2ms preprocess, 154.0ms inference, 0.0ms loss, 0.8ms postprocess per image\n",
      "Results saved to \u001b[1mvincxr_yolov8x_balanceMax_HPYOLOv8_ChestXray/time11hour2\u001b[0m\n",
      "Test Evaluation completed.\n"
     ]
    }
   ],
   "source": [
    "# Evaluate on the test set\n",
    "print(\"Starting test evaluation...\")\n",
    "test_results = model.val(iou=0.5, split='test')\n",
    "print(\"Test Evaluation completed.\")\n",
    "# print(\"Test Results:\")\n",
    "# print(test_results)"
   ]
  },
  {
   "cell_type": "code",
   "execution_count": null,
   "id": "d40b8aa9",
   "metadata": {
    "papermill": {
     "duration": 2.722441,
     "end_time": "2024-09-24T22:08:58.008478",
     "exception": false,
     "start_time": "2024-09-24T22:08:55.286037",
     "status": "completed"
    },
    "tags": []
   },
   "outputs": [],
   "source": []
  },
  {
   "cell_type": "code",
   "execution_count": 24,
   "id": "37999fb8",
   "metadata": {
    "execution": {
     "iopub.execute_input": "2024-09-24T22:09:03.437375Z",
     "iopub.status.busy": "2024-09-24T22:09:03.436365Z",
     "iopub.status.idle": "2024-09-24T22:09:05.504644Z",
     "shell.execute_reply": "2024-09-24T22:09:05.503695Z"
    },
    "papermill": {
     "duration": 4.77673,
     "end_time": "2024-09-24T22:09:05.506759",
     "exception": false,
     "start_time": "2024-09-24T22:09:00.730029",
     "status": "completed"
    },
    "tags": []
   },
   "outputs": [
    {
     "name": "stdout",
     "output_type": "stream",
     "text": [
      "Phân phối lớp trong dữ liệu huấn luyện: Counter({14: 677, 15: 323, 11: 277, 0: 251, 13: 202, 3: 185, 8: 162, 7: 155, 9: 138, 10: 113, 2: 50, 5: 49, 6: 45, 4: 28, 12: 10, 1: 8})\n"
     ]
    }
   ],
   "source": [
    "from collections import Counter\n",
    "\n",
    "def verify_class_balance(file_path, num_samples=1000):\n",
    "    \"\"\"\n",
    "    Kiểm tra cân bằng lớp trong dataset.\n",
    "\n",
    "    Args:\n",
    "        file_path (str): Đường dẫn tới tệp dữ liệu huấn luyện (train.txt).\n",
    "        num_samples (int): Số lượng mẫu để kiểm tra.\n",
    "\n",
    "    Returns:\n",
    "        Counter: Số lượng của từng lớp.\n",
    "    \"\"\"\n",
    "    labels = []\n",
    "    with open(file_path, 'r') as f:\n",
    "        image_paths = f.read().splitlines()\n",
    "\n",
    "    # Giả định rằng nhãn được lưu trong các tệp .txt tương ứng\n",
    "    for img_path in image_paths[:num_samples]:\n",
    "        label_path = img_path.replace('/images/', '/labels/').replace('.jpg', '.txt')\n",
    "        if os.path.exists(label_path):\n",
    "            with open(label_path, 'r') as lf:\n",
    "                for line in lf:\n",
    "                    class_id = int(line.split()[0])\n",
    "                    labels.append(class_id)\n",
    "\n",
    "    return Counter(labels)\n",
    "\n",
    "# Sử dụng\n",
    "train_file = '/kaggle/input/vinbigdata-yolo-dataset-with-wbf-640px-16class/vinbigdata-yolo-dataset-with-wbf-640px-16class/train.txt'\n",
    "class_counts = verify_class_balance(train_file, num_samples=1000)\n",
    "print(\"Phân phối lớp trong dữ liệu huấn luyện:\", class_counts)\n"
   ]
  },
  {
   "cell_type": "code",
   "execution_count": 25,
   "id": "f29621cf",
   "metadata": {
    "execution": {
     "iopub.execute_input": "2024-09-24T22:09:11.052265Z",
     "iopub.status.busy": "2024-09-24T22:09:11.051339Z",
     "iopub.status.idle": "2024-09-24T22:09:11.062903Z",
     "shell.execute_reply": "2024-09-24T22:09:11.061991Z"
    },
    "papermill": {
     "duration": 2.733102,
     "end_time": "2024-09-24T22:09:11.064969",
     "exception": false,
     "start_time": "2024-09-24T22:09:08.331867",
     "status": "completed"
    },
    "tags": []
   },
   "outputs": [],
   "source": [
    "import matplotlib.pyplot as plt\n",
    "import numpy as np\n",
    "from collections import Counter\n",
    "\n",
    "def verify_class_balance(dataset, num_samples=1000):\n",
    "    \"\"\"\n",
    "    Verifies whether the __getitem__ method in the YOLOWeightedDataset class returns a balanced class output.\n",
    "\n",
    "    Args:\n",
    "        dataset: An instance of YOLOWeightedDataset.\n",
    "        num_samples: Number of samples to draw from the dataset.\n",
    "\n",
    "    Returns:\n",
    "        class_counts: A dictionary containing the class counts.\n",
    "    \"\"\"\n",
    "    all_labels = []\n",
    "\n",
    "    if dataset.train_mode:\n",
    "        choices = np.random.choice(len(dataset.labels), size=num_samples, p=dataset.probabilities)\n",
    "    else:\n",
    "        choices = range(len(dataset.labels))\n",
    "\n",
    "    for i in choices:\n",
    "        label = dataset.labels[i][\"cls\"]\n",
    "        all_labels.extend(label.reshape(-1).astype(int))\n",
    "\n",
    "    class_counts = Counter(all_labels)\n",
    "    return class_counts\n",
    "\n",
    "def plot_class_balance(weighted_cnts, unweighted_cnts, class_names):\n",
    "    \"\"\"\n",
    "    Plots the comparison of class distribution between training and validation modes.\n",
    "\n",
    "    Args:\n",
    "        weighted_cnts: A dictionary containing the class counts in weighted mode.\n",
    "        unweighted_cnts: A dictionary containing the class counts in unweighted mode.\n",
    "        class_names: A list of class names.\n",
    "    \"\"\"\n",
    "    classes = range(len(class_names))\n",
    "    weighted_values = [weighted_cnts.get(c, 0) for c in classes]\n",
    "    unweighted_values = [unweighted_cnts.get(c, 0) for c in classes]\n",
    "\n",
    "    width = 0.35  # Bar width\n",
    "\n",
    "    fig, ax = plt.subplots()\n",
    "    ax.bar(classes, unweighted_values, width, label='Normal mode')\n",
    "    ax.bar([c + width for c in classes], weighted_values, width, label='Weighted Mode')\n",
    "\n",
    "    ax.set_xlabel('Class')\n",
    "    ax.set_ylabel('Count')\n",
    "    ax.set_title('Class Distribution in Normal vs Weighted Modes')\n",
    "    ax.set_xticks([c + width / 2 for c in classes])\n",
    "    ax.set_xticklabels(class_names, rotation=45, ha='right')\n",
    "    ax.legend()\n",
    "\n",
    "    plt.show()"
   ]
  },
  {
   "cell_type": "code",
   "execution_count": 26,
   "id": "73432384",
   "metadata": {
    "execution": {
     "iopub.execute_input": "2024-09-24T22:09:16.454879Z",
     "iopub.status.busy": "2024-09-24T22:09:16.454478Z",
     "iopub.status.idle": "2024-09-24T22:09:31.654982Z",
     "shell.execute_reply": "2024-09-24T22:09:31.653986Z"
    },
    "papermill": {
     "duration": 17.896089,
     "end_time": "2024-09-24T22:09:31.657072",
     "exception": false,
     "start_time": "2024-09-24T22:09:13.760983",
     "status": "completed"
    },
    "tags": []
   },
   "outputs": [
    {
     "name": "stdout",
     "output_type": "stream",
     "text": [
      "YOLODataset has been monkey-patched with YOLOWeightedDataset.\n"
     ]
    },
    {
     "name": "stderr",
     "output_type": "stream",
     "text": [
      "\u001b[34m\u001b[1mtrain: \u001b[0mScanning /kaggle/input/vinbigdata-yolo-dataset-with-wbf-640px-16class/vinbigdata-yolo-dataset-with-wbf-640px-16class/train/labels... 11250 images, 0 backgrounds, 0 corrupt: 100%|██████████| 11250/11250 [00:14<00:00, 801.71it/s]\n"
     ]
    },
    {
     "name": "stdout",
     "output_type": "stream",
     "text": [
      "\u001b[34m\u001b[1mtrain: \u001b[0mWARNING ⚠️ Cache directory /kaggle/input/vinbigdata-yolo-dataset-with-wbf-640px-16class/vinbigdata-yolo-dataset-with-wbf-640px-16class/train is not writeable, cache not saved.\n",
      "\u001b[34m\u001b[1malbumentations: \u001b[0mBlur(p=0.01, blur_limit=(3, 7)), MedianBlur(p=0.01, blur_limit=(3, 7)), ToGray(p=0.01), CLAHE(p=0.01, clip_limit=(1, 4.0), tile_grid_size=(8, 8))\n"
     ]
    },
    {
     "data": {
      "image/png": "[encoded data removed]",
      "text/plain": [
       "<Figure size 640x480 with 1 Axes>"
      ]
     },
     "metadata": {},
     "output_type": "display_data"
    }
   ],
   "source": [
    "### https://y-t-g.github.io/tutorials/yolo-class-balancing/\n",
    "\n",
    "# Specify a batch size\n",
    "batch_size = 16  # or any appropriate value\n",
    "\n",
    "# # Apply the monkey-patch\n",
    "# patch_dataset(model.trainer)\n",
    "\n",
    "if model.trainer is not None:\n",
    "    patch_dataset(model.trainer)\n",
    "    # Tiếp tục xây dựng dataset\n",
    "else:\n",
    "    print(\"Trainer chưa được khởi tạo.\")\n",
    "\n",
    "# Now build the dataset with the patched class\n",
    "trainset = model.trainer.build_dataset('/kaggle/input/vinbigdata-yolo-dataset-with-wbf-640px-16class/vinbigdata-yolo-dataset-with-wbf-640px-16class/train.txt', mode='train', batch=batch_size)\n",
    "\n",
    "# Now you can proceed to modify the dataset attributes as needed\n",
    "trainset.agg_func = np.sum\n",
    "trainset.weights = trainset.calculate_weights()\n",
    "trainset.probabilities = trainset.calculate_probabilities()\n",
    "\n",
    "# Verify class balance in training mode\n",
    "trainset.train_mode = True\n",
    "train_counts = verify_class_balance(trainset, num_samples=1000)\n",
    "\n",
    "# Verify class balance in validation mode\n",
    "trainset.train_mode = False\n",
    "val_counts = verify_class_balance(trainset, num_samples=1000)\n",
    "\n",
    "# Plot the comparison\n",
    "plot_class_balance(train_counts, val_counts, list(trainset.data[\"names\"].values()))"
   ]
  },
  {
   "cell_type": "code",
   "execution_count": 27,
   "id": "f26a6b8d",
   "metadata": {
    "execution": {
     "iopub.execute_input": "2024-09-24T22:09:37.169680Z",
     "iopub.status.busy": "2024-09-24T22:09:37.168761Z",
     "iopub.status.idle": "2024-09-24T22:09:37.581739Z",
     "shell.execute_reply": "2024-09-24T22:09:37.580287Z"
    },
    "papermill": {
     "duration": 3.205888,
     "end_time": "2024-09-24T22:09:37.584139",
     "exception": true,
     "start_time": "2024-09-24T22:09:34.378251",
     "status": "failed"
    },
    "tags": []
   },
   "outputs": [
    {
     "name": "stdout",
     "output_type": "stream",
     "text": [
      "Ngưỡng của từng lớp: [0.8037647776698476, 0.3088698066808813, 0.316387969428949, 0.8274848603727791, 0.3698186995540763, 0.3818808500645518, 0.41182734488302886, 0.33582849931361275, 0.37900169691830354, 0.26497349279413035, 0.46427795950718176, 0.3413579323027201, 0.42006590542621197, 0.38181554689325375, 0.9777918226727478, 0.9418244956556391]\n"
     ]
    },
    {
     "ename": "TypeError",
     "evalue": "HPYOLOv8.predict() takes 1 positional argument but 2 were given",
     "output_type": "error",
     "traceback": [
      "\u001b[0;31m---------------------------------------------------------------------------\u001b[0m",
      "\u001b[0;31mTypeError\u001b[0m                                 Traceback (most recent call last)",
      "Cell \u001b[0;32mIn[27], line 45\u001b[0m\n\u001b[1;32m     43\u001b[0m \u001b[38;5;66;03m# Dự đoán trên ảnh mới\u001b[39;00m\n\u001b[1;32m     44\u001b[0m img_path \u001b[38;5;241m=\u001b[39m \u001b[38;5;124m'\u001b[39m\u001b[38;5;124m/kaggle/input/vinbigdata-yolo-dataset-with-wbf-640px-16class/vinbigdata-yolo-dataset-with-wbf-640px-16class/test/images/0005e8e3701dfb1dd93d53e2ff537b6e.jpg\u001b[39m\u001b[38;5;124m'\u001b[39m\n\u001b[0;32m---> 45\u001b[0m boxes, scores, class_ids \u001b[38;5;241m=\u001b[39m \u001b[43mpredict_with_thresholds\u001b[49m\u001b[43m(\u001b[49m\u001b[43mimg_path\u001b[49m\u001b[43m)\u001b[49m\n\u001b[1;32m     47\u001b[0m \u001b[38;5;28mprint\u001b[39m(\u001b[38;5;124m\"\u001b[39m\u001b[38;5;124mSố lượng dự đoán:\u001b[39m\u001b[38;5;124m\"\u001b[39m, \u001b[38;5;28mlen\u001b[39m(boxes))\n\u001b[1;32m     48\u001b[0m \u001b[38;5;28mprint\u001b[39m(\u001b[38;5;124m\"\u001b[39m\u001b[38;5;130;01m\\n\u001b[39;00m\u001b[38;5;124mThông tin chi tiết các hộp dự đoán:\u001b[39m\u001b[38;5;124m\"\u001b[39m)\n",
      "Cell \u001b[0;32mIn[27], line 24\u001b[0m, in \u001b[0;36mpredict_with_thresholds\u001b[0;34m(img_path)\u001b[0m\n\u001b[1;32m     23\u001b[0m \u001b[38;5;28;01mdef\u001b[39;00m \u001b[38;5;21mpredict_with_thresholds\u001b[39m(img_path):\n\u001b[0;32m---> 24\u001b[0m     results \u001b[38;5;241m=\u001b[39m \u001b[43mmodel\u001b[49m\u001b[38;5;241;43m.\u001b[39;49m\u001b[43mpredict\u001b[49m\u001b[43m(\u001b[49m\u001b[43mimg_path\u001b[49m\u001b[43m,\u001b[49m\u001b[43m \u001b[49m\u001b[43mconf\u001b[49m\u001b[38;5;241;43m=\u001b[39;49m\u001b[38;5;241;43m0.01\u001b[39;49m\u001b[43m,\u001b[49m\u001b[43m \u001b[49m\u001b[43miou\u001b[49m\u001b[38;5;241;43m=\u001b[39;49m\u001b[38;5;241;43m0.45\u001b[39;49m\u001b[43m,\u001b[49m\u001b[43m \u001b[49m\u001b[43magnostic_nms\u001b[49m\u001b[38;5;241;43m=\u001b[39;49m\u001b[38;5;28;43;01mTrue\u001b[39;49;00m\u001b[43m,\u001b[49m\u001b[43m \u001b[49m\u001b[43mdevice\u001b[49m\u001b[38;5;241;43m=\u001b[39;49m\u001b[38;5;124;43m'\u001b[39;49m\u001b[38;5;124;43m0\u001b[39;49m\u001b[38;5;124;43m'\u001b[39;49m\u001b[43m,\u001b[49m\u001b[43m \u001b[49m\u001b[43mmax_det\u001b[49m\u001b[38;5;241;43m=\u001b[39;49m\u001b[38;5;241;43m300\u001b[39;49m\u001b[43m)\u001b[49m\n\u001b[1;32m     26\u001b[0m     boxes \u001b[38;5;241m=\u001b[39m []\n\u001b[1;32m     27\u001b[0m     scores \u001b[38;5;241m=\u001b[39m []\n",
      "\u001b[0;31mTypeError\u001b[0m: HPYOLOv8.predict() takes 1 positional argument but 2 were given"
     ]
    }
   ],
   "source": [
    "import numpy as np\n",
    "\n",
    "# Đưa ra ngưỡng riêng cho từng lớp\n",
    "class_thresholds = [0.5] * len(val_results.box.ap50)  # Khởi tạo ngưỡng mặc định cho tất cả các lớp\n",
    "\n",
    "for class_id in range(len(val_results.box.ap50)):\n",
    "    if class_id < len(val_results.box.p):  # Kiểm tra xem class_id có hợp lệ không\n",
    "        precision = val_results.box.p[class_id]\n",
    "        recall = val_results.box.r[class_id]\n",
    "        f1 = val_results.box.f1[class_id]\n",
    "        \n",
    "        #  Sử dụng F1 score làm ngưỡng cho mỗi lớp thay vì trung bình của precision và recall. F1 score là một thước đo cân bằng giữa precision và recall.\n",
    "        #  Đặt ngưỡng tối thiểu là 0.1 để tránh ngưỡng quá thấp có thể dẫn đến quá nhiều dự đoán sai.\n",
    "        \n",
    "        # Tính ngưỡng tối ưu dựa trên F1 score\n",
    "        threshold = f1  # Sử dụng F1 score làm ngưỡng\n",
    "        \n",
    "        class_thresholds[class_id] = max(threshold, 0.01)  # Đặt ngưỡng tối thiểu là 0.1\n",
    "\n",
    "print(\"Ngưỡng của từng lớp:\", class_thresholds)\n",
    "\n",
    "# Hàm dự đoán với ngưỡng riêng cho từng lớp\n",
    "def predict_with_thresholds(img_path):\n",
    "    results = model.predict(img_path, conf=0.01, iou=0.45, agnostic_nms=True, device='0', max_det=300)\n",
    "    \n",
    "    boxes = []\n",
    "    scores = []\n",
    "    class_ids = []\n",
    "    \n",
    "    for result in results:\n",
    "        for box, score, class_id in zip(result.boxes.xyxy, result.boxes.conf, result.boxes.cls):\n",
    "            class_id = int(class_id)\n",
    "            if class_id < len(class_thresholds) and score >= class_thresholds[class_id]:\n",
    "                boxes.append(box.tolist())\n",
    "                scores.append(float(score))\n",
    "                class_ids.append(class_id)\n",
    "    \n",
    "    return boxes, scores, class_ids\n",
    "\n",
    "# Danh sách tên lớp\n",
    "class_names = ['Aortic_enlargement', 'Atelectasis', 'Calcification', 'Cardiomegaly', 'Consolidation', 'ILD', 'Infiltration', 'Lung_Opacity', 'Nodule/Mass', 'Other_lesion', 'Pleural_effusion', 'Pleural_thickening', 'Pneumothorax', 'Pulmonary_fibrosis', 'No finding', 'Finding']\n",
    "\n",
    "# Dự đoán trên ảnh mới\n",
    "img_path = '/kaggle/input/vinbigdata-yolo-dataset-with-wbf-640px-16class/vinbigdata-yolo-dataset-with-wbf-640px-16class/test/images/0005e8e3701dfb1dd93d53e2ff537b6e.jpg'\n",
    "boxes, scores, class_ids = predict_with_thresholds(img_path)\n",
    "\n",
    "print(\"Số lượng dự đoán:\", len(boxes))\n",
    "print(\"\\nThông tin chi tiết các hộp dự đoán:\")\n",
    "for i, (box, score, class_id) in enumerate(zip(boxes, scores, class_ids)):\n",
    "    print(f\"Dự đoán {i+1}:\")\n",
    "    print(f\"  Hộp giới hạn: {box}\")\n",
    "    print(f\"  Độ tự tin: {score:.4f}\")\n",
    "    print(f\"  Lớp ID: {class_id}\")\n",
    "    print(f\"  Tên lớp: {class_names[class_id]}\")\n",
    "    print()"
   ]
  },
  {
   "cell_type": "code",
   "execution_count": null,
   "id": "19a3db84",
   "metadata": {
    "papermill": {
     "duration": null,
     "end_time": null,
     "exception": null,
     "start_time": null,
     "status": "pending"
    },
    "tags": []
   },
   "outputs": [],
   "source": []
  }
 ],
 "metadata": {
  "kaggle": {
   "accelerator": "nvidiaTeslaT4",
   "dataSources": [
    {
     "datasetId": 5719062,
     "sourceId": 9416880,
     "sourceType": "datasetVersion"
    },
    {
     "sourceId": 197864343,
     "sourceType": "kernelVersion"
    }
   ],
   "dockerImageVersionId": 30762,
   "isGpuEnabled": true,
   "isInternetEnabled": true,
   "language": "python",
   "sourceType": "notebook"
  },
  "kernelspec": {
   "display_name": "Python 3",
   "language": "python",
   "name": "python3"
  },
  "language_info": {
   "codemirror_mode": {
    "name": "ipython",
    "version": 3
   },
   "file_extension": ".py",
   "mimetype": "text/x-python",
   "name": "python",
   "nbconvert_exporter": "python",
   "pygments_lexer": "ipython3",
   "version": "3.10.14"
  },
  "papermill": {
   "default_parameters": {},
   "duration": 40759.169123,
   "end_time": "2024-09-24T22:09:43.257924",
   "environment_variables": {},
   "exception": true,
   "input_path": "__notebook__.ipynb",
   "output_path": "__notebook__.ipynb",
   "parameters": {},
   "start_time": "2024-09-24T10:50:24.088801",
   "version": "2.6.0"
  }
 },
 "nbformat": 4,
 "nbformat_minor": 5
}
